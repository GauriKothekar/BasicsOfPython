{
  "cells": [
    {
      "cell_type": "code",
      "execution_count": null,
      "metadata": {
        "colab": {
          "base_uri": "https://localhost:8080/"
        },
        "id": "yKTnZrRPtmuT",
        "outputId": "92dad76a-d0d2-4d42-a7ce-7e6a0d6f163e"
      },
      "outputs": [
        {
          "name": "stdout",
          "output_type": "stream",
          "text": [
            "gauri kothekar\n"
          ]
        }
      ],
      "source": [
        "print(\"gauri kothekar\")"
      ]
    },
    {
      "cell_type": "code",
      "execution_count": null,
      "metadata": {
        "id": "sRNvBQEMVGJX"
      },
      "outputs": [],
      "source": []
    },
    {
      "cell_type": "code",
      "execution_count": null,
      "metadata": {
        "colab": {
          "base_uri": "https://localhost:8080/"
        },
        "id": "FL-sTRq1Sguv",
        "outputId": "088430ac-b95b-400b-f01c-575ff49774e5"
      },
      "outputs": [
        {
          "name": "stdout",
          "output_type": "stream",
          "text": [
            "gaurigaurigaurigaurigaurigaurigaurigaurigaurigaurigaurigaurigaurigaurigaurigaurigaurigaurigaurigauri\n"
          ]
        }
      ],
      "source": [
        "str1=\"gauri\"\n",
        "x=20\n",
        "print( x * str1) #static loop"
      ]
    },
    {
      "cell_type": "code",
      "execution_count": null,
      "metadata": {
        "id": "gZFn16nSVEsp"
      },
      "outputs": [],
      "source": []
    },
    {
      "cell_type": "code",
      "execution_count": null,
      "metadata": {
        "id": "YPZcrX6vyjN0"
      },
      "outputs": [],
      "source": []
    },
    {
      "cell_type": "markdown",
      "metadata": {
        "id": "jw0QPmX87ted"
      },
      "source": [
        "# `**5** **june** **2023**`"
      ]
    },
    {
      "cell_type": "code",
      "execution_count": null,
      "metadata": {
        "id": "p0dtLfyE-FbP"
      },
      "outputs": [],
      "source": []
    },
    {
      "cell_type": "code",
      "execution_count": null,
      "metadata": {
        "colab": {
          "base_uri": "https://localhost:8080/"
        },
        "id": "DYgl75JJtwRS",
        "outputId": "f0182531-6627-4edc-abad-e7192e1f4e0f"
      },
      "outputs": [
        {
          "name": "stdout",
          "output_type": "stream",
          "text": [
            "200\n"
          ]
        }
      ],
      "source": [
        "num1=100\n",
        "num1=200\n",
        "print(num1)"
      ]
    },
    {
      "cell_type": "code",
      "execution_count": null,
      "metadata": {
        "colab": {
          "base_uri": "https://localhost:8080/"
        },
        "id": "EMkvqKlVu4zI",
        "outputId": "705f851e-1a66-4218-ec15-3ae23ee24801"
      },
      "outputs": [
        {
          "name": "stdout",
          "output_type": "stream",
          "text": [
            "f\n",
            "b\n",
            "abcdef\n",
            "abcdef\n",
            "abcde\n",
            "fedcba\n",
            "cde\n",
            "f\n"
          ]
        }
      ],
      "source": [
        "str=\"abcdef\"\n",
        "print(str[-1])\n",
        "print(str[1])\n",
        "print(str[:])\n",
        "print(str[::])\n",
        "print(str[:-1])\n",
        "print(str[::-1])\n",
        "print(str[2:-1])\n",
        "print(str[-1:])"
      ]
    },
    {
      "cell_type": "code",
      "execution_count": null,
      "metadata": {
        "colab": {
          "base_uri": "https://localhost:8080/",
          "height": 184
        },
        "id": "preR7ca2Go4Z",
        "outputId": "4bc62c39-c343-40e7-c0e9-f5fc180cca4e"
      },
      "outputs": [
        {
          "ename": "TypeError",
          "evalue": "ignored",
          "output_type": "error",
          "traceback": [
            "\u001b[0;31m---------------------------------------------------------------------------\u001b[0m",
            "\u001b[0;31mTypeError\u001b[0m                                 Traceback (most recent call last)",
            "\u001b[0;32m<ipython-input-107-822d18206e7c>\u001b[0m in \u001b[0;36m<cell line: 1>\u001b[0;34m()\u001b[0m\n\u001b[0;32m----> 1\u001b[0;31m \u001b[0;32mdel\u001b[0m \u001b[0mstr\u001b[0m\u001b[0;34m[\u001b[0m\u001b[0;36m1\u001b[0m\u001b[0;34m]\u001b[0m\u001b[0;34m\u001b[0m\u001b[0;34m\u001b[0m\u001b[0m\n\u001b[0m\u001b[1;32m      2\u001b[0m \u001b[0mprint\u001b[0m\u001b[0;34m(\u001b[0m\u001b[0mstr\u001b[0m\u001b[0;34m)\u001b[0m\u001b[0;34m\u001b[0m\u001b[0;34m\u001b[0m\u001b[0m\n",
            "\u001b[0;31mTypeError\u001b[0m: 'str' object doesn't support item deletion"
          ]
        }
      ],
      "source": [
        "del str[1]\n",
        "print(str)\n"
      ]
    },
    {
      "cell_type": "code",
      "execution_count": null,
      "metadata": {
        "id": "qkGpFKtcwAyK"
      },
      "outputs": [],
      "source": [
        "str1=str.upper()\n",
        "print(str1)"
      ]
    },
    {
      "cell_type": "code",
      "execution_count": null,
      "metadata": {
        "id": "z5sPNlt9wF_F"
      },
      "outputs": [],
      "source": [
        "print(str.lower())"
      ]
    },
    {
      "cell_type": "code",
      "execution_count": null,
      "metadata": {
        "id": "gSpddJGRvqkp"
      },
      "outputs": [],
      "source": [
        "list1 = ['a','b','c','d','e']\n",
        "print(list1)"
      ]
    },
    {
      "cell_type": "code",
      "execution_count": null,
      "metadata": {
        "id": "hIY5Jj_9w-5q"
      },
      "outputs": [],
      "source": [
        "list1.append('gauri')\n",
        "print(list1)"
      ]
    },
    {
      "cell_type": "code",
      "execution_count": null,
      "metadata": {
        "id": "0JT8RlPgxBih"
      },
      "outputs": [],
      "source": [
        "list1.extend(\"ab\")\n",
        "print(list1)"
      ]
    },
    {
      "cell_type": "code",
      "execution_count": null,
      "metadata": {
        "id": "K49PCVElxR4A"
      },
      "outputs": [],
      "source": [
        "list1.insert(2 ,'kothekar')\n",
        "print(list1)"
      ]
    },
    {
      "cell_type": "code",
      "execution_count": null,
      "metadata": {
        "id": "uysLw3HgyJ55"
      },
      "outputs": [],
      "source": [
        "list1.pop()\n",
        "print(list1)"
      ]
    },
    {
      "cell_type": "code",
      "execution_count": null,
      "metadata": {
        "id": "CasNL2b2yQV1"
      },
      "outputs": [],
      "source": [
        "list1.pop(5)\n",
        "print(list1)"
      ]
    },
    {
      "cell_type": "code",
      "execution_count": null,
      "metadata": {
        "id": "kiPaNblLyWbE"
      },
      "outputs": [],
      "source": [
        "list1.remove(\"kothekar\")\n",
        "print(list1)"
      ]
    },
    {
      "cell_type": "code",
      "execution_count": null,
      "metadata": {
        "id": "tjriZ0FxycfS"
      },
      "outputs": [],
      "source": [
        "list1.clear()\n",
        "print(list1)"
      ]
    },
    {
      "cell_type": "code",
      "execution_count": null,
      "metadata": {
        "id": "S38V_JNsymza"
      },
      "outputs": [],
      "source": [
        "del list1\n"
      ]
    },
    {
      "cell_type": "code",
      "execution_count": null,
      "metadata": {
        "id": "FVIhdIh2ypUd"
      },
      "outputs": [],
      "source": [
        "print(list1)"
      ]
    },
    {
      "cell_type": "markdown",
      "metadata": {
        "id": "OAg9GPwf77lK"
      },
      "source": [
        "# **6 june 2023**"
      ]
    },
    {
      "cell_type": "code",
      "execution_count": null,
      "metadata": {
        "id": "lZ2xCbLR8SFN"
      },
      "outputs": [],
      "source": [
        "#tuple creation\n",
        "tup=(1,2,3)\n",
        "print(tup[1])\n",
        "# print(tup.index(1))"
      ]
    },
    {
      "cell_type": "code",
      "execution_count": null,
      "metadata": {
        "id": "V3Xc0whRhL2R"
      },
      "outputs": [],
      "source": [
        "tup1=(2,4,5)\n",
        "tup2=(4,7,8)\n",
        "print(tup1+tup2) #concatenation\n"
      ]
    },
    {
      "cell_type": "code",
      "execution_count": null,
      "metadata": {
        "id": "fK2lrUKehmZ1"
      },
      "outputs": [],
      "source": [
        "#methods index and count\n",
        "\n",
        "print(tup1[1])\n",
        "\n",
        "\n",
        "tup3=(2,3,3,3,3,4)\n",
        "print(tup3.count(3))\n",
        "print(tup3.index(3))"
      ]
    },
    {
      "cell_type": "code",
      "execution_count": null,
      "metadata": {
        "id": "O7dyTbFLiR84"
      },
      "outputs": [],
      "source": [
        "#tuple inside list\n",
        "li=[(2,4),5]\n",
        "print(li[0][1])"
      ]
    },
    {
      "cell_type": "code",
      "execution_count": null,
      "metadata": {
        "id": "3QTAxEKeieil"
      },
      "outputs": [],
      "source": [
        "#list inside tuple\n",
        "tupp=([1,2,3,4],7)\n",
        "print(tupp[0])\n",
        "print(tupp.count(7))"
      ]
    },
    {
      "cell_type": "code",
      "execution_count": null,
      "metadata": {
        "id": "Gk9UIZ6hi4gu"
      },
      "outputs": [],
      "source": [
        "tup4 = ()\n",
        "tup5=(50)\n",
        "print(tup4+tup5)"
      ]
    },
    {
      "cell_type": "code",
      "execution_count": null,
      "metadata": {
        "id": "MTvSxGQFSO1e"
      },
      "outputs": [],
      "source": [
        "tup4 = ()\n",
        "tup5=(50,)\n",
        "print(tup4+tup5)"
      ]
    },
    {
      "cell_type": "code",
      "execution_count": null,
      "metadata": {
        "id": "yyN88g-PjTTl"
      },
      "outputs": [],
      "source": [
        "dic1={1:2,3:5 ,\"x\":\"y\"}\n",
        "print(dic1[3])      # no indexing , it is done by key\n"
      ]
    },
    {
      "cell_type": "code",
      "execution_count": null,
      "metadata": {
        "id": "HWFN110Gktw9"
      },
      "outputs": [],
      "source": [
        "#add method\n",
        "dic1={1:2,3:5 ,\"x\":\"y\"}\n",
        "print(dic1.update({\"gauri\":\"kothekar\"}))\n",
        "\n"
      ]
    },
    {
      "cell_type": "code",
      "execution_count": null,
      "metadata": {
        "id": "bXKrXHOzlmdc"
      },
      "outputs": [],
      "source": [
        "dic1={1:2,3:5 ,\"x\":\"y\"}\n",
        "dic1.update({\"gauri\":\"kothekar\"}) #add ke liye update\n",
        "print(dic1)"
      ]
    },
    {
      "cell_type": "code",
      "execution_count": null,
      "metadata": {
        "id": "fxXcWamHyko-"
      },
      "outputs": [],
      "source": [
        "# update\n",
        "dic1[3]=\"gauri\"\n",
        "print(dic1)"
      ]
    },
    {
      "cell_type": "code",
      "execution_count": null,
      "metadata": {
        "id": "EydVVEO3zLfX"
      },
      "outputs": [],
      "source": [
        "# remove\n",
        "\n",
        "dic1.pop(1) #pop with key\n",
        "print(dic1)"
      ]
    },
    {
      "cell_type": "code",
      "execution_count": null,
      "metadata": {
        "id": "h-bVyYnj2S0Z"
      },
      "outputs": [],
      "source": [
        "dic1.popitem()\n",
        "print(dic1)"
      ]
    },
    {
      "cell_type": "code",
      "execution_count": null,
      "metadata": {
        "id": "xBuNxj_V2T-c"
      },
      "outputs": [],
      "source": [
        "#clear and del"
      ]
    },
    {
      "cell_type": "code",
      "execution_count": null,
      "metadata": {
        "id": "VGVTfbYH2XxH"
      },
      "outputs": [],
      "source": [
        "print(dic1.keys()) #stored in the form of list"
      ]
    },
    {
      "cell_type": "code",
      "execution_count": null,
      "metadata": {
        "id": "UzO4ClVG2h_2"
      },
      "outputs": [],
      "source": [
        "print(dic1.values())   #stored in the form of list"
      ]
    },
    {
      "cell_type": "code",
      "execution_count": null,
      "metadata": {
        "id": "J4o4IT-12rP9"
      },
      "outputs": [],
      "source": [
        "set1={1,2,3,4,5}\n",
        "print(set)"
      ]
    },
    {
      "cell_type": "code",
      "execution_count": null,
      "metadata": {
        "id": "4qXrNQpz2x4-"
      },
      "outputs": [],
      "source": [
        "#methods\n",
        "\n",
        "#add and remove\n",
        "set1.add(6)\n",
        "print(set1)\n",
        "\n"
      ]
    },
    {
      "cell_type": "code",
      "execution_count": null,
      "metadata": {
        "id": "wHEp4Tmw3J-l"
      },
      "outputs": [],
      "source": [
        "set1.remove(4)\n",
        "print(set1)"
      ]
    },
    {
      "cell_type": "code",
      "execution_count": null,
      "metadata": {
        "id": "CoCijUEZ3OaB"
      },
      "outputs": [],
      "source": [
        "set1={1,2,3,4,5}\n",
        "set2={6,7,8,9,0}\n",
        "print(set1.union(set2))\n"
      ]
    },
    {
      "cell_type": "code",
      "execution_count": null,
      "metadata": {
        "id": "4cPD7IhK3ZPv"
      },
      "outputs": [],
      "source": [
        "set1={1,2,3,4,5}\n",
        "set2={6,7,8,9,0}\n",
        "print(set1.intersection(set2))"
      ]
    },
    {
      "cell_type": "code",
      "execution_count": null,
      "metadata": {
        "id": "-rvLgHJy3e6F"
      },
      "outputs": [],
      "source": [
        "set1={1,2,3,4,5}\n",
        "set2={6,7,8,9,0}\n",
        "print(set1.difference(set2))"
      ]
    },
    {
      "cell_type": "code",
      "execution_count": null,
      "metadata": {
        "id": "mlWANm-33m1v"
      },
      "outputs": [],
      "source": [
        "set1={1,2,3,4,5}\n",
        "set2={6,7,8,9,0}\n",
        "print(set1.symmetric_difference(set2))"
      ]
    },
    {
      "cell_type": "code",
      "execution_count": null,
      "metadata": {
        "id": "mfg4wEgF3uew"
      },
      "outputs": [],
      "source": [
        "print(set1 | set2)\n",
        "print(set1 & set2)\n",
        "print(set1 - set2)\n",
        "print(set1 ^ set2)"
      ]
    },
    {
      "cell_type": "code",
      "execution_count": null,
      "metadata": {
        "id": "mcgx0_BX38gF"
      },
      "outputs": [],
      "source": [
        "#control statements\n",
        "\n",
        "#if....\n",
        "x=5\n",
        "if x==5:\n",
        "  print(\"the number matches\")"
      ]
    },
    {
      "cell_type": "code",
      "execution_count": null,
      "metadata": {
        "id": "qTvGyj7_4F5H"
      },
      "outputs": [],
      "source": [
        "x,y=5,6\n",
        "if x<y:\n",
        "  print(\"x is lesser\")\n",
        "else:\n",
        "  print(\"x is greater\")"
      ]
    },
    {
      "cell_type": "code",
      "execution_count": null,
      "metadata": {
        "id": "w5NJ9x7546Zc"
      },
      "outputs": [],
      "source": [
        "x,y,z=5,6,7\n",
        "if x<y:\n",
        "  print(\"x is smallest\")\n",
        "elif x>y:\n",
        "  print(\" x is larger\")\n",
        "else:\n",
        "  print(\" y is largest\")\n"
      ]
    },
    {
      "cell_type": "code",
      "execution_count": null,
      "metadata": {
        "id": "B7Cc-dyl5RTg"
      },
      "outputs": [],
      "source": [
        "x=20\n",
        "if x%3==0:\n",
        "  if x%5==0:\n",
        "    print(\"it is divisible by both\")\n",
        "  else:\n",
        "    print(\"5 se nahi\")\n",
        "else:\n",
        "  print(\" nhi\")"
      ]
    },
    {
      "cell_type": "code",
      "execution_count": null,
      "metadata": {
        "id": "5Oswp3Oi53et"
      },
      "outputs": [],
      "source": [
        "x=[1,2,3,4,5]\n",
        "for i in x:\n",
        "  print(i)"
      ]
    },
    {
      "cell_type": "code",
      "execution_count": null,
      "metadata": {
        "id": "U_Q5XbiD6KIN"
      },
      "outputs": [],
      "source": [
        "for i in range(0,15):\n",
        "  print(i*i)"
      ]
    },
    {
      "cell_type": "code",
      "execution_count": null,
      "metadata": {
        "id": "u64qERFe6QBH"
      },
      "outputs": [],
      "source": [
        "x=10\n",
        "i=0\n",
        "while(i<x):\n",
        "  print(\"hello itm\")\n",
        "  i=i+1\n"
      ]
    },
    {
      "cell_type": "code",
      "execution_count": null,
      "metadata": {
        "id": "znPwTWaA6eFa"
      },
      "outputs": [],
      "source": [
        "x=10\n",
        "i=0\n",
        "while(i<x):\n",
        "  print(\"hello itm\")\n",
        "  i=i+1\n",
        "  break"
      ]
    },
    {
      "cell_type": "code",
      "execution_count": null,
      "metadata": {
        "id": "CHj8VPkq6gyi"
      },
      "outputs": [],
      "source": [
        "\n",
        "\n"
      ]
    },
    {
      "cell_type": "code",
      "execution_count": null,
      "metadata": {
        "id": "2oW6Potp77FW"
      },
      "outputs": [],
      "source": [
        "i=0\n",
        "n=10\n",
        "while i<n:\n",
        "  i=i+1\n",
        "  if i==6:\n",
        "    continue\n",
        "  print(i)"
      ]
    },
    {
      "cell_type": "code",
      "execution_count": null,
      "metadata": {
        "id": "TsxUfi4m8Dnp"
      },
      "outputs": [],
      "source": [
        "#for....else\n",
        "\n",
        "li=[1,2,3,4]\n",
        "for i in li:\n",
        "  if i==2:\n",
        "    print(i)\n",
        "else:\n",
        "  print(\"hy\")"
      ]
    },
    {
      "cell_type": "code",
      "execution_count": null,
      "metadata": {
        "id": "XspuOjla8y8N"
      },
      "outputs": [],
      "source": [
        "#for ....while\n",
        "li1=[1,2,3,4]\n",
        "while li1:\n",
        "  print(li1)\n",
        "\n",
        "\n",
        "else:\n",
        "  print(\"bye\")\n"
      ]
    },
    {
      "cell_type": "code",
      "execution_count": null,
      "metadata": {
        "id": "dvozZXmD-Ipx"
      },
      "outputs": [],
      "source": [
        "#list comprehension\n",
        "\n",
        "list1=[x for x in range (0 , 10)]\n",
        "print(list1)"
      ]
    },
    {
      "cell_type": "code",
      "execution_count": null,
      "metadata": {
        "id": "XsqzJ-9a-WfT"
      },
      "outputs": [],
      "source": [
        "list2=[x  * x for x in range(0,10)]\n",
        "print(list2)\n"
      ]
    },
    {
      "cell_type": "code",
      "execution_count": null,
      "metadata": {
        "id": "v865jWhJ-j7A"
      },
      "outputs": [],
      "source": [
        "# dictionary comprehension\n",
        "\n",
        "list3={x: x*x for x in range(0,20)}\n",
        "print(list3)"
      ]
    },
    {
      "cell_type": "code",
      "execution_count": null,
      "metadata": {
        "id": "hYBbAf0F--Yl"
      },
      "outputs": [],
      "source": [
        "# zip function\n",
        "\n",
        "li1=[1,2,3,4,5]\n",
        "li2=[2,3,4,5,6]\n",
        "for i in zip(li1,li2):\n",
        "  print(i)"
      ]
    },
    {
      "cell_type": "code",
      "execution_count": null,
      "metadata": {
        "id": "440JJOEJ_PQv"
      },
      "outputs": [],
      "source": [
        "li1=[1,2,3,4,5]\n",
        "li2=[2,3,4,5,6]\n",
        "\n",
        "for i_li1 , i_li2 in zip(li1,li2):\n",
        "  print(i_li1,i_li2)"
      ]
    },
    {
      "cell_type": "markdown",
      "metadata": {
        "id": "z3Te9gFKaYwn"
      },
      "source": [
        "**`7 june 2023`**\n",
        "\n"
      ]
    },
    {
      "cell_type": "code",
      "execution_count": null,
      "metadata": {
        "id": "olEZDf1JstHw"
      },
      "outputs": [],
      "source": [
        "def foo(x):\n",
        "  print(x)\n",
        "\n",
        "foo(5)"
      ]
    },
    {
      "cell_type": "code",
      "execution_count": null,
      "metadata": {
        "id": "zlwxyZzftHYe"
      },
      "outputs": [],
      "source": [
        "def foo(x,y):\n",
        "  print( x+y)\n",
        "\n",
        "\n",
        "foo(4,5)"
      ]
    },
    {
      "cell_type": "code",
      "execution_count": null,
      "metadata": {
        "id": "xU9xQi8ptTM4"
      },
      "outputs": [],
      "source": [
        "#creating tuple and multiple values can be stored\n",
        "\n",
        "def foo(*num):\n",
        "  print(num)\n",
        "\n",
        "\n",
        "\n",
        "foo(10,20,40,50)"
      ]
    },
    {
      "cell_type": "code",
      "execution_count": null,
      "metadata": {
        "id": "WOBAjqk8tqx3"
      },
      "outputs": [],
      "source": [
        "def foo(**num):\n",
        "  print(num)\n",
        "\n",
        "\n",
        "foo(hy =\"gauri\")"
      ]
    },
    {
      "cell_type": "code",
      "execution_count": null,
      "metadata": {
        "id": "IUUKwjoMuVQd"
      },
      "outputs": [],
      "source": [
        "def foo():\n",
        "  print(\"gauri\")\n",
        "\n",
        "print(foo())"
      ]
    },
    {
      "cell_type": "code",
      "execution_count": null,
      "metadata": {
        "id": "DrcKyYfY89DO"
      },
      "outputs": [],
      "source": [
        "def big(a,b):\n",
        "  res=a+b\n",
        "  return res\n",
        "\n",
        "  def small():\n",
        "    rsqr=res**2\n",
        "    return rsqr\n",
        "  return small\n",
        "\n",
        "print(big(10,20))\n"
      ]
    },
    {
      "cell_type": "markdown",
      "source": [],
      "metadata": {
        "id": "qXfuYBd4vgEH"
      }
    },
    {
      "cell_type": "code",
      "execution_count": null,
      "metadata": {
        "id": "7Yacd0gZ9_YV"
      },
      "outputs": [],
      "source": [
        "def big(a,b):\n",
        "  res=a+b\n",
        "\n",
        "  def small():\n",
        "    rsqr=res**2\n",
        "    return rsqr\n",
        "  return small\n",
        "\n",
        "print(big(10,20))"
      ]
    },
    {
      "cell_type": "code",
      "execution_count": null,
      "metadata": {
        "id": "sc4jaEOp-SZR"
      },
      "outputs": [],
      "source": [
        "def big(a,b):\n",
        "  res=a+b\n",
        "\n",
        "  def small():\n",
        "    rsqr=res**2\n",
        "    return rsqr\n",
        "  return small()\n",
        "\n",
        "print(big(10,20))"
      ]
    },
    {
      "cell_type": "code",
      "execution_count": null,
      "metadata": {
        "id": "CjZqGqaM-Cmf"
      },
      "outputs": [],
      "source": [
        "def big(a,b):\n",
        "  res=a+b\n",
        "  yield res\n",
        "\n",
        "  def small():\n",
        "    rsqr=res**2\n",
        "    return rsqr\n",
        "  return small()\n",
        "\n",
        "print(big(10,20))"
      ]
    },
    {
      "cell_type": "code",
      "execution_count": null,
      "metadata": {
        "id": "2Xq8lNvG-1nC"
      },
      "outputs": [],
      "source": []
    },
    {
      "cell_type": "code",
      "execution_count": null,
      "metadata": {
        "id": "7r0mcIiP94oq"
      },
      "outputs": [],
      "source": []
    },
    {
      "cell_type": "code",
      "execution_count": null,
      "metadata": {
        "id": "swtSJuspabqe"
      },
      "outputs": [],
      "source": [
        "# decorator\n",
        "# allows you to modify the functionality of function.it wraps inside .\n",
        "#In Python, a decorator is a design pattern that allows you to modify the functionality of a function by wrapping it in another function.\n",
        "\n",
        "# The outer function is called the decorator, which takes the original function as an argument and returns a modified version of it.\n",
        "\n",
        "def outer(x):\n",
        "  def inner(y):\n",
        "    return y+y\n",
        "  return inner\n",
        "\n",
        "valu1=outer(5)\n",
        "value=valu1(6)\n",
        "print(value)\n",
        "\n",
        "\n"
      ]
    },
    {
      "cell_type": "code",
      "execution_count": null,
      "metadata": {
        "id": "reRQ888BcR-1"
      },
      "outputs": [],
      "source": [
        "# decorator\n",
        "# allows you to modify the functionality of function.it wraps inside .\n",
        "#In Python, a decorator is a design pattern that allows you to modify the functionality of a function by wrapping it in another function.\n",
        "\n",
        "# The outer function is called the decorator, which takes the original function as an argument and returns a modified version of it.\n",
        "\n",
        "def outer(x):\n",
        "  def inner():\n",
        "    return x+x\n",
        "  return inner\n",
        "\n",
        "valu1=outer(5)\n",
        "value=valu1()\n",
        "print(value)\n",
        "\n",
        "\n"
      ]
    },
    {
      "cell_type": "code",
      "execution_count": null,
      "metadata": {
        "id": "Z0DzgQWjgSne"
      },
      "outputs": [],
      "source": [
        "def hello():\n",
        "    def hi():\n",
        "        print(\"Hello\")\n",
        "    return hi\n",
        "new = hello()\n",
        "new()"
      ]
    },
    {
      "cell_type": "code",
      "execution_count": null,
      "metadata": {
        "id": "7P4YURmciEly"
      },
      "outputs": [],
      "source": [
        "#iterator\n",
        "\n",
        "mytuple = [1,2,3,4,5]\n",
        "my = iter(mytuple)\n",
        "# print(my)\n",
        "# print(next(my))\n",
        "for i in my:\n",
        "  print(i)"
      ]
    },
    {
      "cell_type": "code",
      "execution_count": null,
      "metadata": {
        "id": "YQMFBJ2GjHpq"
      },
      "outputs": [],
      "source": [
        "def table(num):\n",
        "  w=iter(num)\n",
        "  return w\n",
        "\n",
        "\n",
        "table(\"hi\")\n",
        "\n"
      ]
    },
    {
      "cell_type": "code",
      "execution_count": null,
      "metadata": {
        "id": "fxRQ4SBBkQWc"
      },
      "outputs": [],
      "source": [
        "def table(num):\n",
        "  w=iter(num)\n",
        "\n",
        "  for i in w:\n",
        "    print(i)\n",
        "\n",
        "table(\"gauri\")"
      ]
    },
    {
      "cell_type": "code",
      "execution_count": null,
      "metadata": {
        "id": "BTinT16JlLU-"
      },
      "outputs": [],
      "source": [
        "def table(num):\n",
        "  # w=iter(num)\n",
        "\n",
        "  for i in iter(range(num)):\n",
        "    print(i)\n",
        "\n",
        "table(20)"
      ]
    },
    {
      "cell_type": "code",
      "execution_count": null,
      "metadata": {
        "id": "DUJou6d7lfyN"
      },
      "outputs": [],
      "source": []
    },
    {
      "cell_type": "code",
      "execution_count": null,
      "metadata": {
        "id": "7ZzR09hmmeNo"
      },
      "outputs": [],
      "source": [
        "def myname(func):\n",
        "  print(\"gauri\")\n",
        "  def mysurname():\n",
        "    print(\"kothekar\")\n",
        "  return mysurname\n",
        "\n",
        "\n",
        "@myname\n",
        "\n",
        "def daily_backup():\n",
        "  print('Daily backup job has finished.')\n",
        "\n",
        "\n",
        "daily_backup()\n",
        "\n",
        "\n"
      ]
    },
    {
      "cell_type": "code",
      "execution_count": null,
      "metadata": {
        "id": "vzSKKWFVoaIg"
      },
      "outputs": [],
      "source": [
        "def myname(func):\n",
        "  print(\"gauri\")\n",
        "  func()\n",
        "  def mysurname():\n",
        "    print(\"kothekar\")\n",
        "    func()\n",
        "  return mysurname\n",
        "\n",
        "\n",
        "@myname\n",
        "\n",
        "def daily_backup():\n",
        "  print('Daily backup job has finished.')\n",
        "\n",
        "\n",
        "daily_backup()"
      ]
    },
    {
      "cell_type": "code",
      "execution_count": null,
      "metadata": {
        "id": "jlKjIEwKo2h8"
      },
      "outputs": [],
      "source": [
        "def gen_func(x,y):\n",
        "  z=x+y\n",
        "  return z\n",
        "\n",
        "gen_func(2,5)"
      ]
    },
    {
      "cell_type": "code",
      "execution_count": null,
      "metadata": {
        "id": "dWJOih4Jqhc7"
      },
      "outputs": [],
      "source": [
        "# #The yield keyword in Python is similar to a return statement used for returning values in Python which returns a generator object to the one who calls the function which contains yield, instead of simply returning a value. The main difference between them is, the return statement terminates the execution of the function. Whereas, the yield statement only pauses the execution of the function. Another difference is return statements are never executed. whereas, yield statements are executed when the function resumes its execution.\n",
        "\n",
        "# Advantages of yield:\n",
        "\n",
        "# Using yield keyword is highly memory efficient, since the execution happens only when the caller iterates over the object.\n",
        "# As the variables states are saved, we can pause and resume from the same point, thus saving time.\n",
        "# Disadvantages of yield:\n",
        "\n",
        "# Sometimes it becomes hard to understand the flow of code due to multiple times of value return from the function generator.\n",
        "# Calling of generator functions must be handled properly, else might cause errors in program\n",
        "\n",
        "\n",
        "\n",
        "def gen_func(x,y):\n",
        "  yield x+y  #uses iterator\n",
        "\n",
        "\n",
        "# gen_func(2,4)\n",
        "\n",
        "for i in gen_func(4,7):\n",
        "  print(i)\n",
        "\n",
        "print(next(gen_func(2,4)))\n"
      ]
    },
    {
      "cell_type": "code",
      "execution_count": null,
      "metadata": {
        "id": "7PYJGxTxMrq6"
      },
      "outputs": [],
      "source": [
        "\n",
        "def gen_func(x,y):\n",
        "  yield x+y  #uses iterator\n",
        "  return x+y\n",
        "\n",
        "\n",
        "# gen_func(2,4)\n",
        "\n",
        "for i in gen_func(4,7):\n",
        "  print(i)\n",
        "\n",
        "print(next(gen_func(2,4)))\n",
        "\n",
        "o=gen_func(4,5)\n",
        "y=o()\n",
        "print(y)"
      ]
    },
    {
      "cell_type": "code",
      "execution_count": null,
      "metadata": {
        "id": "bXKuQAXrNaY9"
      },
      "outputs": [],
      "source": [
        "def add(x,y):\n",
        "  yield x+y  #uses iterator yield makes int interator\n",
        "\n",
        "def sub(x,y):\n",
        "  return x-y\n",
        "\n",
        "print(next(add(5,2)))\n",
        "# print(next(sub(5,2)))\n",
        "sub(5,2)"
      ]
    },
    {
      "cell_type": "code",
      "execution_count": null,
      "metadata": {
        "id": "jHIMJsMwr8MP"
      },
      "outputs": [],
      "source": [
        "def gauri(x,y):\n",
        "  yield x+y\n",
        "\n",
        "k=gauri(5,4)\n",
        "print(next(k))"
      ]
    },
    {
      "cell_type": "code",
      "execution_count": null,
      "metadata": {
        "id": "EZerJ7X2-26O"
      },
      "outputs": [],
      "source": [
        "def even(func):\n",
        "  print(\"number is even\")\n",
        "  func()\n",
        "  def odd():\n",
        "    print(\"number is odd\")\n",
        "    func()\n",
        "  return odd\n",
        "\n",
        "@even\n",
        "def natural():\n",
        "  print(\"it is also natural\")\n",
        "\n",
        "\n",
        "\n",
        "natural()\n",
        "\n",
        "\n"
      ]
    },
    {
      "cell_type": "code",
      "execution_count": null,
      "metadata": {
        "id": "VyqGZFvVAxIo"
      },
      "outputs": [],
      "source": [
        "def girl():\n",
        "  print(\"she is pretty\")\n",
        "  def boy(func):\n",
        "    print(\"he is handsome\")\n",
        "    func()\n",
        "  return boy\n",
        "\n",
        "@boy\n",
        "def gender():\n",
        "  print(\"it includes both\")\n",
        "\n",
        "gender()"
      ]
    },
    {
      "cell_type": "code",
      "execution_count": null,
      "metadata": {
        "id": "W1W1s715BQIF"
      },
      "outputs": [],
      "source": [
        "def girl(func):\n",
        "  print(\"she is pretty\")\n",
        "  func()\n",
        "  def boy():\n",
        "    print(\"he is handsome\")\n",
        "    func()\n",
        "  return boy\n",
        "\n",
        "@girl\n",
        "\n",
        "def gender():\n",
        "  print(\"also smarter\")\n",
        "\n",
        "\n",
        "gender()"
      ]
    },
    {
      "cell_type": "code",
      "execution_count": null,
      "metadata": {
        "id": "WjnouVYsCfLF"
      },
      "outputs": [],
      "source": [
        "def start_roll(func):\n",
        "  def end_roll():\n",
        "    for i in range(2000,2006):\n",
        "       func()\n",
        "       print(\"betn1cs\",i)\n",
        "  return end_roll\n",
        "\n",
        "\n",
        "@start_roll\n",
        "\n",
        "def common():\n",
        "  print(\"itm university\")\n",
        "\n",
        "common()\n"
      ]
    },
    {
      "cell_type": "code",
      "execution_count": null,
      "metadata": {
        "id": "P_h4KWxLHLsL"
      },
      "outputs": [],
      "source": [
        "dic={2:2,4:5}\n",
        "\n",
        "x=iter(dic)\n",
        "print((next(x)))\n",
        "print((next(x)))"
      ]
    },
    {
      "cell_type": "code",
      "execution_count": null,
      "metadata": {
        "id": "elK1Ti_kHtPS"
      },
      "outputs": [],
      "source": [
        "li=[1,2,3,4,5]\n",
        "x=iter(li)\n",
        "# print(next(x))\n",
        "for i in x:\n",
        "  print(i)"
      ]
    },
    {
      "cell_type": "code",
      "execution_count": null,
      "metadata": {
        "id": "2TO0XOsZIL8z"
      },
      "outputs": [],
      "source": [
        "string=\"gauri\"\n",
        "x=iter(string)\n",
        "for i in x:\n",
        "  print(i)"
      ]
    },
    {
      "cell_type": "code",
      "execution_count": null,
      "metadata": {
        "id": "Subkll9jIWIM"
      },
      "outputs": [],
      "source": [
        "tup=(1,2,3)\n",
        "x=iter(tup)\n",
        "for i in x:\n",
        "  print(i)"
      ]
    },
    {
      "cell_type": "markdown",
      "metadata": {
        "id": "js7GiIxYMmI7"
      },
      "source": [
        "8 june 2023"
      ]
    },
    {
      "cell_type": "code",
      "execution_count": null,
      "metadata": {
        "id": "Y156iNxPMkrC"
      },
      "outputs": [],
      "source": [
        "#class\n",
        "\n",
        "class DemoClass:\n",
        "  var = 10\n",
        "\n",
        "\n",
        "value = DemoClass()\n",
        "print(value.var)"
      ]
    },
    {
      "cell_type": "code",
      "execution_count": null,
      "metadata": {
        "id": "Vnovj1ofNLjo"
      },
      "outputs": [],
      "source": [
        "class Student:\n",
        "  def roll(self):\n",
        "    print(\"these are engineers\")\n",
        "\n",
        "\n",
        "object = Student()\n",
        "object.roll()\n"
      ]
    },
    {
      "cell_type": "code",
      "execution_count": null,
      "metadata": {
        "id": "5O71YkuwOUYE"
      },
      "outputs": [],
      "source": [
        "class Btech:\n",
        "  def cse(self):\n",
        "    print(\"computer science\")\n",
        "\n",
        "  def civil(self):\n",
        "    print(\"these are like architect\")\n",
        "\n",
        "\n",
        "object =Btech()\n",
        "object.cse()\n",
        "object.civil()\n",
        "\n",
        "\n"
      ]
    },
    {
      "cell_type": "code",
      "execution_count": null,
      "metadata": {
        "id": "8BOOtty4Pw0G"
      },
      "outputs": [],
      "source": [
        "class University:\n",
        "  def government(self):\n",
        "    print(\"top \")\n",
        "\n",
        "  def autonomous(self):\n",
        "    print(\"average\")\n",
        "\n",
        "\n",
        "object1=University()\n",
        "object1.government()"
      ]
    },
    {
      "cell_type": "code",
      "execution_count": null,
      "metadata": {
        "id": "e3fmxdgqrdl4"
      },
      "outputs": [],
      "source": [
        "class MyClass:\n",
        "  num=10\n",
        "\n",
        "\n",
        "ob1=MyClass()\n",
        "print(ob1.num)"
      ]
    },
    {
      "cell_type": "code",
      "execution_count": null,
      "metadata": {
        "id": "uwH7Lbphr99t"
      },
      "outputs": [],
      "source": [
        "class MyClass:\n",
        "  num=10\n",
        "\n",
        "\n",
        "print(MyClass.num)"
      ]
    },
    {
      "cell_type": "code",
      "execution_count": null,
      "metadata": {
        "id": "t8Bc3AYCsRRw"
      },
      "outputs": [],
      "source": [
        "class MyClass:\n",
        "  num=10\n",
        "\n",
        "MyClass.num=3000\n",
        "print(MyClass.num)"
      ]
    },
    {
      "cell_type": "code",
      "execution_count": null,
      "metadata": {
        "id": "nkrmK1mVsdVM"
      },
      "outputs": [],
      "source": [
        "class MyClass:\n",
        "  def show(self):\n",
        "    print(\"hy\")\n",
        "\n",
        "\n",
        "x=MyClass()\n",
        "x.show()\n",
        "\n",
        "\n"
      ]
    },
    {
      "cell_type": "code",
      "execution_count": null,
      "metadata": {
        "id": "Za0QpUFFs9eZ"
      },
      "outputs": [],
      "source": [
        "class MyClass:\n",
        "  def show(self):\n",
        "    print(\"hy\")\n",
        "\n",
        "\n",
        "MyClass.show(x)\n",
        "\n",
        "\n"
      ]
    },
    {
      "cell_type": "code",
      "execution_count": null,
      "metadata": {
        "id": "PBrpVr-MtHX4"
      },
      "outputs": [],
      "source": [
        "class MyClass:\n",
        "  def show(self):\n",
        "    print(\"hy\")\n",
        "\n",
        "x=MyClass()\n",
        "MyClass.show(x)\n",
        "\n",
        "\n",
        "\n"
      ]
    },
    {
      "cell_type": "code",
      "execution_count": null,
      "metadata": {
        "colab": {
          "base_uri": "https://localhost:8080/",
          "height": 323
        },
        "id": "yB-s9WBntcbd",
        "outputId": "027bb85a-0e9d-4c36-ae42-1b205a14b925"
      },
      "outputs": [
        {
          "ename": "AttributeError",
          "evalue": "ignored",
          "output_type": "error",
          "traceback": [
            "\u001b[0;31m---------------------------------------------------------------------------\u001b[0m",
            "\u001b[0;31mAttributeError\u001b[0m                            Traceback (most recent call last)",
            "\u001b[0;32m<ipython-input-111-40bcbab776a1>\u001b[0m in \u001b[0;36m<cell line: 6>\u001b[0;34m()\u001b[0m\n\u001b[1;32m      4\u001b[0m \u001b[0;34m\u001b[0m\u001b[0m\n\u001b[1;32m      5\u001b[0m \u001b[0;34m\u001b[0m\u001b[0m\n\u001b[0;32m----> 6\u001b[0;31m \u001b[0mprint\u001b[0m\u001b[0;34m(\u001b[0m\u001b[0mMyClass\u001b[0m\u001b[0;34m.\u001b[0m\u001b[0mshow\u001b[0m\u001b[0;34m(\u001b[0m\u001b[0mx\u001b[0m\u001b[0;34m)\u001b[0m\u001b[0;34m)\u001b[0m\u001b[0;34m\u001b[0m\u001b[0;34m\u001b[0m\u001b[0m\n\u001b[0m",
            "\u001b[0;32m<ipython-input-111-40bcbab776a1>\u001b[0m in \u001b[0;36mshow\u001b[0;34m(self)\u001b[0m\n\u001b[1;32m      1\u001b[0m \u001b[0;32mclass\u001b[0m  \u001b[0mMyClass\u001b[0m\u001b[0;34m:\u001b[0m\u001b[0;34m\u001b[0m\u001b[0;34m\u001b[0m\u001b[0m\n\u001b[1;32m      2\u001b[0m   \u001b[0;32mdef\u001b[0m \u001b[0mshow\u001b[0m\u001b[0;34m(\u001b[0m\u001b[0mself\u001b[0m\u001b[0;34m)\u001b[0m\u001b[0;34m:\u001b[0m\u001b[0;34m\u001b[0m\u001b[0;34m\u001b[0m\u001b[0m\n\u001b[0;32m----> 3\u001b[0;31m     \u001b[0mself\u001b[0m\u001b[0;34m.\u001b[0m\u001b[0mname\u001b[0m\u001b[0;34m=\u001b[0m\u001b[0;34m\"gauri\"\u001b[0m\u001b[0;34m\u001b[0m\u001b[0;34m\u001b[0m\u001b[0m\n\u001b[0m\u001b[1;32m      4\u001b[0m \u001b[0;34m\u001b[0m\u001b[0m\n\u001b[1;32m      5\u001b[0m \u001b[0;34m\u001b[0m\u001b[0m\n",
            "\u001b[0;31mAttributeError\u001b[0m: 'int' object has no attribute 'name'"
          ]
        }
      ],
      "source": [
        "class  MyClass:\n",
        "  def show(self):\n",
        "    self.name=\"gauri\"\n",
        "\n",
        "\n",
        "print(MyClass.show(x))\n"
      ]
    },
    {
      "cell_type": "code",
      "execution_count": null,
      "metadata": {
        "colab": {
          "base_uri": "https://localhost:8080/",
          "height": 340
        },
        "id": "F6PcsrPyuQtc",
        "outputId": "963f9fd5-1916-4dc3-e7ce-315ff4a3c4bb"
      },
      "outputs": [
        {
          "name": "stdout",
          "output_type": "stream",
          "text": [
            "hello\n"
          ]
        },
        {
          "ename": "AttributeError",
          "evalue": "ignored",
          "output_type": "error",
          "traceback": [
            "\u001b[0;31m---------------------------------------------------------------------------\u001b[0m",
            "\u001b[0;31mAttributeError\u001b[0m                            Traceback (most recent call last)",
            "\u001b[0;32m<ipython-input-112-1480e2c1ed67>\u001b[0m in \u001b[0;36m<cell line: 7>\u001b[0;34m()\u001b[0m\n\u001b[1;32m      5\u001b[0m \u001b[0;34m\u001b[0m\u001b[0m\n\u001b[1;32m      6\u001b[0m \u001b[0;34m\u001b[0m\u001b[0m\n\u001b[0;32m----> 7\u001b[0;31m \u001b[0mMyClass\u001b[0m\u001b[0;34m.\u001b[0m\u001b[0mshow\u001b[0m\u001b[0;34m(\u001b[0m\u001b[0mx\u001b[0m\u001b[0;34m)\u001b[0m\u001b[0;34m\u001b[0m\u001b[0;34m\u001b[0m\u001b[0m\n\u001b[0m",
            "\u001b[0;32m<ipython-input-112-1480e2c1ed67>\u001b[0m in \u001b[0;36mshow\u001b[0;34m(self)\u001b[0m\n\u001b[1;32m      2\u001b[0m   \u001b[0;32mdef\u001b[0m \u001b[0mshow\u001b[0m\u001b[0;34m(\u001b[0m\u001b[0mself\u001b[0m\u001b[0;34m)\u001b[0m\u001b[0;34m:\u001b[0m\u001b[0;34m\u001b[0m\u001b[0;34m\u001b[0m\u001b[0m\n\u001b[1;32m      3\u001b[0m     \u001b[0mprint\u001b[0m\u001b[0;34m(\u001b[0m\u001b[0;34m\"hello\"\u001b[0m\u001b[0;34m)\u001b[0m\u001b[0;34m\u001b[0m\u001b[0;34m\u001b[0m\u001b[0m\n\u001b[0;32m----> 4\u001b[0;31m     \u001b[0mself\u001b[0m\u001b[0;34m.\u001b[0m\u001b[0mname\u001b[0m\u001b[0;34m=\u001b[0m\u001b[0;34m\"gauri\"\u001b[0m\u001b[0;34m\u001b[0m\u001b[0;34m\u001b[0m\u001b[0m\n\u001b[0m\u001b[1;32m      5\u001b[0m \u001b[0;34m\u001b[0m\u001b[0m\n\u001b[1;32m      6\u001b[0m \u001b[0;34m\u001b[0m\u001b[0m\n",
            "\u001b[0;31mAttributeError\u001b[0m: 'int' object has no attribute 'name'"
          ]
        }
      ],
      "source": [
        "class MyClass:\n",
        "  def show(self):\n",
        "    print(\"hello\")\n",
        "    self.name=\"gauri\"\n",
        "\n",
        "\n",
        "MyClass.show(x)\n"
      ]
    },
    {
      "cell_type": "code",
      "execution_count": null,
      "metadata": {
        "colab": {
          "base_uri": "https://localhost:8080/"
        },
        "id": "51v75qOouk1q",
        "outputId": "e1e11d1c-6d2a-4dfe-b460-4dba114ba942"
      },
      "outputs": [
        {
          "name": "stdout",
          "output_type": "stream",
          "text": [
            "hello\n",
            "how are you\n"
          ]
        }
      ],
      "source": [
        "class MyClass:\n",
        "  def show(self):\n",
        "    print(\"hello\")\n",
        "    self.name=\"how are you\"\n",
        "\n",
        "n1=MyClass()\n",
        "n1.show()\n",
        "print(n1.name)\n",
        "\n"
      ]
    },
    {
      "cell_type": "code",
      "execution_count": null,
      "metadata": {
        "colab": {
          "base_uri": "https://localhost:8080/"
        },
        "id": "VlO2D6iEv3ps",
        "outputId": "772d5c2f-92bf-46cd-ca14-2e988e54ede7"
      },
      "outputs": [
        {
          "name": "stdout",
          "output_type": "stream",
          "text": [
            "gauri\n"
          ]
        }
      ],
      "source": [
        "class Student:\n",
        "  def info(self):\n",
        "    self.name=\"gauri\"\n",
        "    self.rollnumber=\"20016\"\n",
        "\n",
        "\n",
        "ob=Student()\n",
        "ob.info()\n",
        "print(ob.name)\n",
        "# print(Student.info(x))\n",
        "# ob=Student()\n",
        "# ob.info()"
      ]
    },
    {
      "cell_type": "code",
      "execution_count": null,
      "metadata": {
        "colab": {
          "base_uri": "https://localhost:8080/",
          "height": 358
        },
        "id": "Zr15GCA3u_ZH",
        "outputId": "82147003-766d-47a5-c898-296360e6f818"
      },
      "outputs": [
        {
          "ename": "AttributeError",
          "evalue": "ignored",
          "output_type": "error",
          "traceback": [
            "\u001b[0;31m---------------------------------------------------------------------------\u001b[0m",
            "\u001b[0;31mAttributeError\u001b[0m                            Traceback (most recent call last)",
            "\u001b[0;32m<ipython-input-118-6f2b9eb5e644>\u001b[0m in \u001b[0;36m<cell line: 8>\u001b[0;34m()\u001b[0m\n\u001b[1;32m      6\u001b[0m \u001b[0;34m\u001b[0m\u001b[0m\n\u001b[1;32m      7\u001b[0m \u001b[0;34m\u001b[0m\u001b[0m\n\u001b[0;32m----> 8\u001b[0;31m \u001b[0mprint\u001b[0m\u001b[0;34m(\u001b[0m\u001b[0mStudent\u001b[0m\u001b[0;34m.\u001b[0m\u001b[0minfo\u001b[0m\u001b[0;34m(\u001b[0m\u001b[0mx\u001b[0m\u001b[0;34m)\u001b[0m\u001b[0;34m)\u001b[0m\u001b[0;34m\u001b[0m\u001b[0;34m\u001b[0m\u001b[0m\n\u001b[0m\u001b[1;32m      9\u001b[0m \u001b[0mob\u001b[0m\u001b[0;34m=\u001b[0m\u001b[0mStudent\u001b[0m\u001b[0;34m(\u001b[0m\u001b[0;34m)\u001b[0m\u001b[0;34m\u001b[0m\u001b[0;34m\u001b[0m\u001b[0m\n\u001b[1;32m     10\u001b[0m \u001b[0mob\u001b[0m\u001b[0;34m.\u001b[0m\u001b[0minfo\u001b[0m\u001b[0;34m(\u001b[0m\u001b[0;34m)\u001b[0m\u001b[0;34m\u001b[0m\u001b[0;34m\u001b[0m\u001b[0m\n",
            "\u001b[0;32m<ipython-input-118-6f2b9eb5e644>\u001b[0m in \u001b[0;36minfo\u001b[0;34m(self)\u001b[0m\n\u001b[1;32m      1\u001b[0m \u001b[0;32mclass\u001b[0m \u001b[0mStudent\u001b[0m\u001b[0;34m:\u001b[0m\u001b[0;34m\u001b[0m\u001b[0;34m\u001b[0m\u001b[0m\n\u001b[1;32m      2\u001b[0m   \u001b[0;32mdef\u001b[0m \u001b[0minfo\u001b[0m\u001b[0;34m(\u001b[0m\u001b[0mself\u001b[0m\u001b[0;34m)\u001b[0m\u001b[0;34m:\u001b[0m\u001b[0;34m\u001b[0m\u001b[0;34m\u001b[0m\u001b[0m\n\u001b[0;32m----> 3\u001b[0;31m     \u001b[0mself\u001b[0m\u001b[0;34m.\u001b[0m\u001b[0mname\u001b[0m\u001b[0;34m=\u001b[0m\u001b[0;34m\"gauri\"\u001b[0m\u001b[0;34m\u001b[0m\u001b[0;34m\u001b[0m\u001b[0m\n\u001b[0m\u001b[1;32m      4\u001b[0m     \u001b[0mself\u001b[0m\u001b[0;34m.\u001b[0m\u001b[0mrollnumber\u001b[0m\u001b[0;34m=\u001b[0m\u001b[0;34m\"20016\"\u001b[0m\u001b[0;34m\u001b[0m\u001b[0;34m\u001b[0m\u001b[0m\n\u001b[1;32m      5\u001b[0m \u001b[0;34m\u001b[0m\u001b[0m\n",
            "\u001b[0;31mAttributeError\u001b[0m: 'int' object has no attribute 'name'"
          ]
        }
      ],
      "source": [
        "class Student:\n",
        "  def info(self):\n",
        "    self.name=\"gauri\"\n",
        "    self.rollnumber=\"20016\"\n",
        "\n",
        "\n",
        "\n",
        "print(Student.info(x))\n",
        "ob=Student()\n",
        "ob.info()\n",
        "print(ob.name)\n",
        "print(ob.rollnumber)\n"
      ]
    },
    {
      "cell_type": "code",
      "execution_count": null,
      "metadata": {
        "colab": {
          "base_uri": "https://localhost:8080/"
        },
        "id": "7z7tBoGcyl5N",
        "outputId": "ca40a602-2824-4f5a-dc9c-b37305b7d8b6"
      },
      "outputs": [
        {
          "name": "stdout",
          "output_type": "stream",
          "text": [
            "3\n",
            "1\n",
            "2\n",
            "3\n",
            "1\n",
            "2\n"
          ]
        }
      ],
      "source": [
        "class Home:\n",
        "  room = 3\n",
        "  kitchen= 1\n",
        "  hall = 2\n",
        "\n",
        "\n",
        "\n",
        "h1=Home()\n",
        "h2=Home()\n",
        "\n",
        "print(h1.room)\n",
        "print(h1.kitchen)\n",
        "print(h1.hall)\n",
        "\n",
        "\n",
        "print(h1.room)\n",
        "print(h1.kitchen)\n",
        "print(h1.hall)"
      ]
    },
    {
      "cell_type": "code",
      "execution_count": null,
      "metadata": {
        "colab": {
          "base_uri": "https://localhost:8080/"
        },
        "id": "5nMbY4SMzDBf",
        "outputId": "94c4f066-217d-47db-f53d-6270d60be37d"
      },
      "outputs": [
        {
          "name": "stdout",
          "output_type": "stream",
          "text": [
            "5\n",
            "3\n"
          ]
        }
      ],
      "source": [
        "class Home:\n",
        "  room = 3\n",
        "  kitchen= 1\n",
        "  hall = 2\n",
        "\n",
        "\n",
        "\n",
        "h1=Home()\n",
        "h2=Home()\n",
        "\n",
        "h1.room = 5\n",
        "print(h1.room)\n",
        "\n",
        "print(h2.room)"
      ]
    },
    {
      "cell_type": "code",
      "execution_count": null,
      "metadata": {
        "id": "s-Ojl2ouzUlk"
      },
      "outputs": [],
      "source": [
        "class Home:\n",
        "  room = 3\n",
        "  kitchen= 1\n",
        "  hall = 2\n",
        "\n",
        "\n",
        "print(Home.room)\n"
      ]
    },
    {
      "cell_type": "code",
      "execution_count": null,
      "metadata": {
        "id": "sOpipNUEzeNh"
      },
      "outputs": [],
      "source": [
        "class Home:\n",
        "  room = 3\n",
        "  kitchen = 1\n",
        "  hall = 2\n",
        "\n",
        "  def show(self):\n",
        "    print(\"hy\")\n",
        "\n",
        "\n",
        "# print(Home.room)\n",
        "\n",
        "Home.show(x)"
      ]
    },
    {
      "cell_type": "code",
      "execution_count": null,
      "metadata": {
        "id": "I2roIyLUz3JC"
      },
      "outputs": [],
      "source": [
        "class Home:\n",
        "  room = 3\n",
        "  kitchen = 1\n",
        "  hall = 2\n",
        "\n",
        "  def show(self):\n",
        "    print(\"hello\")\n",
        "\n",
        "print(Home.room)\n",
        "Home.show(x)   #when print it will return none\n",
        "\n",
        "\n"
      ]
    },
    {
      "cell_type": "code",
      "execution_count": null,
      "metadata": {
        "id": "Uu1HMPnv1Y-X"
      },
      "outputs": [],
      "source": [
        "class MyClass:\n",
        "  num = 100\n",
        "\n",
        "\n",
        "\n",
        "ob1=MyClass()\n",
        "ob2=MyClass()\n",
        "\n",
        "print(MyClass.num)\n",
        "print(ob1.num)\n",
        "print(ob2.num)\n",
        "\n",
        "\n",
        "MyClass.num =2000\n",
        "print(ob1.num)\n",
        "print(MyClass.num)"
      ]
    },
    {
      "cell_type": "code",
      "execution_count": null,
      "metadata": {
        "id": "bUzCiBYh4GA1"
      },
      "outputs": [],
      "source": [
        "class MyClass:\n",
        "  num=100\n",
        "\n",
        "\n",
        "ob1=MyClass()\n",
        "ob1.area=10   #manipulation\n",
        "print(ob1.area)"
      ]
    },
    {
      "cell_type": "code",
      "execution_count": null,
      "metadata": {
        "id": "htBAqQEOVI8g"
      },
      "outputs": [],
      "source": [
        "word=\"gauri\"\n",
        "print(*word)"
      ]
    },
    {
      "cell_type": "code",
      "execution_count": null,
      "metadata": {
        "id": "xd5VEDRuJq6l"
      },
      "outputs": [],
      "source": [
        "x=6\n",
        "y=2\n",
        "print(x/y)\n",
        "x=6\n",
        "y=2\n",
        "print(x//y)"
      ]
    },
    {
      "cell_type": "code",
      "execution_count": null,
      "metadata": {
        "id": "dC0hnDrFXZZ3"
      },
      "outputs": [],
      "source": [
        "#python inheritance\n",
        "\n",
        "#single inheritance\n",
        "\n",
        "\n",
        "class Parent():\n",
        "  def parentA(self):\n",
        "    return(\"Parent A\")\n",
        "\n",
        "class Child(Parent):\n",
        "  def childA(self):\n",
        "    print(\"Child a\")\n",
        "\n",
        "\n",
        "obj=Child()\n",
        "obj.childA()\n",
        "obj.parentA()\n",
        "\n",
        "# print(Parent.parentA(obj))"
      ]
    },
    {
      "cell_type": "code",
      "execution_count": null,
      "metadata": {
        "colab": {
          "base_uri": "https://localhost:8080/"
        },
        "id": "JlwrHTJVYqkk",
        "outputId": "4772cef6-c71c-4a42-dced-43943726c3c1"
      },
      "outputs": [
        {
          "name": "stdout",
          "output_type": "stream",
          "text": [
            "Child a\n",
            "Parent A\n"
          ]
        }
      ],
      "source": [
        "class Parent:\n",
        "  def parentA(self):\n",
        "    print(\"Parent A\")\n",
        "\n",
        "class Child(Parent):\n",
        "  def childA(self):\n",
        "    print(\"Child a\")\n",
        "\n",
        "\n",
        "obj=Child()\n",
        "obj.childA()\n",
        "obj.parentA()"
      ]
    },
    {
      "cell_type": "code",
      "execution_count": null,
      "metadata": {
        "id": "jX53T0y_Ytix"
      },
      "outputs": [],
      "source": [
        "class TeacherCS:\n",
        "  def cse(self):\n",
        "    print(\"these are cse faculty\")\n",
        "\n",
        "class TeacherCivil(TeacherCS):\n",
        "  def civil(self):\n",
        "    print(\" this is civil faculty\")\n",
        "\n",
        "\n",
        "class TeacherBoth(TeacherCivil):\n",
        "  def both(self):\n",
        "    print(\"can teach both\")\n",
        "\n",
        "\n",
        "\n",
        "ob=TeacherBoth()\n",
        "ob.both()\n",
        "ob.civil()\n",
        "ob.cse()"
      ]
    },
    {
      "cell_type": "code",
      "execution_count": null,
      "metadata": {
        "id": "hiI41ruiZ152"
      },
      "outputs": [],
      "source": [
        "class TeacherCS:\n",
        "  def cse(self):\n",
        "    print(\"these are cse faculty\")\n",
        "\n",
        "class TeacherCivil():\n",
        "  def civil(self):\n",
        "    print(\" this is civil faculty\")\n",
        "\n",
        "\n",
        "class TeacherBoth(TeacherCivil,TeacherCS):\n",
        "  def both(self):\n",
        "    print(\"can teach both\")\n",
        "\n",
        "\n",
        "\n",
        "ob=TeacherBoth()\n",
        "ob.both()\n",
        "ob.civil()\n",
        "ob.cse()"
      ]
    },
    {
      "cell_type": "code",
      "execution_count": null,
      "metadata": {
        "id": "k_IDTmQenCLt"
      },
      "outputs": [],
      "source": [
        "class A:\n",
        "    def __init__(self):\n",
        "        self.a = 1\n",
        "        self.b = 2\n",
        "        self.c = 3\n",
        "    def seta(self):\n",
        "        def afunction():\n",
        "            self.a = 4\n",
        "        afunction()\n",
        "    def geta(self):\n",
        "        return self.a\n",
        "\n",
        "\n",
        "ob=A()\n",
        "print(A.seta.afunction())\n",
        "\n",
        "\n"
      ]
    },
    {
      "cell_type": "code",
      "execution_count": null,
      "metadata": {
        "id": "glwRrfPzvrF2"
      },
      "outputs": [],
      "source": [
        "#laptop program\n",
        "\n",
        "class Camera:\n",
        "  def __init__(self,sensor,megapixel):\n",
        "\n",
        "\n",
        "\n",
        "\n",
        "class Keyboard:\n",
        "  def __init__(self,keys,lights):\n",
        "\n",
        "\n",
        "class Screen:\n",
        "  def __init__(self,size,resolution,type):\n",
        "\n",
        "\n",
        "\n",
        "\n",
        "class Laptop:\n",
        "  def __init__(self,name):\n",
        "\n",
        "  def __init__(name,Camera,Keyboard,):\n"
      ]
    },
    {
      "cell_type": "code",
      "execution_count": null,
      "metadata": {
        "id": "_9c0cYHI_wak"
      },
      "outputs": [],
      "source": [
        "class Student:\n",
        "\n",
        "    def __init__(self, id):\n",
        "        self._id = id\n",
        "\n",
        "    def registration_number(self, department_id) -> str:\n",
        "        return str(self._id) + '-' + department_id\n",
        "\n",
        "\n",
        "class Department:\n",
        "\n",
        "    def __init__(self, id, student):\n",
        "        self._id = id\n",
        "        self._student = student\n",
        "\n",
        "    def student_registration(self):\n",
        "        return self._student.registration_number(self._id)\n",
        "\n",
        "\n",
        "if __name__ == '__main__':\n",
        "    student = Student(10)\n",
        "    department = Department('ENG', student)\n",
        "    print(department.student_registration())"
      ]
    },
    {
      "cell_type": "code",
      "execution_count": null,
      "metadata": {
        "id": "lcz7vOduPTqt"
      },
      "outputs": [],
      "source": []
    },
    {
      "cell_type": "markdown",
      "metadata": {
        "id": "-UVGqIQePXV8"
      },
      "source": [
        "**june 9 2023**"
      ]
    },
    {
      "cell_type": "code",
      "execution_count": null,
      "metadata": {
        "id": "iy31VGecPYDG"
      },
      "outputs": [],
      "source": [
        "class MyClass:\n",
        "  num=10\n",
        "  def show(self):\n",
        "    self.name=\"gauri\"\n",
        "\n",
        "\n",
        "print(MyClass.num)\n",
        "obj1=MyClass()\n",
        "print(obj1.show())\n",
        "print(obj1.name)\n"
      ]
    },
    {
      "cell_type": "code",
      "execution_count": null,
      "metadata": {
        "id": "WT27jWzxQGEq"
      },
      "outputs": [],
      "source": [
        "class MyClass:\n",
        "  def __init__(self,num , name):\n",
        "    self.name=name\n",
        "    self.num=num\n",
        "\n",
        "\n",
        "obj1=MyClass(5,\"gauri\")\n",
        "obj1.name\n",
        "# obj1.num\n"
      ]
    },
    {
      "cell_type": "code",
      "execution_count": null,
      "metadata": {
        "id": "NLQo-f5IRHBo"
      },
      "outputs": [],
      "source": [
        "class MyClass:\n",
        "  def __init__(self,num , name):\n",
        "    self.name=name\n",
        "    self.num=num\n",
        "\n",
        "\n",
        "obj1=MyClass(5,\"gauri\")\n",
        "print(obj1.name)"
      ]
    },
    {
      "cell_type": "code",
      "execution_count": null,
      "metadata": {
        "id": "-8Xm_RzgSEOf"
      },
      "outputs": [],
      "source": [
        "#constructor vs method\n",
        "\n",
        "class MyClass:\n",
        "  def __init__(self):\n",
        "    print(\"gauri\")\n",
        "\n",
        "\n",
        "o1=MyClass()\n",
        "o1.__init__()"
      ]
    },
    {
      "cell_type": "code",
      "execution_count": null,
      "metadata": {
        "colab": {
          "base_uri": "https://localhost:8080/",
          "height": 219
        },
        "id": "o6BMe-qCSmHM",
        "outputId": "37c5bb18-9e77-40f3-be59-675a2037a958"
      },
      "outputs": [
        {
          "ename": "TypeError",
          "evalue": "ignored",
          "output_type": "error",
          "traceback": [
            "\u001b[0;31m---------------------------------------------------------------------------\u001b[0m",
            "\u001b[0;31mTypeError\u001b[0m                                 Traceback (most recent call last)",
            "\u001b[0;32m<ipython-input-126-38744834160d>\u001b[0m in \u001b[0;36m<cell line: 6>\u001b[0;34m()\u001b[0m\n\u001b[1;32m      4\u001b[0m \u001b[0;34m\u001b[0m\u001b[0m\n\u001b[1;32m      5\u001b[0m \u001b[0;34m\u001b[0m\u001b[0m\n\u001b[0;32m----> 6\u001b[0;31m \u001b[0mo1\u001b[0m\u001b[0;34m=\u001b[0m \u001b[0mMyClass\u001b[0m\u001b[0;34m(\u001b[0m\u001b[0;34m)\u001b[0m\u001b[0;34m\u001b[0m\u001b[0;34m\u001b[0m\u001b[0m\n\u001b[0m\u001b[1;32m      7\u001b[0m \u001b[0mo1\u001b[0m\u001b[0;34m.\u001b[0m\u001b[0m__init__\u001b[0m\u001b[0;34m(\u001b[0m\u001b[0;34m)\u001b[0m\u001b[0;34m\u001b[0m\u001b[0;34m\u001b[0m\u001b[0m\n",
            "\u001b[0;31mTypeError\u001b[0m: __init__() should return None, not 'str'"
          ]
        }
      ],
      "source": [
        "class MyClass:\n",
        "  def __init__(self):\n",
        "    return \"gauri\"\n",
        "\n",
        "\n",
        "o1= MyClass()\n",
        "o1.__init__()"
      ]
    },
    {
      "cell_type": "code",
      "execution_count": null,
      "metadata": {
        "id": "f2Xr_K5gTfiQ"
      },
      "outputs": [],
      "source": [
        "class MyClass:\n",
        "  def __init__(self):\n",
        "    print(\"hy how are you\")\n",
        "    # return None\n",
        "\n",
        "o1=MyClass()"
      ]
    },
    {
      "cell_type": "code",
      "execution_count": null,
      "metadata": {
        "id": "LD0WCThmVdAC"
      },
      "outputs": [],
      "source": [
        "class MyClass:\n",
        "  def __init__(self):\n",
        "    print(\"hy how are you\")\n",
        "    # return None\n",
        "\n",
        "o1=MyClass()"
      ]
    },
    {
      "cell_type": "code",
      "execution_count": null,
      "metadata": {
        "colab": {
          "base_uri": "https://localhost:8080/",
          "height": 340
        },
        "id": "Vlx00aRwVfBG",
        "outputId": "8eecbebb-5264-4ecf-e756-cc68752826c0"
      },
      "outputs": [
        {
          "ename": "TypeError",
          "evalue": "ignored",
          "output_type": "error",
          "traceback": [
            "\u001b[0;31m---------------------------------------------------------------------------\u001b[0m",
            "\u001b[0;31mTypeError\u001b[0m                                 Traceback (most recent call last)",
            "\u001b[0;32m<ipython-input-130-1ffc291596f7>\u001b[0m in \u001b[0;36m<cell line: 10>\u001b[0;34m()\u001b[0m\n\u001b[1;32m      8\u001b[0m \u001b[0;34m\u001b[0m\u001b[0m\n\u001b[1;32m      9\u001b[0m \u001b[0mm1\u001b[0m \u001b[0;34m=\u001b[0m \u001b[0mMyClass\u001b[0m\u001b[0;34m(\u001b[0m\u001b[0;36m10\u001b[0m\u001b[0;34m)\u001b[0m\u001b[0;34m\u001b[0m\u001b[0;34m\u001b[0m\u001b[0m\n\u001b[0;32m---> 10\u001b[0;31m \u001b[0mprint\u001b[0m\u001b[0;34m(\u001b[0m\u001b[0mm1\u001b[0m\u001b[0;34m)\u001b[0m\u001b[0;34m\u001b[0m\u001b[0;34m\u001b[0m\u001b[0m\n\u001b[0m\u001b[1;32m     11\u001b[0m \u001b[0mprint\u001b[0m\u001b[0;34m(\u001b[0m\u001b[0mm1\u001b[0m\u001b[0;34m.\u001b[0m\u001b[0m__str__\u001b[0m\u001b[0;34m(\u001b[0m\u001b[0;34m)\u001b[0m\u001b[0;34m)\u001b[0m\u001b[0;34m\u001b[0m\u001b[0;34m\u001b[0m\u001b[0m\n",
            "\u001b[0;32m<ipython-input-130-1ffc291596f7>\u001b[0m in \u001b[0;36m__repr__\u001b[0;34m(self)\u001b[0m\n\u001b[1;32m      4\u001b[0m \u001b[0;34m\u001b[0m\u001b[0m\n\u001b[1;32m      5\u001b[0m   \u001b[0;32mdef\u001b[0m \u001b[0m__repr__\u001b[0m\u001b[0;34m(\u001b[0m\u001b[0mself\u001b[0m\u001b[0;34m)\u001b[0m\u001b[0;34m:\u001b[0m\u001b[0;34m\u001b[0m\u001b[0;34m\u001b[0m\u001b[0m\n\u001b[0;32m----> 6\u001b[0;31m     \u001b[0;32mreturn\u001b[0m \u001b[0mstr\u001b[0m\u001b[0;34m(\u001b[0m\u001b[0mself\u001b[0m\u001b[0;34m.\u001b[0m\u001b[0mnum\u001b[0m\u001b[0;34m)\u001b[0m\u001b[0;34m\u001b[0m\u001b[0;34m\u001b[0m\u001b[0m\n\u001b[0m\u001b[1;32m      7\u001b[0m \u001b[0;34m\u001b[0m\u001b[0m\n\u001b[1;32m      8\u001b[0m \u001b[0;34m\u001b[0m\u001b[0m\n",
            "\u001b[0;31mTypeError\u001b[0m: 'str' object is not callable"
          ]
        }
      ],
      "source": [
        "class MyClass:\n",
        "  def __init__(self,num):\n",
        "    self.num=num\n",
        "\n",
        "  def __repr__(self):\n",
        "    return str(self.num)\n",
        "\n",
        "\n",
        "m1 = MyClass(10)\n",
        "print(m1)\n",
        "print(m1.__str__())"
      ]
    },
    {
      "cell_type": "code",
      "execution_count": null,
      "metadata": {
        "id": "NwMeUItWW5Ee"
      },
      "outputs": [],
      "source": [
        "class MyClass:\n",
        "  pass\n",
        "\n",
        "\n",
        "obj1=MyClass()\n",
        "print(type(MyClass))"
      ]
    },
    {
      "cell_type": "code",
      "execution_count": null,
      "metadata": {
        "colab": {
          "base_uri": "https://localhost:8080/"
        },
        "id": "da2NY0M7Xm7Q",
        "outputId": "8a06e477-f818-4817-d086-76ae2675eb22"
      },
      "outputs": [
        {
          "name": "stdout",
          "output_type": "stream",
          "text": [
            "7\n",
            "gk\n"
          ]
        }
      ],
      "source": [
        "class MyClass:\n",
        "  def __init__(self , num , name):\n",
        "    num2=num\n",
        "    name2=name\n",
        "    print(num2)\n",
        "    print(name2)\n",
        "\n",
        "obj1 = MyClass(7,\"gk\")\n",
        "# print(obj1.num2)\n"
      ]
    },
    {
      "cell_type": "code",
      "execution_count": null,
      "metadata": {
        "colab": {
          "base_uri": "https://localhost:8080/"
        },
        "id": "_0k2hoeyZwoq",
        "outputId": "1cece3fa-22c3-40e0-f4be-b4677e8dbd9a"
      },
      "outputs": [
        {
          "name": "stdout",
          "output_type": "stream",
          "text": [
            "4\n",
            "hk\n"
          ]
        }
      ],
      "source": [
        "class MyClass:\n",
        "  def __init__(self , num , name):\n",
        "    self.num=num\n",
        "    self.name=name\n",
        "\n",
        "\n",
        "ob=MyClass(4,\"hk\")\n",
        "print(ob.num)\n",
        "print(ob.name)"
      ]
    },
    {
      "cell_type": "code",
      "execution_count": null,
      "metadata": {
        "colab": {
          "base_uri": "https://localhost:8080/"
        },
        "id": "NiftYLgraWQN",
        "outputId": "5fdfda9b-ad80-404f-9280-e1f93be543ea"
      },
      "outputs": [
        {
          "name": "stdout",
          "output_type": "stream",
          "text": [
            "Model:ROG,\n",
            " \t Camera :(sensor:Soby , mp:48),\n",
            "\t Keyboard:(keys:mechanical,light:rgbb),\n",
            "\t Screen:(size:26inch,Res:600x400,Type: led)\n"
          ]
        }
      ],
      "source": [
        "class Camera:\n",
        "  def __init__(self,sensor,mp):\n",
        "    self.sensor=sensor\n",
        "    self.mp=mp\n",
        "\n",
        "class Keyboard:\n",
        "  def __init__(self,keys,light):\n",
        "    self.keys=keys\n",
        "    self.light=light\n",
        "\n",
        "class Screen:\n",
        "  def __init__(self,size,resolution,stype):\n",
        "    self.size =size\n",
        "    self.resolution = resolution\n",
        "    self.stype=stype\n",
        "\n",
        "\n",
        "\n",
        "\n",
        "class Laptop:\n",
        "  logo_name =\"lenovo\"\n",
        "  def __init__(self,name,camera,keyboard,screen):\n",
        "    self.name=name\n",
        "    self.camera=camera\n",
        "    self.keyboard=keyboard\n",
        "    self.screen=screen\n",
        "\n",
        "\n",
        "  def __str__(self):\n",
        "    return f\"Model:{self.name},\\n \\t Camera :(sensor:{self.camera.sensor} , mp:{self.camera.mp}),\\n\\t Keyboard:(keys:{self.keyboard.keys},light:{self.keyboard.light}),\\n\\t Screen:(size:{self.screen.size},Res:{self.screen.resolution},Type: {self.screen.stype})\"\n",
        "\n",
        "\n",
        "camera1 =Camera(\"Soby\",\"48\")\n",
        "keyboard1=Keyboard(\"mechanical\",\"rgbb\")\n",
        "screen1=Screen(\"26inch\",\"600x400\",\"led\")\n",
        "\n",
        "\n",
        "laptop1 = Laptop(\"ROG\",camera1,keyboard1,screen1)\n",
        "print(laptop1)\n"
      ]
    },
    {
      "cell_type": "code",
      "execution_count": null,
      "metadata": {
        "colab": {
          "base_uri": "https://localhost:8080/"
        },
        "id": "rRPVTGn9qvoQ",
        "outputId": "fc4c663d-c597-4ce4-ff51-d92ec9fe5d10"
      },
      "outputs": [
        {
          "data": {
            "text/plain": [
              "20"
            ]
          },
          "execution_count": 121,
          "metadata": {},
          "output_type": "execute_result"
        }
      ],
      "source": [
        "class MyClass:\n",
        "  def display(self):\n",
        "    self.name=\"gauri\"\n",
        "    self.age=20\n",
        "\n",
        "\n",
        "ob=MyClass()\n",
        "ob.display()\n",
        "ob.name\n",
        "ob.age"
      ]
    },
    {
      "cell_type": "code",
      "execution_count": null,
      "metadata": {
        "colab": {
          "base_uri": "https://localhost:8080/"
        },
        "id": "jHFq0dOasEHo",
        "outputId": "46dde854-be79-47ed-aa53-132ba167adb0"
      },
      "outputs": [
        {
          "name": "stdout",
          "output_type": "stream",
          "text": [
            "3\n",
            "4\n"
          ]
        }
      ],
      "source": [
        "class MyClass:\n",
        "  def __init__(self, num , age):\n",
        "    self.num=num\n",
        "    self.age=age\n",
        "\n",
        "obj1=MyClass(3,4)\n",
        "print(obj1.num)\n",
        "print(obj1.age)"
      ]
    },
    {
      "cell_type": "code",
      "execution_count": null,
      "metadata": {
        "colab": {
          "base_uri": "https://localhost:8080/"
        },
        "id": "pteRCtuyuXYg",
        "outputId": "2ee7e2d6-a1f0-4fdc-cf36-f2f3d25a6416"
      },
      "outputs": [
        {
          "name": "stdout",
          "output_type": "stream",
          "text": [
            "gauri\n",
            "20\n"
          ]
        }
      ],
      "source": [
        "class MyClass:\n",
        "  def __init__(self,name,age):\n",
        "    self.name=name\n",
        "    self.age=age\n",
        "\n",
        "\n",
        "ob=MyClass(\"gauri\",20)\n",
        "print(ob.name)\n",
        "print(ob.age)"
      ]
    },
    {
      "cell_type": "code",
      "execution_count": null,
      "metadata": {
        "colab": {
          "base_uri": "https://localhost:8080/"
        },
        "id": "CbiSofLzwTr5",
        "outputId": "f336347f-de15-4a88-b85c-f0f95649de02"
      },
      "outputs": [
        {
          "name": "stdout",
          "output_type": "stream",
          "text": [
            "5\n",
            "not\n"
          ]
        },
        {
          "data": {
            "text/plain": [
              "0"
            ]
          },
          "execution_count": 141,
          "metadata": {},
          "output_type": "execute_result"
        }
      ],
      "source": [
        "class MyClass:\n",
        "  def __init__(self,age):\n",
        "    self.age = age\n",
        "    if age >=18:\n",
        "      # self.age=18\n",
        "      print(\"valid\")\n",
        "    else:\n",
        "      self.age=0\n",
        "      print(\"not\")\n",
        "\n",
        "\n",
        "ob=MyClass(int(input()))\n",
        "(ob.age)\n",
        "\n",
        "\n"
      ]
    },
    {
      "cell_type": "markdown",
      "metadata": {
        "id": "ew9hmWDqjs-i"
      },
      "source": [
        "**10 june 2023**"
      ]
    },
    {
      "cell_type": "code",
      "execution_count": null,
      "metadata": {
        "id": "Z33rVP7ej2QK"
      },
      "outputs": [],
      "source": [
        "#encapsulation\n",
        "\n",
        "\n",
        "class MyClass:\n",
        "  __name=\"gauri\"\n",
        "\n",
        "  def __private_method(self):\n",
        "    print(\"private\")\n",
        "\n",
        "\n",
        "obj=MyClass()\n",
        "\n",
        "\n",
        "\n",
        "\n"
      ]
    },
    {
      "cell_type": "code",
      "execution_count": null,
      "metadata": {
        "colab": {
          "base_uri": "https://localhost:8080/"
        },
        "id": "otqWQTmuG2-d",
        "outputId": "4eb65beb-8ecf-4573-a23d-ccec05763435"
      },
      "outputs": [
        {
          "name": "stdout",
          "output_type": "stream",
          "text": [
            "ITM 22\n"
          ]
        }
      ],
      "source": [
        "class MyClass:\n",
        "  def __init__(self,name,age):\n",
        "    self.__name =name\n",
        "    self.__age=age\n",
        "\n",
        "  def pvt(self):\n",
        "    print(self.__name , self.__age)\n",
        "\n",
        "\n",
        "obj=MyClass(\"ITM\",22)\n",
        "# obj.__init__(\"itm \", 22)\n",
        "# print(obj.__name)\n",
        "obj.pvt()\n"
      ]
    },
    {
      "cell_type": "code",
      "execution_count": null,
      "metadata": {
        "colab": {
          "base_uri": "https://localhost:8080/"
        },
        "id": "mIUl0cSVIBnU",
        "outputId": "e988d2fd-b2e7-49f2-f028-d206a2f472d1"
      },
      "outputs": [
        {
          "name": "stdout",
          "output_type": "stream",
          "text": [
            "itm \n",
            "23\n"
          ]
        }
      ],
      "source": [
        "class MyClass:\n",
        "  def __init__(self , name , age):\n",
        "    self.__name=name\n",
        "    self.age=age\n",
        "\n",
        "  def pvt(self):\n",
        "    return self.__name , self.age\n",
        "\n",
        "obj=MyClass(\"itm \",  23)\n",
        "obj.pvt()\n",
        "name,age=obj.pvt()\n",
        "print(name)\n",
        "print(age)"
      ]
    },
    {
      "cell_type": "code",
      "execution_count": null,
      "metadata": {
        "colab": {
          "base_uri": "https://localhost:8080/"
        },
        "id": "J4zM-v67JYkM",
        "outputId": "ebc355d8-19dd-4cbc-baaa-91e8a4eb4c00"
      },
      "outputs": [
        {
          "name": "stdout",
          "output_type": "stream",
          "text": [
            "ITM\n",
            "22\n"
          ]
        }
      ],
      "source": [
        "class MyClass:\n",
        "  def __init__(self , name = None , age = 0):\n",
        "    self.__name = name\n",
        "    self.__age=age\n",
        "\n",
        "  def set_name(self,name):\n",
        "    self.__name=name\n",
        "\n",
        "  def get_name(self):\n",
        "    return self.__name\n",
        "\n",
        "\n",
        "  def set_age(self , age):\n",
        "    self.__age=age\n",
        "\n",
        "  def get_age(self):\n",
        "    return self.__age\n",
        "\n",
        "obj=MyClass()\n",
        "obj.set_name(\"ITM\")\n",
        "print(obj.get_name())\n",
        "obj.set_age(22)\n",
        "print(obj.get_age())\n",
        "\n",
        "\n",
        "\n"
      ]
    },
    {
      "cell_type": "code",
      "execution_count": null,
      "metadata": {
        "colab": {
          "base_uri": "https://localhost:8080/"
        },
        "id": "jRgnbmAxbELq",
        "outputId": "a1f12467-0c28-4371-f39d-6634cedc9958"
      },
      "outputs": [
        {
          "name": "stdout",
          "output_type": "stream",
          "text": [
            "implemented\n",
            "hello\n",
            "itm\n",
            "blacck\n"
          ]
        }
      ],
      "source": [
        "#abstraction\n",
        "from abc import ABC , abstractmethod\n",
        "\n",
        "class Bike(ABC):\n",
        "  @abstractmethod\n",
        "  def show(self):\n",
        "    pass\n",
        "\n",
        "  def defined_method(self):\n",
        "    print(\"hello\")\n",
        "\n",
        "  name=\"itm\"\n",
        "\n",
        "# b1=Bike()\n",
        "# b1.show()\n",
        "\n",
        "class Child(Bike):\n",
        "  def show(self):\n",
        "    print(\"implemented\")\n",
        "\n",
        "  color=\"blacck\"\n",
        "\n",
        "ch=Child()\n",
        "ch.show()\n",
        "ch.defined_method()\n",
        "print(ch.name)\n",
        "print(ch.color)"
      ]
    },
    {
      "cell_type": "code",
      "execution_count": null,
      "metadata": {
        "colab": {
          "base_uri": "https://localhost:8080/",
          "height": 236
        },
        "id": "OTLuC8JQdqY7",
        "outputId": "80a4b71b-2279-47ec-b1b9-76578631627f"
      },
      "outputs": [
        {
          "name": "stdout",
          "output_type": "stream",
          "text": [
            "btech\n"
          ]
        },
        {
          "ename": "AttributeError",
          "evalue": "ignored",
          "output_type": "error",
          "traceback": [
            "\u001b[0;31m---------------------------------------------------------------------------\u001b[0m",
            "\u001b[0;31mAttributeError\u001b[0m                            Traceback (most recent call last)",
            "\u001b[0;32m<ipython-input-49-9e9c82032763>\u001b[0m in \u001b[0;36m<cell line: 11>\u001b[0;34m()\u001b[0m\n\u001b[1;32m      9\u001b[0m \u001b[0mi\u001b[0m\u001b[0;34m=\u001b[0m\u001b[0mITM\u001b[0m\u001b[0;34m(\u001b[0m\u001b[0;34m\"btech\"\u001b[0m\u001b[0;34m,\u001b[0m\u001b[0;36m1000\u001b[0m\u001b[0;34m)\u001b[0m\u001b[0;34m\u001b[0m\u001b[0;34m\u001b[0m\u001b[0m\n\u001b[1;32m     10\u001b[0m \u001b[0mprint\u001b[0m\u001b[0;34m(\u001b[0m\u001b[0mi\u001b[0m\u001b[0;34m.\u001b[0m\u001b[0mcourse\u001b[0m\u001b[0;34m)\u001b[0m\u001b[0;34m\u001b[0m\u001b[0;34m\u001b[0m\u001b[0m\n\u001b[0;32m---> 11\u001b[0;31m \u001b[0mprint\u001b[0m\u001b[0;34m(\u001b[0m\u001b[0mi\u001b[0m\u001b[0;34m.\u001b[0m\u001b[0m__fees\u001b[0m\u001b[0;34m)\u001b[0m\u001b[0;34m\u001b[0m\u001b[0;34m\u001b[0m\u001b[0m\n\u001b[0m\u001b[1;32m     12\u001b[0m \u001b[0;34m\u001b[0m\u001b[0m\n",
            "\u001b[0;31mAttributeError\u001b[0m: 'ITM' object has no attribute '__fees'"
          ]
        }
      ],
      "source": [
        "#practice\n",
        "\n",
        "class ITM:\n",
        "  def __init__(self,course,fees):\n",
        "    self.course=course\n",
        "    self.__fees=fees\n",
        "\n",
        "\n",
        "i=ITM(\"btech\",1000)\n",
        "print(i.course)\n",
        "print(i.__fees)\n",
        "\n",
        "\n",
        "\n",
        "\n"
      ]
    },
    {
      "cell_type": "code",
      "execution_count": null,
      "metadata": {
        "colab": {
          "base_uri": "https://localhost:8080/",
          "height": 382
        },
        "id": "POPoZXK4fzHB",
        "outputId": "323cda86-e34d-4a2b-8a24-3819ed1e5b2d"
      },
      "outputs": [
        {
          "ename": "KeyboardInterrupt",
          "evalue": "ignored",
          "output_type": "error",
          "traceback": [
            "\u001b[0;31m---------------------------------------------------------------------------\u001b[0m",
            "\u001b[0;31mKeyboardInterrupt\u001b[0m                         Traceback (most recent call last)",
            "\u001b[0;32m<ipython-input-57-ddb15c363234>\u001b[0m in \u001b[0;36m<cell line: 20>\u001b[0;34m()\u001b[0m\n\u001b[1;32m     18\u001b[0m \u001b[0;34m\u001b[0m\u001b[0m\n\u001b[1;32m     19\u001b[0m \u001b[0mob\u001b[0m\u001b[0;34m=\u001b[0m\u001b[0mITM\u001b[0m\u001b[0;34m(\u001b[0m\u001b[0;34m)\u001b[0m\u001b[0;34m\u001b[0m\u001b[0;34m\u001b[0m\u001b[0m\n\u001b[0;32m---> 20\u001b[0;31m \u001b[0mob\u001b[0m\u001b[0;34m.\u001b[0m\u001b[0mset_course\u001b[0m\u001b[0;34m(\u001b[0m\u001b[0minput\u001b[0m\u001b[0;34m(\u001b[0m\u001b[0;34m)\u001b[0m\u001b[0;34m)\u001b[0m\u001b[0;34m\u001b[0m\u001b[0;34m\u001b[0m\u001b[0m\n\u001b[0m\u001b[1;32m     21\u001b[0m \u001b[0;31m#\u001b[0m\u001b[0;34m\u001b[0m\u001b[0;34m\u001b[0m\u001b[0m\n\u001b[1;32m     22\u001b[0m \u001b[0mob\u001b[0m\u001b[0;34m.\u001b[0m\u001b[0mset_fees\u001b[0m\u001b[0;34m(\u001b[0m\u001b[0mint\u001b[0m\u001b[0;34m(\u001b[0m\u001b[0minput\u001b[0m\u001b[0;34m(\u001b[0m\u001b[0;34m)\u001b[0m\u001b[0;34m)\u001b[0m\u001b[0;34m)\u001b[0m\u001b[0;34m\u001b[0m\u001b[0;34m\u001b[0m\u001b[0m\n",
            "\u001b[0;32m/usr/local/lib/python3.10/dist-packages/ipykernel/kernelbase.py\u001b[0m in \u001b[0;36mraw_input\u001b[0;34m(self, prompt)\u001b[0m\n\u001b[1;32m    849\u001b[0m                 \u001b[0;34m\"raw_input was called, but this frontend does not support input requests.\"\u001b[0m\u001b[0;34m\u001b[0m\u001b[0;34m\u001b[0m\u001b[0m\n\u001b[1;32m    850\u001b[0m             )\n\u001b[0;32m--> 851\u001b[0;31m         return self._input_request(str(prompt),\n\u001b[0m\u001b[1;32m    852\u001b[0m             \u001b[0mself\u001b[0m\u001b[0;34m.\u001b[0m\u001b[0m_parent_ident\u001b[0m\u001b[0;34m,\u001b[0m\u001b[0;34m\u001b[0m\u001b[0;34m\u001b[0m\u001b[0m\n\u001b[1;32m    853\u001b[0m             \u001b[0mself\u001b[0m\u001b[0;34m.\u001b[0m\u001b[0m_parent_header\u001b[0m\u001b[0;34m,\u001b[0m\u001b[0;34m\u001b[0m\u001b[0;34m\u001b[0m\u001b[0m\n",
            "\u001b[0;32m/usr/local/lib/python3.10/dist-packages/ipykernel/kernelbase.py\u001b[0m in \u001b[0;36m_input_request\u001b[0;34m(self, prompt, ident, parent, password)\u001b[0m\n\u001b[1;32m    893\u001b[0m             \u001b[0;32mexcept\u001b[0m \u001b[0mKeyboardInterrupt\u001b[0m\u001b[0;34m:\u001b[0m\u001b[0;34m\u001b[0m\u001b[0;34m\u001b[0m\u001b[0m\n\u001b[1;32m    894\u001b[0m                 \u001b[0;31m# re-raise KeyboardInterrupt, to truncate traceback\u001b[0m\u001b[0;34m\u001b[0m\u001b[0;34m\u001b[0m\u001b[0m\n\u001b[0;32m--> 895\u001b[0;31m                 \u001b[0;32mraise\u001b[0m \u001b[0mKeyboardInterrupt\u001b[0m\u001b[0;34m(\u001b[0m\u001b[0;34m\"Interrupted by user\"\u001b[0m\u001b[0;34m)\u001b[0m \u001b[0;32mfrom\u001b[0m \u001b[0;32mNone\u001b[0m\u001b[0;34m\u001b[0m\u001b[0;34m\u001b[0m\u001b[0m\n\u001b[0m\u001b[1;32m    896\u001b[0m             \u001b[0;32mexcept\u001b[0m \u001b[0mException\u001b[0m \u001b[0;32mas\u001b[0m \u001b[0me\u001b[0m\u001b[0;34m:\u001b[0m\u001b[0;34m\u001b[0m\u001b[0;34m\u001b[0m\u001b[0m\n\u001b[1;32m    897\u001b[0m                 \u001b[0mself\u001b[0m\u001b[0;34m.\u001b[0m\u001b[0mlog\u001b[0m\u001b[0;34m.\u001b[0m\u001b[0mwarning\u001b[0m\u001b[0;34m(\u001b[0m\u001b[0;34m\"Invalid Message:\"\u001b[0m\u001b[0;34m,\u001b[0m \u001b[0mexc_info\u001b[0m\u001b[0;34m=\u001b[0m\u001b[0;32mTrue\u001b[0m\u001b[0;34m)\u001b[0m\u001b[0;34m\u001b[0m\u001b[0;34m\u001b[0m\u001b[0m\n",
            "\u001b[0;31mKeyboardInterrupt\u001b[0m: Interrupted by user"
          ]
        }
      ],
      "source": [
        "class ITM:\n",
        "  def __init__(self , course=None , fees=0 ):\n",
        "    self.__course=course\n",
        "    self.__fees= fees\n",
        "\n",
        "  def set_course(self,course):\n",
        "    self.__course=course\n",
        "\n",
        "  def get_course(self):\n",
        "    return self.__course\n",
        "\n",
        "  def set_fees(self,fees):\n",
        "    self.__fees=fees\n",
        "\n",
        "  def get_fees(self):\n",
        "    return self.__fees\n",
        "\n",
        "\n",
        "ob=ITM()\n",
        "ob.set_course()\n",
        "print(ob.get_course())\n",
        "#\n",
        "ob.set_fees()\n",
        "print(ob.get_fees())"
      ]
    },
    {
      "cell_type": "code",
      "execution_count": null,
      "metadata": {
        "colab": {
          "base_uri": "https://localhost:8080/"
        },
        "id": "8HDiApoeh4Xz",
        "outputId": "3483056d-b6f1-45aa-b8e6-7e1d09267a72"
      },
      "outputs": [
        {
          "name": "stdout",
          "output_type": "stream",
          "text": [
            "btech\n",
            "2000000\n"
          ]
        }
      ],
      "source": [
        "class ITM:\n",
        "  def __init__(self , course=None , fees=0 ):\n",
        "    self.__course=course\n",
        "    self.__fees= fees\n",
        "\n",
        "  def set_course(self,course):\n",
        "    self.__course=course\n",
        "\n",
        "  def get_course(self):\n",
        "    return self.__course\n",
        "\n",
        "  def set_fees(self,fees):\n",
        "    self.__fees=fees\n",
        "\n",
        "  def get_fees(self):\n",
        "    return self.__fees\n",
        "\n",
        "\n",
        "ob=ITM()\n",
        "ob.set_course(\"btech\")\n",
        "print(ob.get_course())\n",
        "ob.set_fees(2000000)\n",
        "print(ob.get_fees())"
      ]
    },
    {
      "cell_type": "code",
      "execution_count": null,
      "metadata": {
        "colab": {
          "base_uri": "https://localhost:8080/"
        },
        "id": "Dl7-DL3ojYZG",
        "outputId": "80d3e243-51aa-4479-b2ed-405fdeb16d29"
      },
      "outputs": [
        {
          "name": "stdout",
          "output_type": "stream",
          "text": [
            "going to sleep\n",
            "defines sound\n",
            "i hissss\n"
          ]
        }
      ],
      "source": [
        "#astract\n",
        "from abc import ABC , abstractmethod\n",
        "\n",
        "class Animal:\n",
        "  def sleep(self):\n",
        "    print(\"going to sleep\")\n",
        "\n",
        "  @abstractmethod\n",
        "  def sound(self):\n",
        "    print(\"defines sound\")\n",
        "    pass\n",
        "\n",
        "class Snake:\n",
        "  def sound(self):\n",
        "    print(\"i hissss\")\n",
        "\n",
        "\n",
        "\n",
        "ob=Animal()\n",
        "ob.sleep()\n",
        "ob.sound()\n",
        "ob=Snake()\n",
        "ob.sound()\n"
      ]
    },
    {
      "cell_type": "code",
      "execution_count": null,
      "metadata": {
        "colab": {
          "base_uri": "https://localhost:8080/"
        },
        "id": "GMEY4OUmoOe2",
        "outputId": "71066c60-a940-4d07-c67a-d2383d73e771"
      },
      "outputs": [
        {
          "name": "stdout",
          "output_type": "stream",
          "text": [
            "gauri\n",
            "22\n"
          ]
        }
      ],
      "source": [
        "class Student:\n",
        "  def __init__(self,name=None,idd= 0):\n",
        "    self.__name=name\n",
        "    self.__idd=idd\n",
        "\n",
        "\n",
        "  def set_name(self,name):\n",
        "    self.__name=name\n",
        "\n",
        "  def get_name(self):\n",
        "    return self.__name\n",
        "\n",
        "  def set_idd(self,idd):\n",
        "    self.__idd=idd\n",
        "\n",
        "  def get_idd(self):\n",
        "    return self.__idd\n",
        "\n",
        "\n",
        "ob=Student()\n",
        "ob.set_name(\"gauri\")\n",
        "print(ob.get_name())\n",
        "ob.set_idd(22)\n",
        "print(ob.get_idd())\n"
      ]
    },
    {
      "cell_type": "code",
      "execution_count": null,
      "metadata": {
        "colab": {
          "background_save": true,
          "base_uri": "https://localhost:8080/"
        },
        "id": "03jTX0ViqiMR",
        "outputId": "0eec07bb-7703-4efd-cf01-defa266827f0"
      },
      "outputs": [
        {
          "name": "stdout",
          "output_type": "stream",
          "text": [
            "I am an ITMIAN\n",
            "i am btech student\n",
            "i am cse student\n",
            "i am in civil\n"
          ]
        }
      ],
      "source": [
        "from abc import ABC , abstractmethod\n",
        "class ITM:\n",
        "  def student(self):\n",
        "    print(\"I am an ITMIAN\")\n",
        "\n",
        "  @abstractmethod\n",
        "  def btech(self):\n",
        "    print(\"i am btech student\")\n",
        "\n",
        "\n",
        "class Cse:\n",
        "  def btech(self):\n",
        "    print(\"i am cse student\")\n",
        "\n",
        "class Civil:\n",
        "  def btech(self):\n",
        "    print(\"i am i\")\n",
        "\n",
        "\n",
        "ob=ITM()\n",
        "ob.student()\n",
        "ob.btech()\n",
        "ob=Cse()\n",
        "ob.btech(\n",
        "\n",
        ")\n"
      ]
    },
    {
      "cell_type": "markdown",
      "metadata": {
        "id": "h_OZHOR_uwwP"
      },
      "source": [
        "**12 june 2023**"
      ]
    },
    {
      "cell_type": "code",
      "execution_count": null,
      "metadata": {
        "colab": {
          "base_uri": "https://localhost:8080/"
        },
        "id": "2-vObILpu2Vd",
        "outputId": "fb361573-d1d3-4b22-a40a-dcc6a26f1b4c"
      },
      "outputs": [
        {
          "name": "stdout",
          "output_type": "stream",
          "text": [
            "cchild \n",
            "parent class\n"
          ]
        }
      ],
      "source": [
        "#inheritance single\n",
        "\n",
        "class Parent:\n",
        "  def parent(self):\n",
        "    print(\"parent class\")\n",
        "\n",
        "class Child(Parent):\n",
        "  def child(self):\n",
        "    print(\"cchild \")\n",
        "\n",
        "\n",
        "ch = Child()\n",
        "# ch.parent()\n",
        "ch.child()\n",
        "ch.parent()\n",
        "\n"
      ]
    },
    {
      "cell_type": "code",
      "execution_count": null,
      "metadata": {
        "colab": {
          "base_uri": "https://localhost:8080/"
        },
        "id": "DXVWzQqtxPT9",
        "outputId": "95819ad4-7a7b-4c2c-fa06-39c0842ac8e8"
      },
      "outputs": [
        {
          "name": "stdout",
          "output_type": "stream",
          "text": [
            "i am child\n",
            "mere papa\n",
            "grandmom\n",
            "grandpapa\n"
          ]
        }
      ],
      "source": [
        "class Gparent1:\n",
        "  def gparent1(self):\n",
        "    print(\"grandmom\") #hybrid\n",
        "\n",
        "class Gparent2:\n",
        "  def gparent2(self):\n",
        "    print(\"grandpapa\")\n",
        "\n",
        "\n",
        "class Son(Gparent1 , Gparent2):\n",
        "  def son(self):\n",
        "    print(\"mere papa\")\n",
        "\n",
        "\n",
        "class Grandson(Son):\n",
        "  def grandson(self):\n",
        "    print(\"i am child\")\n",
        "\n",
        "\n",
        "\n",
        "ch=Grandson()\n",
        "ch.grandson()\n",
        "ch.son()\n",
        "ch.gparent1()\n",
        "ch.gparent2()\n"
      ]
    },
    {
      "cell_type": "code",
      "execution_count": null,
      "metadata": {
        "colab": {
          "base_uri": "https://localhost:8080/"
        },
        "id": "gM3ZKA_PzI2l",
        "outputId": "67f5e1e7-4e89-403f-aa77-fd30024d5185"
      },
      "outputs": [
        {
          "name": "stdout",
          "output_type": "stream",
          "text": [
            "i am child\n",
            "mere papa\n",
            "greatgrandfather\n",
            "grandpapa\n"
          ]
        }
      ],
      "source": [
        "#multilevel\n",
        "class GGparent:\n",
        "  def ggparent(self):\n",
        "    print(\"greatgrandfather\") #hybrid\n",
        "\n",
        "class Gparent(GGparent):\n",
        "  def gparent(self):\n",
        "    print(\"grandpapa\")\n",
        "\n",
        "\n",
        "class Son(Gparent):\n",
        "  def son(self):\n",
        "    print(\"mere papa\")\n",
        "\n",
        "\n",
        "class Grandson(Son):\n",
        "  def grandson(self):\n",
        "    print(\"i am child\")\n",
        "\n",
        "\n",
        "\n",
        "ch=Grandson()\n",
        "ch.grandson()\n",
        "ch.son()\n",
        "ch.ggparent()\n",
        "ch.gparent()\n"
      ]
    },
    {
      "cell_type": "code",
      "execution_count": null,
      "metadata": {
        "id": "wzcTkYfyzotK"
      },
      "outputs": [],
      "source": [
        "#hybrid\n",
        "\n"
      ]
    },
    {
      "cell_type": "code",
      "execution_count": null,
      "metadata": {
        "colab": {
          "base_uri": "https://localhost:8080/"
        },
        "id": "-H_-Woxkyj7b",
        "outputId": "92a61edd-1253-44b6-8b97-c9302c4dd456"
      },
      "outputs": [
        {
          "name": "stdout",
          "output_type": "stream",
          "text": [
            "chota beta\n",
            "bada beta\n",
            "papa\n"
          ]
        }
      ],
      "source": [
        "class parent:\n",
        "  def parent(self):\n",
        "    print(\"papa\")\n",
        "\n",
        "\n",
        "class Son1(parent):\n",
        "  def son(self):\n",
        "    print(\"bada beta\")\n",
        "\n",
        "class Son2(parent):\n",
        "  def son2(parent):\n",
        "    print(\"chota beta\")\n",
        "\n",
        "\n",
        "ch=Son2()\n",
        "ch.son2()\n",
        "\n",
        "ch1=Son1()\n",
        "ch1.son()\n",
        "\n",
        "ch.parent()\n",
        "\n"
      ]
    },
    {
      "cell_type": "code",
      "execution_count": null,
      "metadata": {
        "colab": {
          "base_uri": "https://localhost:8080/"
        },
        "id": "QLb8xqIJ0hYg",
        "outputId": "f0753661-d3c8-4097-f1dd-f54de54e0541"
      },
      "outputs": [
        {
          "name": "stdout",
          "output_type": "stream",
          "text": [
            "chota beta\n",
            "mom\n",
            "papa\n",
            "bada beta\n",
            "mom\n",
            "papa\n"
          ]
        }
      ],
      "source": [
        "#multiple\n",
        "\n",
        "class parent1:\n",
        "  def parent1(self):\n",
        "    print(\"mom\")\n",
        "\n",
        "\n",
        "class parent2:\n",
        "  def parent2(self):\n",
        "    print(\"papa\")\n",
        "\n",
        "\n",
        "class Son1(parent1,parent2):\n",
        "  def son(self):\n",
        "    print(\"bada beta\")\n",
        "\n",
        "class Son2(parent2,parent1):\n",
        "  def son2(self):\n",
        "    print(\"chota beta\")\n",
        "\n",
        "\n",
        "\n",
        "ch=Son2()\n",
        "ch.son2()\n",
        "ch.parent1()\n",
        "ch.parent2()\n",
        "\n",
        "ch=Son1()\n",
        "ch.son()\n",
        "ch.parent1()\n",
        "ch.parent2()\n"
      ]
    },
    {
      "cell_type": "code",
      "execution_count": null,
      "metadata": {
        "colab": {
          "base_uri": "https://localhost:8080/"
        },
        "id": "kIMKoyCx10pc",
        "outputId": "c9bb1969-63d4-409f-8ce2-d6e9f28e7dc4"
      },
      "outputs": [
        {
          "name": "stdout",
          "output_type": "stream",
          "text": [
            "this is parent\n",
            "child method\n"
          ]
        }
      ],
      "source": [
        "class Parent:\n",
        "  def __init__(self):\n",
        "    print(\"this is parent\")\n",
        "\n",
        "\n",
        "class Child(Parent):\n",
        "  def __init__(self):\n",
        "    super().__init__()\n",
        "    print(\"child method\")\n",
        "\n",
        "\n",
        "ch=Child()\n"
      ]
    },
    {
      "cell_type": "code",
      "execution_count": null,
      "metadata": {
        "colab": {
          "base_uri": "https://localhost:8080/"
        },
        "id": "9fHwaFFi2fBU",
        "outputId": "e533c7c5-1e5d-4962-9cd5-6f03402bb651"
      },
      "outputs": [
        {
          "name": "stdout",
          "output_type": "stream",
          "text": [
            "parent\n",
            "child\n",
            "parent\n"
          ]
        }
      ],
      "source": [
        "class Parent:\n",
        "  def __init__(self):\n",
        "    print(\"parent\")\n",
        "\n",
        "class Child(Parent):\n",
        "  def __init__(self):\n",
        "    super().__init__()\n",
        "    print(\"child\")\n",
        "    super().__init__()\n",
        "\n",
        "\n",
        "ch=Child()"
      ]
    },
    {
      "cell_type": "code",
      "execution_count": null,
      "metadata": {
        "colab": {
          "base_uri": "https://localhost:8080/"
        },
        "id": "HtbJUXJV3UxK",
        "outputId": "128c0d8e-1382-4d3c-b799-3e197b077af1"
      },
      "outputs": [
        {
          "name": "stdout",
          "output_type": "stream",
          "text": [
            "parent method\n",
            "child\n",
            "kothekar\n"
          ]
        }
      ],
      "source": [
        "class Parent:\n",
        "  def __init__(self , surname):\n",
        "    self.surname=surname\n",
        "    print(\"parent method\")\n",
        "\n",
        "class Child(Parent):\n",
        "  def __init__(self):\n",
        "    super().__init__(\"kothekar\")\n",
        "    print(\"child\")\n",
        "\n",
        "ch=Child()\n",
        "print(ch.surname)"
      ]
    },
    {
      "cell_type": "code",
      "execution_count": null,
      "metadata": {
        "colab": {
          "base_uri": "https://localhost:8080/"
        },
        "id": "WPTzoDiA4JVw",
        "outputId": "f1a0c10b-2b8a-4b0d-a2af-ead7f1306802"
      },
      "outputs": [
        {
          "name": "stdout",
          "output_type": "stream",
          "text": [
            "this is child\n",
            "this is parent method\n",
            "kothekar\n"
          ]
        }
      ],
      "source": [
        "class Parent:\n",
        "  def __init__(self):\n",
        "    self.surname=\"kothekar\"\n",
        "\n",
        "  def show(self , age):\n",
        "    print(\"this is parent method\")\n",
        "\n",
        "class Child(Parent):\n",
        "  def child(self):\n",
        "    print(\"this is child\")\n",
        "    super().show(22)\n",
        "    print(self.surname)\n",
        "\n",
        "ch=Child()\n",
        "ch.child()"
      ]
    },
    {
      "cell_type": "code",
      "execution_count": null,
      "metadata": {
        "colab": {
          "base_uri": "https://localhost:8080/"
        },
        "id": "3TKOI6de6RgZ",
        "outputId": "138b05c7-4752-4174-8b7d-fc7cea27a0e4"
      },
      "outputs": [
        {
          "name": "stdout",
          "output_type": "stream",
          "text": [
            "child\n",
            "method 1\n"
          ]
        }
      ],
      "source": [
        "#multiple inheritance\n",
        "class Parent1:\n",
        "  def method(self):\n",
        "    print(\"method 1\")\n",
        "\n",
        "class Parent2:\n",
        "  def method(self):\n",
        "    print(\"method 2\")\n",
        "\n",
        "class Child(Parent1,Parent2):\n",
        "  print(\"child\")\n",
        "\n",
        "\n",
        "ch=Child()\n",
        "ch.method()\n",
        "\n"
      ]
    },
    {
      "cell_type": "code",
      "execution_count": null,
      "metadata": {
        "colab": {
          "base_uri": "https://localhost:8080/"
        },
        "id": "m_h-UMao68zQ",
        "outputId": "0adea9c9-f785-41c9-861b-93051af70be0"
      },
      "outputs": [
        {
          "name": "stdout",
          "output_type": "stream",
          "text": [
            "child\n",
            "method 2\n"
          ]
        }
      ],
      "source": [
        "#multiple inheritance\n",
        "class Parent1:\n",
        "  def method(self):\n",
        "    print(\"method 1\")\n",
        "\n",
        "class Parent2:\n",
        "  def method(self):\n",
        "    print(\"method 2\")\n",
        "\n",
        "class Child(Parent2,Parent1):\n",
        "  print(\"child\")\n",
        "\n",
        "\n",
        "ch=Child()\n",
        "ch.method()\n",
        "\n"
      ]
    },
    {
      "cell_type": "code",
      "execution_count": null,
      "metadata": {
        "colab": {
          "base_uri": "https://localhost:8080/"
        },
        "id": "bNWpQyhp7H2_",
        "outputId": "8a1b2de6-7801-4514-8285-9d0d69847dc4"
      },
      "outputs": [
        {
          "name": "stdout",
          "output_type": "stream",
          "text": [
            "1\n",
            "child\n"
          ]
        }
      ],
      "source": [
        "class Parent1:\n",
        "  def __init__(self):\n",
        "    print(\"1\")\n",
        "\n",
        "class Parent2:\n",
        "  def __init__(self):\n",
        "    print(\"2\")\n",
        "\n",
        "class Child(Parent1,Parent2):\n",
        "  def __init__(self):\n",
        "    super().__init__()\n",
        "    print(\"child\")\n",
        "\n",
        "ch=Child()\n",
        "\n",
        "\n",
        "\n"
      ]
    },
    {
      "cell_type": "code",
      "execution_count": null,
      "metadata": {
        "colab": {
          "base_uri": "https://localhost:8080/"
        },
        "id": "WpqAhKJI8Bub",
        "outputId": "5db2eba2-9b15-41ff-be0b-c8afb09e1080"
      },
      "outputs": [
        {
          "name": "stdout",
          "output_type": "stream",
          "text": [
            "1\n",
            "1\n",
            "child\n"
          ]
        }
      ],
      "source": [
        "class Parent1:\n",
        "  def __init__(self):\n",
        "    print(\"1\")\n",
        "\n",
        "\n",
        "class Parent2:\n",
        "  def __init__(self):\n",
        "    print(\"2\")\n",
        "\n",
        "class Child(Parent1,Parent2):\n",
        "  def __init__(self):\n",
        "    Parent1().__init__()\n",
        "    print(\"child\")\n",
        "\n",
        "ch=Child()"
      ]
    },
    {
      "cell_type": "code",
      "execution_count": null,
      "metadata": {
        "id": "hNhFEyzn9yP3"
      },
      "outputs": [],
      "source": [
        "#polymorphism\n",
        "\n",
        "#--1--method overriding\n",
        "#--2--method overloading\n",
        "#---3--operator\n"
      ]
    },
    {
      "cell_type": "code",
      "execution_count": null,
      "metadata": {
        "colab": {
          "base_uri": "https://localhost:8080/"
        },
        "id": "qWD_yFcv8GpP",
        "outputId": "437b6c9a-90f7-4ab7-da89-e869a80f67e9"
      },
      "outputs": [
        {
          "name": "stdout",
          "output_type": "stream",
          "text": [
            "parent\n"
          ]
        }
      ],
      "source": [
        "class Parent:\n",
        "  def method(self):\n",
        "    print(\"parent\")\n",
        "\n",
        "\n",
        "\n",
        "class Child(Parent):\n",
        "  def method1(self):\n",
        "    print(\"child\")\n",
        "\n",
        "\n",
        "ch=Child()\n",
        "ch.method()\n"
      ]
    },
    {
      "cell_type": "code",
      "execution_count": null,
      "metadata": {
        "colab": {
          "base_uri": "https://localhost:8080/",
          "height": 219
        },
        "id": "ywJTl-0H_LA_",
        "outputId": "9f1ae002-f8eb-49c3-e75b-6b57a12299a1"
      },
      "outputs": [
        {
          "ename": "TypeError",
          "evalue": "ignored",
          "output_type": "error",
          "traceback": [
            "\u001b[0;31m---------------------------------------------------------------------------\u001b[0m",
            "\u001b[0;31mTypeError\u001b[0m                                 Traceback (most recent call last)",
            "\u001b[0;32m<ipython-input-62-7ae55a162082>\u001b[0m in \u001b[0;36m<cell line: 13>\u001b[0;34m()\u001b[0m\n\u001b[1;32m     11\u001b[0m \u001b[0;34m\u001b[0m\u001b[0m\n\u001b[1;32m     12\u001b[0m \u001b[0mch\u001b[0m\u001b[0;34m=\u001b[0m\u001b[0mChild\u001b[0m\u001b[0;34m(\u001b[0m\u001b[0;34m)\u001b[0m\u001b[0;34m\u001b[0m\u001b[0;34m\u001b[0m\u001b[0m\n\u001b[0;32m---> 13\u001b[0;31m \u001b[0mch\u001b[0m\u001b[0;34m.\u001b[0m\u001b[0mmethod\u001b[0m\u001b[0;34m(\u001b[0m\u001b[0;34m)\u001b[0m\u001b[0;34m\u001b[0m\u001b[0;34m\u001b[0m\u001b[0m\n\u001b[0m\u001b[1;32m     14\u001b[0m \u001b[0mch\u001b[0m\u001b[0;34m.\u001b[0m\u001b[0mmethod\u001b[0m\u001b[0;34m(\u001b[0m\u001b[0;36m10\u001b[0m\u001b[0;34m)\u001b[0m\u001b[0;34m\u001b[0m\u001b[0;34m\u001b[0m\u001b[0m\n",
            "\u001b[0;31mTypeError\u001b[0m: Child.method() missing 1 required positional argument: 'num1'"
          ]
        }
      ],
      "source": [
        "class Parent:\n",
        "  def method(self):\n",
        "    print(\"parent\")\n",
        "\n",
        "\n",
        "\n",
        "class Child(Parent):\n",
        "  def method(self , num1):\n",
        "    print(\"child\")\n",
        "\n",
        "\n",
        "ch=Child()\n",
        "ch.method()\n",
        "ch.method(10)\n"
      ]
    },
    {
      "cell_type": "code",
      "execution_count": null,
      "metadata": {
        "colab": {
          "base_uri": "https://localhost:8080/",
          "height": 219
        },
        "id": "4KsU8rGv_bCG",
        "outputId": "6c5a86f4-d6a4-4a15-921a-bea93e3a3dbf"
      },
      "outputs": [
        {
          "ename": "TypeError",
          "evalue": "ignored",
          "output_type": "error",
          "traceback": [
            "\u001b[0;31m---------------------------------------------------------------------------\u001b[0m",
            "\u001b[0;31mTypeError\u001b[0m                                 Traceback (most recent call last)",
            "\u001b[0;32m<ipython-input-93-987a8e8b2a2b>\u001b[0m in \u001b[0;36m<cell line: 11>\u001b[0;34m()\u001b[0m\n\u001b[1;32m      9\u001b[0m \u001b[0;34m\u001b[0m\u001b[0m\n\u001b[1;32m     10\u001b[0m \u001b[0mm\u001b[0m\u001b[0;34m=\u001b[0m\u001b[0mMyClass\u001b[0m\u001b[0;34m(\u001b[0m\u001b[0;34m)\u001b[0m\u001b[0;34m\u001b[0m\u001b[0;34m\u001b[0m\u001b[0m\n\u001b[0;32m---> 11\u001b[0;31m \u001b[0mm\u001b[0m\u001b[0;34m.\u001b[0m\u001b[0mmethod\u001b[0m\u001b[0;34m(\u001b[0m\u001b[0;36m100\u001b[0m\u001b[0;34m)\u001b[0m\u001b[0;34m\u001b[0m\u001b[0;34m\u001b[0m\u001b[0m\n\u001b[0m\u001b[1;32m     12\u001b[0m \u001b[0mm\u001b[0m\u001b[0;34m.\u001b[0m\u001b[0mmethod\u001b[0m\u001b[0;34m(\u001b[0m\u001b[0;36m100\u001b[0m\u001b[0;34m,\u001b[0m\u001b[0;36m200\u001b[0m\u001b[0;34m)\u001b[0m\u001b[0;34m\u001b[0m\u001b[0;34m\u001b[0m\u001b[0m\n",
            "\u001b[0;31mTypeError\u001b[0m: MyClass.method() missing 1 required positional argument: 'num2'"
          ]
        }
      ],
      "source": [
        "#method overloading change parammeters but reside within the class\n",
        "\n",
        "class MyClass:\n",
        "  def method(self,num1 ):\n",
        "    print(\"this is method one\")\n",
        "\n",
        "  def method(self , num1 , num2):\n",
        "    print(\"this is mothod two\")\n",
        "\n",
        "m=MyClass()\n",
        "m.method(100)\n",
        "m.method(100,200)"
      ]
    },
    {
      "cell_type": "code",
      "execution_count": null,
      "metadata": {
        "colab": {
          "base_uri": "https://localhost:8080/"
        },
        "id": "a1ZipYyXBRHQ",
        "outputId": "06698abe-aa8f-40fa-bca7-65d9bc98dc0b"
      },
      "outputs": [
        {
          "name": "stdout",
          "output_type": "stream",
          "text": [
            "30\n",
            "200\n",
            "True\n",
            "100000000000000000000\n",
            "0\n"
          ]
        }
      ],
      "source": [
        "#operator overloading\n",
        "\n",
        "\n",
        "class MyClass:\n",
        "  def __init__(self , num):\n",
        "    self.num=num\n",
        "\n",
        "  def __add__(self ,other):\n",
        "    return self.num+other.num\n",
        "\n",
        "  def __mul__(self , other):\n",
        "    return self.num * other.num\n",
        "\n",
        "  def __sub__(self , other):\n",
        "    return self.num - other.num\n",
        "\n",
        "  def __div__(self , other):\n",
        "    return self.num / other.num\n",
        "\n",
        "  def __lt__(self , other):\n",
        "    return self.num < other.num\n",
        "\n",
        "  def __pow__(self , other):\n",
        "    return self.num ** other.num\n",
        "\n",
        "  def __floordiv__(self , other):\n",
        "    return self.num // other.num\n",
        "\n",
        "m1=MyClass(10)\n",
        "m2=MyClass(20)\n",
        "# print(m1.num+m2.num)\n",
        "# print(m1.num*m2.num)\n",
        "# print(m1.num-m2.num)\n",
        "# print(m1.num/m2.num)\n",
        "print(m1+m2)\n",
        "print(m1*m2)\n",
        "print(m1<m2)\n",
        "print(m1**m2)\n",
        "print(m1//m2)\n",
        "\n",
        "\n",
        "\n"
      ]
    },
    {
      "cell_type": "code",
      "execution_count": null,
      "metadata": {
        "colab": {
          "base_uri": "https://localhost:8080/",
          "height": 236
        },
        "id": "7M8mev_yFII6",
        "outputId": "f71c0630-8d41-4fd1-e162-7094f79e8815"
      },
      "outputs": [
        {
          "ename": "TypeError",
          "evalue": "ignored",
          "output_type": "error",
          "traceback": [
            "\u001b[0;31m---------------------------------------------------------------------------\u001b[0m",
            "\u001b[0;31mTypeError\u001b[0m                                 Traceback (most recent call last)",
            "\u001b[0;32m<ipython-input-100-bee843e1cb66>\u001b[0m in \u001b[0;36m<cell line: 19>\u001b[0;34m()\u001b[0m\n\u001b[1;32m     17\u001b[0m \u001b[0;34m\u001b[0m\u001b[0m\n\u001b[1;32m     18\u001b[0m \u001b[0;34m\u001b[0m\u001b[0m\n\u001b[0;32m---> 19\u001b[0;31m \u001b[0mm1\u001b[0m\u001b[0;34m=\u001b[0m\u001b[0mMyClass\u001b[0m\u001b[0;34m(\u001b[0m\u001b[0;36m100\u001b[0m\u001b[0;34m)\u001b[0m\u001b[0;34m\u001b[0m\u001b[0;34m\u001b[0m\u001b[0m\n\u001b[0m\u001b[1;32m     20\u001b[0m \u001b[0mm2\u001b[0m\u001b[0;34m=\u001b[0m\u001b[0mMyClass\u001b[0m\u001b[0;34m(\u001b[0m\u001b[0;36m200\u001b[0m\u001b[0;34m)\u001b[0m\u001b[0;34m\u001b[0m\u001b[0;34m\u001b[0m\u001b[0m\n\u001b[1;32m     21\u001b[0m \u001b[0mm3\u001b[0m\u001b[0;34m=\u001b[0m\u001b[0mMyClass\u001b[0m\u001b[0;34m(\u001b[0m\u001b[0;36m100\u001b[0m\u001b[0;34m)\u001b[0m\u001b[0;34m\u001b[0m\u001b[0;34m\u001b[0m\u001b[0m\n",
            "\u001b[0;31mTypeError\u001b[0m: MyClass.__init__() missing 1 required positional argument: 'num2'"
          ]
        }
      ],
      "source": [
        "\n",
        "\n",
        "class MyClass:\n",
        "  def __init__(self , num , num2):\n",
        "    self.num=num\n",
        "    self.num2=num2\n",
        "\n",
        "  def __add__(self ,other,other1):\n",
        "    return self.num+self.num\n",
        "\n",
        "  def __mul__(self , other , other1):\n",
        "    return self.num * self.num\n",
        "\n",
        "  def __sub__(self , other , other1):\n",
        "    return self.num - self.num\n",
        "\n",
        "  def __div__(self , other , other1):\n",
        "    return self.num / self.num\n",
        "\n",
        "  def __lt__(sel)\n",
        "\n",
        "\n",
        "m1=MyClass(100)\n",
        "m2=MyClass(200)\n",
        "m3=MyClass(100)\n",
        "# print(m1.nu)\n",
        "# print(m1.num*m2.num*m3.num)\n",
        "# print(m1.num-m2.num-m3.num)\n",
        "# print(m1.num/m2.num/m3.num)\n",
        "print(m1+m2+m3)"
      ]
    },
    {
      "cell_type": "code",
      "execution_count": null,
      "metadata": {
        "colab": {
          "base_uri": "https://localhost:8080/",
          "height": 375
        },
        "id": "7T9GHqXvDlkw",
        "outputId": "f220079d-f539-4458-975e-5c886dbf9929"
      },
      "outputs": [
        {
          "name": "stdout",
          "output_type": "stream",
          "text": [
            "this is an animal\n"
          ]
        },
        {
          "ename": "AttributeError",
          "evalue": "ignored",
          "output_type": "error",
          "traceback": [
            "\u001b[0;31m---------------------------------------------------------------------------\u001b[0m",
            "\u001b[0;31mAttributeError\u001b[0m                            Traceback (most recent call last)",
            "\u001b[0;32m<ipython-input-122-8102b2f55e52>\u001b[0m in \u001b[0;36m<cell line: 26>\u001b[0;34m()\u001b[0m\n\u001b[1;32m     24\u001b[0m \u001b[0;34m\u001b[0m\u001b[0m\n\u001b[1;32m     25\u001b[0m \u001b[0;34m\u001b[0m\u001b[0m\n\u001b[0;32m---> 26\u001b[0;31m \u001b[0mcheckk\u001b[0m\u001b[0;34m(\u001b[0m\u001b[0mdog\u001b[0m\u001b[0;34m)\u001b[0m\u001b[0;34m\u001b[0m\u001b[0;34m\u001b[0m\u001b[0m\n\u001b[0m\u001b[1;32m     27\u001b[0m \u001b[0;31m# checkk(jadu)\u001b[0m\u001b[0;34m\u001b[0m\u001b[0;34m\u001b[0m\u001b[0m\n\u001b[1;32m     28\u001b[0m \u001b[0;31m# checkk(manav)\u001b[0m\u001b[0;34m\u001b[0m\u001b[0;34m\u001b[0m\u001b[0m\n",
            "\u001b[0;32m<ipython-input-122-8102b2f55e52>\u001b[0m in \u001b[0;36mcheckk\u001b[0;34m(sel)\u001b[0m\n\u001b[1;32m     20\u001b[0m \u001b[0;32mdef\u001b[0m \u001b[0mcheckk\u001b[0m\u001b[0;34m(\u001b[0m\u001b[0msel\u001b[0m\u001b[0;34m)\u001b[0m\u001b[0;34m:\u001b[0m\u001b[0;34m\u001b[0m\u001b[0;34m\u001b[0m\u001b[0m\n\u001b[1;32m     21\u001b[0m   \u001b[0msel\u001b[0m\u001b[0;34m.\u001b[0m\u001b[0meat\u001b[0m\u001b[0;34m(\u001b[0m\u001b[0;34m)\u001b[0m\u001b[0;34m\u001b[0m\u001b[0;34m\u001b[0m\u001b[0m\n\u001b[0;32m---> 22\u001b[0;31m   \u001b[0msel\u001b[0m\u001b[0;34m.\u001b[0m\u001b[0mfly\u001b[0m\u001b[0;34m(\u001b[0m\u001b[0;34m)\u001b[0m\u001b[0;34m\u001b[0m\u001b[0;34m\u001b[0m\u001b[0m\n\u001b[0m\u001b[1;32m     23\u001b[0m   \u001b[0msel\u001b[0m\u001b[0;34m.\u001b[0m\u001b[0moverthinker\u001b[0m\u001b[0;34m(\u001b[0m\u001b[0;34m)\u001b[0m\u001b[0;34m\u001b[0m\u001b[0;34m\u001b[0m\u001b[0m\n\u001b[1;32m     24\u001b[0m \u001b[0;34m\u001b[0m\u001b[0m\n",
            "\u001b[0;31mAttributeError\u001b[0m: 'Animal' object has no attribute 'fly'"
          ]
        }
      ],
      "source": [
        "#duck type\n",
        "class Alien:\n",
        "  def fly(self):\n",
        "    print(\"this is an alien\")\n",
        "\n",
        "class Human:\n",
        "  def overthinker(self):\n",
        "    print(\"this is human\")\n",
        "\n",
        "class Animal:\n",
        "  def eat(self):\n",
        "    print(\"this is an animal\")\n",
        "\n",
        "\n",
        "dog = Animal()\n",
        "jadu = Alien()\n",
        "manav =  Human()\n",
        "\n",
        "\n",
        "def checkk(sel):\n",
        "  sel.eat()\n",
        "  sel.fly()\n",
        "  sel.overthinker()\n",
        "\n",
        "\n",
        "checkk(dog)\n",
        "# checkk(jadu)\n",
        "# checkk(manav)\n",
        "\n",
        "\n",
        "\n"
      ]
    },
    {
      "cell_type": "markdown",
      "metadata": {
        "id": "d-0_AfmZVXZZ"
      },
      "source": [
        "**13 june 2023**"
      ]
    },
    {
      "cell_type": "code",
      "execution_count": null,
      "metadata": {
        "id": "JhYn1bm5ViXT"
      },
      "outputs": [],
      "source": [
        "# #exception handling\n",
        "# try----yha error ati he\n",
        "# except ----- yha us error ko solve krte he\n",
        "# finally----ye data resource ko end karne k lie use krt he\n",
        "\n",
        "# exception is also a part of error but we do not handle the errors but we handle the exceptions\n",
        "\n",
        "# there can be multi try multi catch.\n",
        "# only single finally\n",
        "\n",
        "\n",
        "#it can be try except and else  and try else:\n"
      ]
    },
    {
      "cell_type": "code",
      "execution_count": null,
      "metadata": {
        "colab": {
          "base_uri": "https://localhost:8080/"
        },
        "id": "FAxaPqjqWIBw",
        "outputId": "46cf1421-42c9-476f-ea8c-b9ca4824bf3e"
      },
      "outputs": [
        {
          "name": "stdout",
          "output_type": "stream",
          "text": [
            "start\n",
            "5.0\n"
          ]
        }
      ],
      "source": [
        "print(\"start\")\n",
        "try:\n",
        "  print(10/2)\n",
        "except Exception as e:\n",
        "  print(e)"
      ]
    },
    {
      "cell_type": "code",
      "execution_count": null,
      "metadata": {
        "colab": {
          "base_uri": "https://localhost:8080/"
        },
        "id": "cq1j29PTWgt3",
        "outputId": "4258661c-648d-4e73-e96d-127441d714a5"
      },
      "outputs": [
        {
          "name": "stdout",
          "output_type": "stream",
          "text": [
            "start\n",
            "division by zero\n"
          ]
        }
      ],
      "source": [
        "print(\"start\")\n",
        "try:\n",
        "  print(10/0)\n",
        "except ArithmeticError as e:\n",
        "  print(e)"
      ]
    },
    {
      "cell_type": "code",
      "execution_count": null,
      "metadata": {
        "colab": {
          "base_uri": "https://localhost:8080/"
        },
        "id": "e9mak4XNWs3L",
        "outputId": "602fa660-bc90-4a94-dc0a-a3e2e20ffdf4"
      },
      "outputs": [
        {
          "name": "stdout",
          "output_type": "stream",
          "text": [
            "gauri kothekar\n",
            "0\n",
            "there is some errror\n",
            "ennd\n"
          ]
        }
      ],
      "source": [
        "print(\"gauri kothekar\")\n",
        "\n",
        "try:\n",
        "  x=int(input())\n",
        "  print(100/x)\n",
        "\n",
        "\n",
        "except Exception as e:\n",
        "  print(\"there is some errror\")\n",
        "\n",
        "\n",
        "finally:\n",
        "  print(\"ennd\")"
      ]
    },
    {
      "cell_type": "code",
      "execution_count": null,
      "metadata": {
        "colab": {
          "base_uri": "https://localhost:8080/"
        },
        "id": "1XaK6UKcXO-t",
        "outputId": "20180698-ea76-47b8-897b-0c8c7bac341b"
      },
      "outputs": [
        {
          "name": "stdout",
          "output_type": "stream",
          "text": [
            "hy\n",
            "list index out of range\n"
          ]
        }
      ],
      "source": [
        "print(\"hy\")\n",
        "\n",
        "try:\n",
        "  li=[1,2,3,4]\n",
        "  print(li[7])\n",
        "\n",
        "except Exception as e:\n",
        "  print(e)"
      ]
    },
    {
      "cell_type": "code",
      "execution_count": null,
      "metadata": {
        "colab": {
          "base_uri": "https://localhost:8080/",
          "height": 252
        },
        "id": "55u6ZqcOXiTU",
        "outputId": "8c2b8764-9404-4657-f567-7ffa4ac48083"
      },
      "outputs": [
        {
          "name": "stdout",
          "output_type": "stream",
          "text": [
            "start\n"
          ]
        },
        {
          "ename": "IndexError",
          "evalue": "ignored",
          "output_type": "error",
          "traceback": [
            "\u001b[0;31m---------------------------------------------------------------------------\u001b[0m",
            "\u001b[0;31mIndexError\u001b[0m                                Traceback (most recent call last)",
            "\u001b[0;32m<ipython-input-9-d0a99a8a96bf>\u001b[0m in \u001b[0;36m<cell line: 3>\u001b[0;34m()\u001b[0m\n\u001b[1;32m      3\u001b[0m \u001b[0;32mtry\u001b[0m\u001b[0;34m:\u001b[0m\u001b[0;34m\u001b[0m\u001b[0;34m\u001b[0m\u001b[0m\n\u001b[1;32m      4\u001b[0m   \u001b[0mtup\u001b[0m\u001b[0;34m=\u001b[0m\u001b[0;34m(\u001b[0m\u001b[0;36m8\u001b[0m\u001b[0;34m,\u001b[0m\u001b[0;36m5\u001b[0m\u001b[0;34m,\u001b[0m\u001b[0;36m6\u001b[0m\u001b[0;34m,\u001b[0m\u001b[0;36m7\u001b[0m\u001b[0;34m,\u001b[0m\u001b[0;36m8\u001b[0m\u001b[0;34m,\u001b[0m\u001b[0;36m9\u001b[0m\u001b[0;34m)\u001b[0m\u001b[0;34m\u001b[0m\u001b[0;34m\u001b[0m\u001b[0m\n\u001b[0;32m----> 5\u001b[0;31m   \u001b[0mprint\u001b[0m\u001b[0;34m(\u001b[0m\u001b[0mtup\u001b[0m\u001b[0;34m[\u001b[0m\u001b[0;36m10\u001b[0m\u001b[0;34m]\u001b[0m\u001b[0;34m)\u001b[0m\u001b[0;34m\u001b[0m\u001b[0;34m\u001b[0m\u001b[0m\n\u001b[0m\u001b[1;32m      6\u001b[0m \u001b[0;34m\u001b[0m\u001b[0m\n\u001b[1;32m      7\u001b[0m \u001b[0;34m\u001b[0m\u001b[0m\n",
            "\u001b[0;31mIndexError\u001b[0m: tuple index out of range"
          ]
        }
      ],
      "source": [
        "print(\"start\")\n",
        "\n",
        "try:\n",
        "  tup=(8,5,6,7,8,9)\n",
        "  print(tup[10])\n",
        "\n",
        "\n",
        "except ArithmeticError as e:\n",
        "  print(e)"
      ]
    },
    {
      "cell_type": "code",
      "execution_count": null,
      "metadata": {
        "colab": {
          "base_uri": "https://localhost:8080/"
        },
        "id": "rC3wFPF1X4Ig",
        "outputId": "9b1c071f-31aa-4392-c2e1-8393e9f4b8f4"
      },
      "outputs": [
        {
          "name": "stdout",
          "output_type": "stream",
          "text": [
            "start\n",
            "tuple index out of range\n"
          ]
        }
      ],
      "source": [
        "print(\"start\")\n",
        "\n",
        "try:\n",
        "  tup=(8,5,6,7,8,9)\n",
        "  print(tup[10])\n",
        "\n",
        "\n",
        "except IndexError as e:\n",
        "  print(e)"
      ]
    },
    {
      "cell_type": "code",
      "execution_count": null,
      "metadata": {
        "colab": {
          "base_uri": "https://localhost:8080/"
        },
        "id": "DM96VysYX-P9",
        "outputId": "231a7dfe-6b3f-4398-d473-52c07980111c"
      },
      "outputs": [
        {
          "name": "stdout",
          "output_type": "stream",
          "text": [
            "division by zero\n"
          ]
        }
      ],
      "source": [
        "#multi except\n",
        "\n",
        "try:\n",
        "  print(10/0)\n",
        "\n",
        "except Exception as e:\n",
        "  print(e)\n",
        "\n",
        "except ArithmeticError as e:\n",
        "  print(e)"
      ]
    },
    {
      "cell_type": "code",
      "execution_count": null,
      "metadata": {
        "colab": {
          "base_uri": "https://localhost:8080/"
        },
        "id": "cTb4juauZIYH",
        "outputId": "af2f7415-394f-4a4c-daec-61d639ef6362"
      },
      "outputs": [
        {
          "name": "stdout",
          "output_type": "stream",
          "text": [
            "division by zero\n"
          ]
        }
      ],
      "source": [
        "#multi except  #ese nhi likhna hota he kuki exception sare exception which are actually not to be .\n",
        "\n",
        "try:\n",
        "  print(10/0)\n",
        "\n",
        "except Exception as e:\n",
        "  print(e)\n",
        "\n",
        "except ArithmeticError as e:\n",
        "  print(e)"
      ]
    },
    {
      "cell_type": "code",
      "execution_count": null,
      "metadata": {
        "colab": {
          "base_uri": "https://localhost:8080/"
        },
        "id": "zv0hm7yIZY55",
        "outputId": "1ccf804f-80d1-4409-dc7c-d4742e208f26"
      },
      "outputs": [
        {
          "name": "stdout",
          "output_type": "stream",
          "text": [
            "division by zero\n"
          ]
        }
      ],
      "source": [
        "#multi except\n",
        "\n",
        "try:\n",
        "  print(10/0)\n",
        "\n",
        "except ArithmeticError as e:\n",
        "  print(e)\n",
        "\n",
        "except Exception as e:\n",
        "  print(e)\n",
        "\n",
        "except ArithmeticError as e:\n",
        "  print(e)"
      ]
    },
    {
      "cell_type": "code",
      "execution_count": null,
      "metadata": {
        "colab": {
          "base_uri": "https://localhost:8080/"
        },
        "id": "BHRRmospZdv6",
        "outputId": "64f89cdc-4994-4ffc-eac4-d17317882335"
      },
      "outputs": [
        {
          "name": "stdout",
          "output_type": "stream",
          "text": [
            "5.0\n",
            "2.0\n"
          ]
        }
      ],
      "source": [
        "#multi try\n",
        "\n",
        "try:\n",
        "  print(10/2) #jab isme error he to vo direct iske exception me jyga but jb ism error nhi to vo uske andr jyga\n",
        "  try:\n",
        "    print(10/5)\n",
        "  except ArithmeticError as e:\n",
        "    print(e)\n",
        "\n",
        "except ArithmeticError as e:\n",
        "  print(e)"
      ]
    },
    {
      "cell_type": "code",
      "execution_count": null,
      "metadata": {
        "colab": {
          "base_uri": "https://localhost:8080/"
        },
        "id": "C4_cnt3NaOC5",
        "outputId": "ea815239-11e3-4a0c-a653-0c1125fff77b"
      },
      "outputs": [
        {
          "name": "stdout",
          "output_type": "stream",
          "text": [
            "5.0\n",
            "division by zero\n"
          ]
        }
      ],
      "source": [
        "#multi try\n",
        "\n",
        "try:\n",
        "  print(10/2) #jab isme error he to vo direct iske exception me jyga but jb ism error nhi to vo uske andr jyga\n",
        "  try:\n",
        "    print(10/0)\n",
        "  except ArithmeticError as e:\n",
        "    print(e)\n",
        "\n",
        "except ArithmeticError as e:\n",
        "  print(e)\n"
      ]
    },
    {
      "cell_type": "code",
      "execution_count": null,
      "metadata": {
        "colab": {
          "base_uri": "https://localhost:8080/"
        },
        "id": "THKIjA88aR8L",
        "outputId": "651dd862-6e24-4b63-e178-733f938e64b5"
      },
      "outputs": [
        {
          "name": "stdout",
          "output_type": "stream",
          "text": [
            "division by zero\n"
          ]
        }
      ],
      "source": [
        "#multi try\n",
        "\n",
        "try:\n",
        "  print(10/0) #jab isme error he to vo direct iske exception me jyga but jb ism error nhi to vo uske andr jyga\n",
        "  try:\n",
        "    print(10/0)\n",
        "  except ArithmeticError as e:\n",
        "    print(e)\n",
        "\n",
        "except ArithmeticError as e:\n",
        "  print(e)\n"
      ]
    },
    {
      "cell_type": "code",
      "execution_count": null,
      "metadata": {
        "colab": {
          "base_uri": "https://localhost:8080/"
        },
        "id": "5Vd96WrZaY1t",
        "outputId": "5782b5ec-e1ff-4521-9a7a-3d228f9fc5a7"
      },
      "outputs": [
        {
          "name": "stdout",
          "output_type": "stream",
          "text": [
            "division by zero\n"
          ]
        }
      ],
      "source": [
        "#multi try\n",
        "\n",
        "try:\n",
        "  print(10/0) #jab isme error he to vo direct iske exception me jyga but jb ism error nhi to vo uske andr jyga\n",
        "  try:\n",
        "    print(10/2)\n",
        "  except ArithmeticError as e:\n",
        "    print(e)\n",
        "\n",
        "except ArithmeticError as e:\n",
        "  print(e)\n"
      ]
    },
    {
      "cell_type": "code",
      "execution_count": null,
      "metadata": {
        "colab": {
          "base_uri": "https://localhost:8080/"
        },
        "id": "4PnLU85Jahs6",
        "outputId": "f764859c-d5f5-4291-eaa4-c8425f7c16e5"
      },
      "outputs": [
        {
          "name": "stdout",
          "output_type": "stream",
          "text": [
            "division by zero\n"
          ]
        }
      ],
      "source": [
        "try:\n",
        "  try:\n",
        "    print(10/0)\n",
        "    li=[1,2,3,4]\n",
        "    print(li[5])\n",
        "\n",
        "  except Exception as e:\n",
        "    print(e)\n",
        "    # li=[1,2,3,4]\n",
        "    # print(li[5])\n",
        "\n",
        "except Exception as e:\n",
        "  print(e)"
      ]
    },
    {
      "cell_type": "code",
      "execution_count": null,
      "metadata": {
        "colab": {
          "base_uri": "https://localhost:8080/"
        },
        "id": "LxnQvBvLbI_T",
        "outputId": "b0e14b9d-3bbd-4365-b135-e227741a3d42"
      },
      "outputs": [
        {
          "name": "stdout",
          "output_type": "stream",
          "text": [
            "division by zero\n",
            "list index out of range\n"
          ]
        }
      ],
      "source": [
        "try:\n",
        "  try:\n",
        "    print(10/0)\n",
        "\n",
        "  except Exception as e:\n",
        "    print(e)\n",
        "    li=[1,2,3,4]\n",
        "    print(li[5])\n",
        "\n",
        "except Exception as e:\n",
        "  print(e)"
      ]
    },
    {
      "cell_type": "code",
      "execution_count": null,
      "metadata": {
        "colab": {
          "base_uri": "https://localhost:8080/",
          "height": 252
        },
        "id": "MmAxu7NpbhDP",
        "outputId": "fbb2e62a-67d2-44b5-953f-e200181a28b2"
      },
      "outputs": [
        {
          "name": "stdout",
          "output_type": "stream",
          "text": [
            "ho gaya\n"
          ]
        },
        {
          "ename": "ZeroDivisionError",
          "evalue": "ignored",
          "output_type": "error",
          "traceback": [
            "\u001b[0;31m---------------------------------------------------------------------------\u001b[0m",
            "\u001b[0;31mZeroDivisionError\u001b[0m                         Traceback (most recent call last)",
            "\u001b[0;32m<ipython-input-31-e7c9b9703c63>\u001b[0m in \u001b[0;36m<cell line: 3>\u001b[0;34m()\u001b[0m\n\u001b[1;32m      2\u001b[0m \u001b[0;34m\u001b[0m\u001b[0m\n\u001b[1;32m      3\u001b[0m \u001b[0;32mtry\u001b[0m\u001b[0;34m:\u001b[0m\u001b[0;34m\u001b[0m\u001b[0;34m\u001b[0m\u001b[0m\n\u001b[0;32m----> 4\u001b[0;31m   \u001b[0mprint\u001b[0m\u001b[0;34m(\u001b[0m\u001b[0;36m10\u001b[0m\u001b[0;34m/\u001b[0m\u001b[0;36m0\u001b[0m\u001b[0;34m)\u001b[0m\u001b[0;34m\u001b[0m\u001b[0;34m\u001b[0m\u001b[0m\n\u001b[0m\u001b[1;32m      5\u001b[0m \u001b[0;34m\u001b[0m\u001b[0m\n\u001b[1;32m      6\u001b[0m \u001b[0;32mfinally\u001b[0m\u001b[0;34m:\u001b[0m\u001b[0;34m\u001b[0m\u001b[0;34m\u001b[0m\u001b[0m\n",
            "\u001b[0;31mZeroDivisionError\u001b[0m: division by zero"
          ]
        }
      ],
      "source": [
        "#finally block  isme pehle finally call hoga fir error ayga\n",
        "\n",
        "try:\n",
        "  print(10/0)\n",
        "\n",
        "finally:\n",
        "  print(\"ho gaya\")\n",
        "\n",
        "print(\"end\")"
      ]
    },
    {
      "cell_type": "code",
      "execution_count": null,
      "metadata": {
        "colab": {
          "base_uri": "https://localhost:8080/"
        },
        "id": "OYipyMlSb3GI",
        "outputId": "8546b1e0-edaa-4de1-9c49-160feb2e0eb1"
      },
      "outputs": [
        {
          "name": "stdout",
          "output_type": "stream",
          "text": [
            "division by zero\n"
          ]
        }
      ],
      "source": [
        "try:\n",
        "  print(10/0)\n",
        "\n",
        "except ZeroDivisionError as e:\n",
        "  print(e)\n"
      ]
    },
    {
      "cell_type": "code",
      "execution_count": null,
      "metadata": {
        "colab": {
          "base_uri": "https://localhost:8080/"
        },
        "id": "GdZaSWwhcHas",
        "outputId": "92e0c9a2-c5be-4b47-a1b6-04ef480dae9f"
      },
      "outputs": [
        {
          "name": "stdout",
          "output_type": "stream",
          "text": [
            "enter the marks20\n",
            "you are pass\n",
            "good luck\n"
          ]
        }
      ],
      "source": [
        "#custom exception\n",
        "\n",
        "#use raise keyword to throw the custom or user defined exception\n",
        "\n",
        "x=int(input(\"enter the marks\"))\n",
        "try:\n",
        "  if x>10:\n",
        "    print(\"you are pass\")\n",
        "  else:\n",
        "    raise ArithmeticError(\"You are fail\")\n",
        "finally:\n",
        "  print(\"good luck\")\n",
        "\n"
      ]
    },
    {
      "cell_type": "code",
      "execution_count": null,
      "metadata": {
        "colab": {
          "base_uri": "https://localhost:8080/"
        },
        "id": "_Br2Yp33d7lk",
        "outputId": "02c88829-5cd0-4ae6-b59b-f6e5ce8cc4f2"
      },
      "outputs": [
        {
          "name": "stdout",
          "output_type": "stream",
          "text": [
            "enter your age17\n",
            "invalid age\n"
          ]
        }
      ],
      "source": [
        "class InvalidAgeException(Exception):\n",
        "  pass\n",
        "\n",
        "try:\n",
        "  x=int(input(\"enter your age\"))\n",
        "  if x<18:\n",
        "    raise InvalidAgeException\n",
        "  else:\n",
        "    print(\"you are eligible\")\n",
        "\n",
        "except InvalidAgeException:\n",
        "  print(\"invalid age\")"
      ]
    },
    {
      "cell_type": "code",
      "execution_count": null,
      "metadata": {
        "id": "PthRLWfffUmX"
      },
      "outputs": [],
      "source": []
    },
    {
      "cell_type": "code",
      "execution_count": null,
      "metadata": {
        "colab": {
          "base_uri": "https://localhost:8080/",
          "height": 269
        },
        "id": "E62PYdtLdZk8",
        "outputId": "689d66a1-bb76-4cf7-870d-2d0bbb8b236e"
      },
      "outputs": [
        {
          "name": "stdout",
          "output_type": "stream",
          "text": [
            "enter marks20\n",
            "fail\n"
          ]
        },
        {
          "ename": "Error",
          "evalue": "ignored",
          "output_type": "error",
          "traceback": [
            "\u001b[0;31m---------------------------------------------------------------------------\u001b[0m",
            "\u001b[0;31mError\u001b[0m                                     Traceback (most recent call last)",
            "\u001b[0;32m<ipython-input-45-ef3a8af1b165>\u001b[0m in \u001b[0;36m<cell line: 6>\u001b[0;34m()\u001b[0m\n\u001b[1;32m      5\u001b[0m \u001b[0mmarks\u001b[0m \u001b[0;34m=\u001b[0m \u001b[0mint\u001b[0m\u001b[0;34m(\u001b[0m\u001b[0minput\u001b[0m\u001b[0;34m(\u001b[0m\u001b[0;34m\"enter marks\"\u001b[0m\u001b[0;34m)\u001b[0m\u001b[0;34m)\u001b[0m\u001b[0;34m\u001b[0m\u001b[0;34m\u001b[0m\u001b[0m\n\u001b[1;32m      6\u001b[0m \u001b[0;32mif\u001b[0m \u001b[0mmarks\u001b[0m\u001b[0;34m<\u001b[0m\u001b[0;36m50\u001b[0m\u001b[0;34m:\u001b[0m\u001b[0;34m\u001b[0m\u001b[0;34m\u001b[0m\u001b[0m\n\u001b[0;32m----> 7\u001b[0;31m   \u001b[0;32mraise\u001b[0m \u001b[0mError\u001b[0m\u001b[0;34m(\u001b[0m\u001b[0;34m\"fail\"\u001b[0m\u001b[0;34m)\u001b[0m\u001b[0;34m\u001b[0m\u001b[0;34m\u001b[0m\u001b[0m\n\u001b[0m\u001b[1;32m      8\u001b[0m \u001b[0;34m\u001b[0m\u001b[0m\n\u001b[1;32m      9\u001b[0m \u001b[0;32melse\u001b[0m\u001b[0;34m:\u001b[0m\u001b[0;34m\u001b[0m\u001b[0;34m\u001b[0m\u001b[0m\n",
            "\u001b[0;31mError\u001b[0m: fail"
          ]
        }
      ],
      "source": [
        "class Error(BaseException):\n",
        "  def __init__(self , msg):\n",
        "    print(msg)\n",
        "\n",
        "marks = int(input(\"enter marks\"))\n",
        "if marks<50:\n",
        "  raise Error(\"fail\")\n",
        "\n",
        "else:\n",
        "  print(\"fail\")\n",
        "\n",
        "\n",
        "\n",
        "\n"
      ]
    },
    {
      "cell_type": "code",
      "execution_count": null,
      "metadata": {
        "colab": {
          "base_uri": "https://localhost:8080/",
          "height": 269
        },
        "id": "NX29svtlgjGI",
        "outputId": "a9b17e19-5281-48c3-a232-8d4c38cedeec"
      },
      "outputs": [
        {
          "name": "stdout",
          "output_type": "stream",
          "text": [
            "enter marks20\n",
            "fail\n"
          ]
        },
        {
          "ename": "Error",
          "evalue": "ignored",
          "output_type": "error",
          "traceback": [
            "\u001b[0;31m---------------------------------------------------------------------------\u001b[0m",
            "\u001b[0;31mError\u001b[0m                                     Traceback (most recent call last)",
            "\u001b[0;32m<ipython-input-49-8762f35675a5>\u001b[0m in \u001b[0;36m<cell line: 7>\u001b[0;34m()\u001b[0m\n\u001b[1;32m      6\u001b[0m \u001b[0mmarks\u001b[0m \u001b[0;34m=\u001b[0m \u001b[0mint\u001b[0m\u001b[0;34m(\u001b[0m\u001b[0minput\u001b[0m\u001b[0;34m(\u001b[0m\u001b[0;34m\"enter marks\"\u001b[0m\u001b[0;34m)\u001b[0m\u001b[0;34m)\u001b[0m\u001b[0;34m\u001b[0m\u001b[0;34m\u001b[0m\u001b[0m\n\u001b[1;32m      7\u001b[0m \u001b[0;32mif\u001b[0m \u001b[0mmarks\u001b[0m\u001b[0;34m<\u001b[0m\u001b[0;36m50\u001b[0m\u001b[0;34m:\u001b[0m\u001b[0;34m\u001b[0m\u001b[0;34m\u001b[0m\u001b[0m\n\u001b[0;32m----> 8\u001b[0;31m   \u001b[0;32mraise\u001b[0m \u001b[0mError\u001b[0m\u001b[0;34m(\u001b[0m\u001b[0;34m\"fail\"\u001b[0m\u001b[0;34m)\u001b[0m\u001b[0;34m\u001b[0m\u001b[0;34m\u001b[0m\u001b[0m\n\u001b[0m\u001b[1;32m      9\u001b[0m \u001b[0;34m\u001b[0m\u001b[0m\n\u001b[1;32m     10\u001b[0m \u001b[0;32melse\u001b[0m\u001b[0;34m:\u001b[0m\u001b[0;34m\u001b[0m\u001b[0;34m\u001b[0m\u001b[0m\n",
            "\u001b[0;31mError\u001b[0m: fail"
          ]
        }
      ],
      "source": [
        "class Error(BaseException):\n",
        "  def __init__(self,msg):\n",
        "    self.msg=msg\n",
        "    print(self.msg)\n",
        "\n",
        "marks = int(input(\"enter marks\"))\n",
        "if marks<50:\n",
        "  raise Error(\"fail\")\n",
        "\n",
        "else:\n",
        "  print(\"fail\")"
      ]
    },
    {
      "cell_type": "code",
      "execution_count": null,
      "metadata": {
        "colab": {
          "base_uri": "https://localhost:8080/"
        },
        "id": "uyd7i18Xg0l9",
        "outputId": "41d03fef-bd86-46a8-dddb-567a80dca121"
      },
      "outputs": [
        {
          "name": "stdout",
          "output_type": "stream",
          "text": [
            "enter marks60\n",
            "pass\n"
          ]
        }
      ],
      "source": [
        "class Error(BaseException):\n",
        "  def __init__(self,msg):\n",
        "    self.msg=msg\n",
        "    super().__init__(msg)\n",
        "\n",
        "marks = int(input(\"enter marks\"))\n",
        "if marks<50:\n",
        "  raise Error(\"fail\")\n",
        "\n",
        "else:\n",
        "  print(\"pass\")"
      ]
    },
    {
      "cell_type": "code",
      "execution_count": null,
      "metadata": {
        "colab": {
          "base_uri": "https://localhost:8080/",
          "height": 217
        },
        "id": "voyEwFH8hgwr",
        "outputId": "4d6a447f-01b2-47ce-c30e-ee566822b304"
      },
      "outputs": [
        {
          "name": "stdout",
          "output_type": "stream",
          "text": [
            "enter2000\n"
          ]
        },
        {
          "ename": "InvalidSalary",
          "evalue": "ignored",
          "output_type": "error",
          "traceback": [
            "\u001b[0;31m---------------------------------------------------------------------------\u001b[0m",
            "\u001b[0;31mInvalidSalary\u001b[0m                             Traceback (most recent call last)",
            "\u001b[0;32m<ipython-input-60-45f90a9a9d8e>\u001b[0m in \u001b[0;36m<cell line: 9>\u001b[0;34m()\u001b[0m\n\u001b[1;32m      8\u001b[0m \u001b[0msalary\u001b[0m \u001b[0;34m=\u001b[0m \u001b[0mint\u001b[0m\u001b[0;34m(\u001b[0m\u001b[0minput\u001b[0m\u001b[0;34m(\u001b[0m\u001b[0;34m\"enter\"\u001b[0m\u001b[0;34m)\u001b[0m\u001b[0;34m)\u001b[0m\u001b[0;34m\u001b[0m\u001b[0;34m\u001b[0m\u001b[0m\n\u001b[1;32m      9\u001b[0m \u001b[0;32mif\u001b[0m \u001b[0;32mnot\u001b[0m \u001b[0;36m5000\u001b[0m\u001b[0;34m<\u001b[0m\u001b[0msalary\u001b[0m \u001b[0;34m<\u001b[0m \u001b[0;36m15000\u001b[0m\u001b[0;34m:\u001b[0m\u001b[0;34m\u001b[0m\u001b[0;34m\u001b[0m\u001b[0m\n\u001b[0;32m---> 10\u001b[0;31m   \u001b[0;32mraise\u001b[0m \u001b[0mInvalidSalary\u001b[0m\u001b[0;34m(\u001b[0m\u001b[0msalary\u001b[0m\u001b[0;34m)\u001b[0m\u001b[0;34m\u001b[0m\u001b[0;34m\u001b[0m\u001b[0m\n\u001b[0m",
            "\u001b[0;31mInvalidSalary\u001b[0m: salary is not in range of(5000 , 15000)"
          ]
        }
      ],
      "source": [
        "class InvalidSalary(BaseException):\n",
        "  def __init__(self , salary , msg=\"salary is not in range of(5000 , 15000)\"):\n",
        "    self.salary=salary\n",
        "    self.msg = msg\n",
        "    super().__init__(self.msg)\n",
        "\n",
        "\n",
        "salary = int(input(\"enter\"))\n",
        "if not 5000<salary < 15000:\n",
        "  raise InvalidSalary(salary)"
      ]
    },
    {
      "cell_type": "code",
      "execution_count": null,
      "metadata": {
        "colab": {
          "base_uri": "https://localhost:8080/"
        },
        "id": "BWFpjLNlkCEQ",
        "outputId": "668af1fe-dc43-453e-94bb-e961acb9ec35"
      },
      "outputs": [
        {
          "name": "stdout",
          "output_type": "stream",
          "text": [
            "enter the marks35\n",
            "you are pass !!!!\n"
          ]
        }
      ],
      "source": [
        "class StudentFailError(BaseException):\n",
        "  def __init__(self,marks, result=\"fail\"):\n",
        "    self.marks=marks\n",
        "    self.result=result\n",
        "    super().__init__(self.result)\n",
        "\n",
        "\n",
        "m=int(input(\"enter the marks\"))\n",
        "if m<33:\n",
        "  raise StudentFailError(marks)\n",
        "\n",
        "else:\n",
        "  print(\"you are pass !!!!\")"
      ]
    },
    {
      "cell_type": "code",
      "execution_count": null,
      "metadata": {
        "id": "eSpXsArvjL9C"
      },
      "outputs": [],
      "source": [
        "class OuterClass:\n",
        "  num=10\n",
        "\n",
        "  class InnerClass:\n",
        "    def __init__(self):\n",
        "      self.OuterClass.num\n",
        "      print(\"this is inner\")\n",
        "\n",
        "ob=OuterClass()\n",
        "# ob.num\n",
        "# ob1=InnerClass()\n",
        "# ob1.inner()"
      ]
    },
    {
      "cell_type": "code",
      "execution_count": null,
      "metadata": {
        "id": "IMqkaYJ8AivC"
      },
      "outputs": [],
      "source": [
        "class Outer(object):\n",
        "  num=120\n",
        "\n",
        "\n",
        "  class Inner(object):\n",
        "    @staticmethod\n",
        "    def get_num(cls):\n",
        "      return Outer.num\n",
        "\n",
        "  Inner.num2=num"
      ]
    },
    {
      "cell_type": "code",
      "execution_count": null,
      "metadata": {
        "colab": {
          "base_uri": "https://localhost:8080/"
        },
        "id": "a57y0L6QBkh-",
        "outputId": "4862f873-2343-4eb1-e56e-703d4c6f5811"
      },
      "outputs": [
        {
          "name": "stdout",
          "output_type": "stream",
          "text": [
            "Outer.a = 111\n"
          ]
        }
      ],
      "source": [
        "class Outer(object):\n",
        "    def __init__(self):\n",
        "        self.a = 111\n",
        "\n",
        "print(f\"Outer.a = {Outer().a}\")"
      ]
    },
    {
      "cell_type": "code",
      "execution_count": null,
      "metadata": {
        "colab": {
          "base_uri": "https://localhost:8080/"
        },
        "id": "KlkXRScNBudy",
        "outputId": "4ed0e174-ddcd-437b-a3da-b6309c2725ee"
      },
      "outputs": [
        {
          "name": "stdout",
          "output_type": "stream",
          "text": [
            "1\n"
          ]
        }
      ],
      "source": [
        "class Outer(object):\n",
        "    a = 1\n",
        "\n",
        "    class Inner(object):\n",
        "        a = 2\n",
        "\n",
        "        @classmethod\n",
        "        def fun(cls):\n",
        "          return Outer.a\n",
        "\n",
        "print(Outer.Inner.fun())"
      ]
    },
    {
      "cell_type": "code",
      "execution_count": null,
      "metadata": {
        "colab": {
          "base_uri": "https://localhost:8080/"
        },
        "id": "HnsoHNuNCJU6",
        "outputId": "8c5c2704-dcdc-4241-c606-7e3bf3230352"
      },
      "outputs": [
        {
          "name": "stdout",
          "output_type": "stream",
          "text": [
            "this is the sedan car\n",
            "Engine is mandatory\n",
            "10\n"
          ]
        }
      ],
      "source": [
        "class Car(object):\n",
        "  car=10\n",
        "  print(\"this is the sedan car\")\n",
        "\n",
        "  class Engine(object):\n",
        "    print(\"Engine is mandatory\")\n",
        "\n",
        "    @classmethod\n",
        "    def engine(cls):\n",
        "      return Car.car\n",
        "\n",
        "print(Car.Engine.engine())"
      ]
    },
    {
      "cell_type": "code",
      "execution_count": null,
      "metadata": {
        "colab": {
          "base_uri": "https://localhost:8080/"
        },
        "id": "IwgAAckSDGDM",
        "outputId": "5b32c4c5-664f-4d90-e7d6-e07380505932"
      },
      "outputs": [
        {
          "name": "stdout",
          "output_type": "stream",
          "text": [
            "15\n"
          ]
        }
      ],
      "source": [
        "class Outer:\n",
        "  var=15\n",
        "  class Inner:\n",
        "    def access(self):\n",
        "      return Outer.var\n",
        "\n",
        "print(Outer.Inner.access(15))"
      ]
    },
    {
      "cell_type": "markdown",
      "metadata": {
        "id": "AimN6Na1jkkT"
      },
      "source": [
        "**14 june 2023**"
      ]
    },
    {
      "cell_type": "code",
      "execution_count": null,
      "metadata": {
        "id": "jnc_tXXHjoX8"
      },
      "outputs": [],
      "source": [
        "#file handling\n",
        "f=open(\"PythonFh.txt\",\"r\")\n",
        "f.close()"
      ]
    },
    {
      "cell_type": "code",
      "execution_count": null,
      "metadata": {
        "id": "GcilrqmfjyPx"
      },
      "outputs": [],
      "source": [
        "#file handling\n",
        "f=open(\"PythonFh.txt\",\"w\")\n",
        "f.write(\"my name is gaurik \") #it overwrites the data\n",
        "f.close()"
      ]
    },
    {
      "cell_type": "code",
      "execution_count": null,
      "metadata": {
        "id": "nKRe4bKCkSGq"
      },
      "outputs": [],
      "source": [
        "#file handling\n",
        "f=open(\"PythonFh.txt\",\"a\")\n",
        "f.write(\"i am in final year\")  #adds the data\n",
        "f.close()"
      ]
    },
    {
      "cell_type": "code",
      "execution_count": null,
      "metadata": {
        "id": "HTr0fkh9ksFW"
      },
      "outputs": [],
      "source": [
        "#file handling\n",
        "f=open(\"Python.txt\",\"a\")\n",
        "f.write(\"i am an engineer\")\n",
        "f.close()"
      ]
    },
    {
      "cell_type": "code",
      "execution_count": null,
      "metadata": {
        "id": "SriF2kFalt0l"
      },
      "outputs": [],
      "source": [
        "#file handling\n",
        "f=open(\"Python.txt\",\"a\")\n",
        "f.write(\"i am an engineer\")\n",
        "f.close()"
      ]
    },
    {
      "cell_type": "code",
      "execution_count": null,
      "metadata": {
        "colab": {
          "base_uri": "https://localhost:8080/"
        },
        "id": "XRyxRyeJmMKM",
        "outputId": "c1f3dd5a-dc5d-431c-9401-b391fffc101a"
      },
      "outputs": [
        {
          "name": "stdout",
          "output_type": "stream",
          "text": [
            "i am an en\n"
          ]
        }
      ],
      "source": [
        "#file handling\n",
        "f=open(\"Python.txt\",\"r\")\n",
        "# f.write(\"i am an engineer\")\n",
        "print(f.read(10))\n",
        "f.close()"
      ]
    },
    {
      "cell_type": "code",
      "execution_count": null,
      "metadata": {
        "colab": {
          "base_uri": "https://localhost:8080/"
        },
        "id": "mi9uUWC_mvv8",
        "outputId": "92cc7577-23ef-4ac0-e4be-9cc934415922"
      },
      "outputs": [
        {
          "name": "stdout",
          "output_type": "stream",
          "text": [
            "i am \n"
          ]
        }
      ],
      "source": [
        "#file handling\n",
        "f=open(\"Python.txt\",\"r\")\n",
        "print(f.readline(5))\n",
        "f.close()"
      ]
    },
    {
      "cell_type": "code",
      "execution_count": null,
      "metadata": {
        "colab": {
          "base_uri": "https://localhost:8080/"
        },
        "id": "xzFxuUyAm4Bs",
        "outputId": "cd59ab11-d84d-4175-c50d-913fb38e7e79"
      },
      "outputs": [
        {
          "name": "stdout",
          "output_type": "stream",
          "text": [
            "['my name is gaurik \\n']\n"
          ]
        }
      ],
      "source": [
        "#file handling\n",
        "f=open(\"PythonFh.txt\",\"r\")\n",
        "print(f.readlines(5))\n",
        "f.close()"
      ]
    },
    {
      "cell_type": "code",
      "execution_count": null,
      "metadata": {
        "colab": {
          "base_uri": "https://localhost:8080/"
        },
        "id": "doApSHZ7nWMk",
        "outputId": "48cbca40-0604-4c0c-a1ef-82cb761802d3"
      },
      "outputs": [
        {
          "name": "stdout",
          "output_type": "stream",
          "text": [
            "i am an engineeri am an engineeri am an engineeri am an engineeri am an engineer\n"
          ]
        }
      ],
      "source": [
        "#file handling\n",
        "f=open(\"Python.txt\",\"r\")\n",
        "for x in f:\n",
        "  print(x)\n",
        "f.close()"
      ]
    },
    {
      "cell_type": "code",
      "execution_count": null,
      "metadata": {
        "colab": {
          "base_uri": "https://localhost:8080/"
        },
        "id": "4NkLa1san0vC",
        "outputId": "f0da7d28-718f-490d-b612-cb047490543b"
      },
      "outputs": [
        {
          "name": "stdout",
          "output_type": "stream",
          "text": [
            "<_io.BufferedWriter name='Python.txt'>\n",
            "<class '_io.BufferedWriter'>\n",
            "140027618287232\n",
            "<_io.BufferedReader name='Python.txt'>\n",
            "<class '_io.BufferedReader'>\n",
            "140027799272464\n"
          ]
        }
      ],
      "source": [
        "#dump---->write\n",
        "#load----> read\n",
        "\n",
        "li=[1,2,3,4,5]\n",
        "f1=open(\"Python.txt\", \"wb\")\n",
        "print(f1)\n",
        "print(type(f1))\n",
        "print(id(f1))\n",
        "import pickle\n",
        "pickle.dump(li,f1)          #serialization ---> object is converted to byte\n",
        "f1.close()\n",
        "f1=open(\"Python.txt\",\"rb\")   #deserialization ---> vice versa\n",
        "pickle.load(f1)\n",
        "print(f1)\n",
        "print(type(f1))\n",
        "print(id(f1))\n",
        "f1.close()\n"
      ]
    },
    {
      "cell_type": "code",
      "execution_count": null,
      "metadata": {
        "colab": {
          "base_uri": "https://localhost:8080/"
        },
        "id": "QfO7QH9DqVfy",
        "outputId": "1f5f2de0-c95e-4b44-a0fd-5ba955eb706f"
      },
      "outputs": [
        {
          "name": "stdout",
          "output_type": "stream",
          "text": [
            "140026497838640\n",
            "140026497882032\n",
            "2\n",
            " name is gaurik i am in final year\n"
          ]
        }
      ],
      "source": [
        "with open(\"PythonFh.txt\",\"r\") as f1 , open(\"Python.txt\",\"w\") as f2:  #data is copied but with overwritten\n",
        "  f2.write(f1.read())\n",
        "  print(id(\"Python.txt\"))\n",
        "  print(id(\"PythonFh.txt\"))\n",
        "  f1.seek(2)\n",
        "  print(f1.tell())\n",
        "  print(f1.readline())"
      ]
    },
    {
      "cell_type": "code",
      "execution_count": null,
      "metadata": {
        "colab": {
          "base_uri": "https://localhost:8080/"
        },
        "id": "SntartdSr2f2",
        "outputId": "f505acc5-98d5-4e3c-d2be-7d0d8f07b8cf"
      },
      "outputs": [
        {
          "name": "stdout",
          "output_type": "stream",
          "text": [
            "open file\n",
            "division by zero\n",
            "close file\n"
          ]
        }
      ],
      "source": [
        "try:\n",
        "  print(\"open file\")\n",
        "  f1 = open(\"PythonFh.txt\",\"r\")\n",
        "  print(10/0)\n",
        "  print(\"read file\")\n",
        "  print(f1.read())\n",
        "\n",
        "except Exception as e:\n",
        "  print(e)   ??\n",
        "\n",
        "finally:\n",
        "  f1.close()\n",
        "  print(\"close file\")\n",
        "\n"
      ]
    },
    {
      "cell_type": "code",
      "execution_count": null,
      "metadata": {
        "colab": {
          "base_uri": "https://localhost:8080/"
        },
        "id": "AgPAJAcWtjew",
        "outputId": "8a7e2ede-a0af-4675-aa68-84f7df29d4e5"
      },
      "outputs": [
        {
          "name": "stdout",
          "output_type": "stream",
          "text": [
            "gauri20\n",
            "gk21\n",
            "gkkki22\n"
          ]
        }
      ],
      "source": [
        "class Student:\n",
        "  def __init__(self,name,age):\n",
        "    self.name=name\n",
        "    self.age=age\n",
        "\n",
        "\n",
        "  def __str__(self):\n",
        "    return self.name +str(self.age)\n",
        "\n",
        "\n",
        "s1=Student(\"gauri\",20)\n",
        "s2=Student(\"gk\",21)\n",
        "s3=Student(\"gkkki\",22)\n",
        "\n",
        "\n",
        "f1=open(\"PythonFh.txt\",\"wb\")\n",
        "import pickle\n",
        "pickle.dump(s1,f1)\n",
        "pickle.dump(s2,f1)\n",
        "pickle.dump(s3,f1)\n",
        "f1.close()\n",
        "\n",
        "f1=open(\"PythonFh.txt\",\"rb\")\n",
        "print(pickle.load(f1))\n",
        "print(pickle.load(f1))\n",
        "print(pickle.load(f1))\n"
      ]
    },
    {
      "cell_type": "code",
      "execution_count": null,
      "metadata": {
        "id": "4bATyEXmGvGP"
      },
      "outputs": [],
      "source": [
        "class Methods:\n",
        "  name=\"pawan\"\n",
        "\n",
        "  def instance_method(self):\n",
        "    print(\"this is instance method\")\n",
        "\n",
        "  def static_method()"
      ]
    },
    {
      "cell_type": "code",
      "execution_count": null,
      "metadata": {
        "colab": {
          "base_uri": "https://localhost:8080/"
        },
        "id": "yx2oykupXqdp",
        "outputId": "3160694f-ea8d-4bb1-94de-916feb048eab"
      },
      "outputs": [
        {
          "name": "stdout",
          "output_type": "stream",
          "text": [
            "iruag\n"
          ]
        }
      ],
      "source": [
        "#revers a string\n",
        "def reverse(str):\n",
        "  str1=\"\"\n",
        "  for i in str:\n",
        "    str1=i+str1\n",
        "  return str1\n",
        "\n",
        "\n",
        "# str=\"gauri\"\n",
        "# print(str)\n",
        "# print(reverse(str))\n",
        "print(reverse(\"gauri\"))"
      ]
    },
    {
      "cell_type": "code",
      "execution_count": null,
      "metadata": {
        "colab": {
          "base_uri": "https://localhost:8080/",
          "height": 200
        },
        "id": "PtcQd1S6ZbEq",
        "outputId": "28b24989-e148-484a-ac98-d95c57a01c56"
      },
      "outputs": [
        {
          "ename": "AttributeError",
          "evalue": "ignored",
          "output_type": "error",
          "traceback": [
            "\u001b[0;31m---------------------------------------------------------------------------\u001b[0m",
            "\u001b[0;31mAttributeError\u001b[0m                            Traceback (most recent call last)",
            "\u001b[0;32m<ipython-input-18-6d296fabca4e>\u001b[0m in \u001b[0;36m<cell line: 2>\u001b[0;34m()\u001b[0m\n\u001b[1;32m      1\u001b[0m \u001b[0mstr1\u001b[0m\u001b[0;34m=\u001b[0m\u001b[0;34m\"gauri\"\u001b[0m\u001b[0;34m\u001b[0m\u001b[0;34m\u001b[0m\u001b[0m\n\u001b[0;32m----> 2\u001b[0;31m \u001b[0mstr2\u001b[0m\u001b[0;34m=\u001b[0m\u001b[0mstr1\u001b[0m\u001b[0;34m.\u001b[0m\u001b[0mreverse\u001b[0m\u001b[0;34m(\u001b[0m\u001b[0;34m)\u001b[0m\u001b[0;34m\u001b[0m\u001b[0;34m\u001b[0m\u001b[0m\n\u001b[0m\u001b[1;32m      3\u001b[0m \u001b[0mprint\u001b[0m\u001b[0;34m(\u001b[0m\u001b[0mstr2\u001b[0m\u001b[0;34m)\u001b[0m\u001b[0;34m\u001b[0m\u001b[0;34m\u001b[0m\u001b[0m\n",
            "\u001b[0;31mAttributeError\u001b[0m: 'str' object has no attribute 'reverse'"
          ]
        }
      ],
      "source": [
        "str1=\"gauri\"\n",
        "str2=str1.reverse()\n",
        "print(str2)"
      ]
    },
    {
      "cell_type": "code",
      "execution_count": null,
      "metadata": {
        "colab": {
          "base_uri": "https://localhost:8080/"
        },
        "id": "Yc1tm7FPaJCq",
        "outputId": "fffafaa7-ab0d-4ba1-ec6c-4278e825d19e"
      },
      "outputs": [
        {
          "name": "stdout",
          "output_type": "stream",
          "text": [
            "gaurikothkar22\n",
            "<class 'str'>\n"
          ]
        }
      ],
      "source": [
        "#convrt list to string\n",
        "\n",
        "lis=[\"gauri\",\"kothkar\",\"22\"]\n",
        "string = \"\".join(lis)\n",
        "print(string)\n",
        "print(type(string))"
      ]
    },
    {
      "cell_type": "code",
      "execution_count": null,
      "metadata": {
        "colab": {
          "base_uri": "https://localhost:8080/"
        },
        "id": "BjYwt-RmcQL6",
        "outputId": "1eab8bef-9707-45b1-b23a-8ac7c1a880aa"
      },
      "outputs": [
        {
          "name": "stdout",
          "output_type": "stream",
          "text": [
            "[1, 2, 3, 4, 5]\n",
            "[2, 3, 4, 5, 6]\n"
          ]
        }
      ],
      "source": [
        "l1=[1,2,3,4,5]\n",
        "l2=[2,3,4,5,6]\n",
        "# a=set(l1)\n",
        "# b=set(l2)\n",
        "# if a==b:\n",
        "#   print(\"yes\")\n",
        "# else:\n",
        "#   print(\"NO\")\n",
        "\n",
        "# x=l1.sort()\n",
        "# y=l2.sort()\n",
        "# print(x)\n",
        "# print(y)\n",
        "x=sorted(l1)\n",
        "print(x)\n",
        "y=sorted(l2)\n",
        "print(y)"
      ]
    },
    {
      "cell_type": "code",
      "execution_count": null,
      "metadata": {
        "colab": {
          "base_uri": "https://localhost:8080/",
          "height": 269
        },
        "id": "FQPA8Z92e7Nk",
        "outputId": "86b8af2e-3980-48a7-f7b6-5a97fee77cf7"
      },
      "outputs": [
        {
          "name": "stdout",
          "output_type": "stream",
          "text": [
            "<class 'int'>\n",
            "50\n"
          ]
        },
        {
          "ename": "TypeError",
          "evalue": "ignored",
          "output_type": "error",
          "traceback": [
            "\u001b[0;31m---------------------------------------------------------------------------\u001b[0m",
            "\u001b[0;31mTypeError\u001b[0m                                 Traceback (most recent call last)",
            "\u001b[0;32m<ipython-input-35-1f2d008838e2>\u001b[0m in \u001b[0;36m<cell line: 5>\u001b[0;34m()\u001b[0m\n\u001b[1;32m      3\u001b[0m \u001b[0mprint\u001b[0m\u001b[0;34m(\u001b[0m\u001b[0mtype\u001b[0m\u001b[0;34m(\u001b[0m\u001b[0mx\u001b[0m\u001b[0;34m)\u001b[0m\u001b[0;34m)\u001b[0m\u001b[0;34m\u001b[0m\u001b[0;34m\u001b[0m\u001b[0m\n\u001b[1;32m      4\u001b[0m \u001b[0mprint\u001b[0m\u001b[0;34m(\u001b[0m\u001b[0mx\u001b[0m\u001b[0;34m)\u001b[0m\u001b[0;34m\u001b[0m\u001b[0;34m\u001b[0m\u001b[0m\n\u001b[0;32m----> 5\u001b[0;31m \u001b[0my\u001b[0m\u001b[0;34m=\u001b[0m\u001b[0mstr\u001b[0m\u001b[0;34m(\u001b[0m\u001b[0mx\u001b[0m\u001b[0;34m)\u001b[0m\u001b[0;34m\u001b[0m\u001b[0;34m\u001b[0m\u001b[0m\n\u001b[0m\u001b[1;32m      6\u001b[0m \u001b[0mprint\u001b[0m\u001b[0;34m(\u001b[0m\u001b[0mtype\u001b[0m\u001b[0;34m(\u001b[0m\u001b[0my\u001b[0m\u001b[0;34m)\u001b[0m\u001b[0;34m)\u001b[0m\u001b[0;34m\u001b[0m\u001b[0;34m\u001b[0m\u001b[0m\n\u001b[1;32m      7\u001b[0m \u001b[0mprint\u001b[0m\u001b[0;34m(\u001b[0m\u001b[0my\u001b[0m\u001b[0;34m)\u001b[0m\u001b[0;34m\u001b[0m\u001b[0;34m\u001b[0m\u001b[0m\n",
            "\u001b[0;31mTypeError\u001b[0m: 'str' object is not callable"
          ]
        }
      ],
      "source": [
        "#int to string\n",
        "x=50\n",
        "print(type(x))\n",
        "print(x)\n",
        "y=str(x)\n",
        "print(type(y))\n",
        "print(y)"
      ]
    },
    {
      "cell_type": "code",
      "execution_count": null,
      "metadata": {
        "colab": {
          "base_uri": "https://localhost:8080/",
          "height": 269
        },
        "id": "QpwyJF1ofdRI",
        "outputId": "d243c317-95fe-4810-f80f-6908f01faed2"
      },
      "outputs": [
        {
          "name": "stdout",
          "output_type": "stream",
          "text": [
            "<class 'int'>\n",
            "25\n"
          ]
        },
        {
          "ename": "TypeError",
          "evalue": "ignored",
          "output_type": "error",
          "traceback": [
            "\u001b[0;31m---------------------------------------------------------------------------\u001b[0m",
            "\u001b[0;31mTypeError\u001b[0m                                 Traceback (most recent call last)",
            "\u001b[0;32m<ipython-input-36-164087d64d88>\u001b[0m in \u001b[0;36m<cell line: 7>\u001b[0;34m()\u001b[0m\n\u001b[1;32m      5\u001b[0m \u001b[0;34m\u001b[0m\u001b[0m\n\u001b[1;32m      6\u001b[0m \u001b[0;31m# convert the num into string\u001b[0m\u001b[0;34m\u001b[0m\u001b[0;34m\u001b[0m\u001b[0m\n\u001b[0;32m----> 7\u001b[0;31m \u001b[0mcon_num\u001b[0m \u001b[0;34m=\u001b[0m \u001b[0mstr\u001b[0m\u001b[0;34m(\u001b[0m\u001b[0mn\u001b[0m\u001b[0;34m)\u001b[0m\u001b[0;34m\u001b[0m\u001b[0;34m\u001b[0m\u001b[0m\n\u001b[0m\u001b[1;32m      8\u001b[0m \u001b[0;34m\u001b[0m\u001b[0m\n\u001b[1;32m      9\u001b[0m \u001b[0;31m# check  and print type converted_num variable\u001b[0m\u001b[0;34m\u001b[0m\u001b[0;34m\u001b[0m\u001b[0m\n",
            "\u001b[0;31mTypeError\u001b[0m: 'str' object is not callable"
          ]
        }
      ],
      "source": [
        "n = 25\n",
        "# check  and print type of num variable\n",
        "print(type(n))\n",
        "print(n)\n",
        "\n",
        "# convert the num into string\n",
        "con_num = str(n)\n",
        "\n",
        "# check  and print type converted_num variable\n",
        "print(type(con_num))\n",
        "print(con_num)"
      ]
    },
    {
      "cell_type": "markdown",
      "metadata": {
        "id": "Z93BbCitVsK5"
      },
      "source": [
        "**15 june 2023**"
      ]
    },
    {
      "cell_type": "code",
      "execution_count": null,
      "metadata": {
        "colab": {
          "base_uri": "https://localhost:8080/"
        },
        "id": "IhMBYRUAVrAs",
        "outputId": "321bb727-d17a-4cf4-c998-c399322b9246"
      },
      "outputs": [
        {
          "name": "stdout",
          "output_type": "stream",
          "text": [
            "0\n",
            "1\n",
            "2\n",
            "3\n",
            "4\n",
            "5\n",
            "6\n",
            "7\n",
            "8\n",
            "9\n",
            "10\n",
            "11\n",
            "12\n",
            "13\n",
            "14\n",
            "15\n",
            "16\n",
            "17\n",
            "18\n",
            "19\n",
            "20\n",
            "21\n",
            "22\n",
            "23\n",
            "24\n",
            "25\n",
            "26\n",
            "27\n",
            "28\n",
            "29\n",
            "30\n",
            "31\n",
            "32\n",
            "33\n",
            "34\n",
            "35\n",
            "36\n",
            "37\n",
            "38\n",
            "39\n",
            "40\n",
            "41\n",
            "42\n",
            "43\n",
            "44\n",
            "45\n",
            "46\n",
            "47\n",
            "48\n",
            "49\n"
          ]
        }
      ],
      "source": [
        "#multithreading\n",
        "from threading import Thread\n",
        "class MyThread(Thread):\n",
        "  def run(self):\n",
        "    for i in range(0,50):\n",
        "      print(i)\n",
        "\n",
        "th=MyThread()\n",
        "th.start()"
      ]
    },
    {
      "cell_type": "code",
      "execution_count": null,
      "metadata": {
        "colab": {
          "base_uri": "https://localhost:8080/"
        },
        "id": "E3lpuSeAW3AC",
        "outputId": "6f445796-2949-4b23-9cbe-12ca5bc60979"
      },
      "outputs": [
        {
          "name": "stdout",
          "output_type": "stream",
          "text": [
            "gauri\n",
            "gauri\n",
            "gauri\n",
            "gauri\n",
            "gauri\n",
            "gauri\n",
            "gauri\n",
            "gauri\n",
            "gauri\n",
            "gauri\n",
            "gauri\n",
            "gauri\n",
            "gauri\n",
            "gauri\n",
            "gauri\n",
            "gauri\n",
            "gauri\n",
            "gauri\n",
            "gauri\n",
            "gauri\n",
            "gauri\n",
            "gauri\n",
            "gauri\n",
            "gauri\n",
            "gauri\n",
            "gauri\n",
            "gauri\n",
            "gauri\n",
            "gauri\n",
            "gauri\n",
            "gauri\n",
            "gauri\n",
            "gauri\n",
            "gauri\n",
            "gauri\n",
            "gauri\n",
            "gauri\n",
            "gauri\n",
            "gauri\n",
            "gauri\n",
            "gauri\n",
            "gauri\n",
            "gauri\n",
            "gauri\n",
            "gauri\n",
            "gauri\n",
            "gauri\n",
            "gauri\n",
            "gauri\n",
            "gauri\n",
            "gauri\n",
            "gauri\n",
            "gauri\n",
            "gauri\n",
            "gauri\n",
            "gauri\n",
            "gauri\n",
            "gauri\n",
            "gauri\n",
            "gauri\n",
            "gauri\n",
            "gauri\n",
            "gauri\n",
            "gauri\n",
            "gauri\n",
            "gauri\n",
            "gauri\n",
            "gauri\n",
            "gauri\n",
            "gauri\n",
            "gauri\n",
            "gauri\n",
            "gauri\n",
            "gauri\n",
            "gauri\n",
            "gauri\n",
            "gauri\n",
            "gauri\n",
            "gauri\n",
            "gauri\n"
          ]
        }
      ],
      "source": [
        "from threading import Thread\n",
        "\n",
        "class MyClass(Thread):\n",
        "  def run(self):\n",
        "    for i in range (0 ,40):\n",
        "       print(\"gauri\")\n",
        "\n",
        "if __name__== \"__main__\":\n",
        "\n",
        "  th1=MyClass()\n",
        "  th1.start()\n",
        "\n",
        "  th2=MyClass()\n",
        "  th2.start()"
      ]
    },
    {
      "cell_type": "code",
      "execution_count": null,
      "metadata": {
        "colab": {
          "base_uri": "https://localhost:8080/"
        },
        "id": "2pSXXYznYdl_",
        "outputId": "3b3ae107-a7f8-4efc-d303-051710d582e8"
      },
      "outputs": [
        {
          "name": "stdout",
          "output_type": "stream",
          "text": [
            "gauri\n",
            "gauri\n",
            "gauri\n",
            "gauri\n",
            "gauri\n",
            "gauri\n",
            "gauri\n",
            "gauri\n",
            "gauri\n",
            "gauri\n",
            "gauri\n",
            "gauri\n",
            "gauri\n",
            "gauri\n",
            "gauri\n",
            "gauri\n",
            "gauri\n",
            "gauri\n",
            "gauri\n",
            "gauri\n",
            "gauri\n",
            "gauri\n",
            "gauri\n",
            "gauri\n",
            "gauri\n",
            "gauri\n",
            "gauri\n",
            "gauri\n",
            "gauri\n",
            "kothekar\n",
            "kothekar\n",
            "kothekar\n",
            "kothekar\n",
            "kothekar\n",
            "kothekar\n",
            "kothekar\n",
            "kothekar\n",
            "kothekar\n"
          ]
        }
      ],
      "source": [
        "from threading import Thread\n",
        "class MyClass1(Thread):\n",
        "  def run(self):\n",
        "    for i in range(0,29):\n",
        "      print(\"gauri\")\n",
        "\n",
        "\n",
        "class MyClass2(Thread):\n",
        "  def run(self):\n",
        "    for i in range(0,9):\n",
        "      print(\"kothekar\")\n",
        "\n",
        "\n",
        "\n",
        "th1=MyClass1()\n",
        "th1.start()\n",
        "th2=MyClass2()\n",
        "th2.start()"
      ]
    },
    {
      "cell_type": "code",
      "execution_count": null,
      "metadata": {
        "colab": {
          "base_uri": "https://localhost:8080/"
        },
        "id": "tXiuvdf0ayHK",
        "outputId": "15e0cbe3-79cc-4174-b891-1fc7b4eecbc2"
      },
      "outputs": [
        {
          "name": "stdout",
          "output_type": "stream",
          "text": [
            "0\n",
            "1\n",
            "2\n",
            "3\n",
            "4\n",
            "5\n",
            "60\n",
            "1\n",
            "2\n",
            "3\n",
            "4\n",
            "5\n",
            "6\n",
            "7\n",
            "8\n",
            "9\n",
            "10\n",
            "11\n",
            "12\n",
            "13\n",
            "14\n",
            "15\n",
            "16\n",
            "17\n",
            "18\n",
            "\n",
            "7\n",
            "8\n",
            "9\n"
          ]
        }
      ],
      "source": [
        "#without class\n",
        "from threading import Thread\n",
        "\n",
        "def show():\n",
        "  for i in range(0 , 10):\n",
        "    print(i)\n",
        "\n",
        "def show2():\n",
        "  for i in range(0,19):\n",
        "    print(i)\n",
        "\n",
        "if __name__ == \"__main__\":\n",
        "\n",
        "  t1=Thread(target = show)\n",
        "  t1.start()\n",
        "  t2=Thread(target=show2)\n",
        "  t2.start()"
      ]
    },
    {
      "cell_type": "code",
      "execution_count": null,
      "metadata": {
        "id": "Q_1p82SRcIwL"
      },
      "outputs": [],
      "source": [
        "from time import sleep\n",
        "# from threading import Thread\n",
        "\n",
        "def show():\n",
        "  for count in range(0,15):\n",
        "    # print(\"gauri\")\n",
        "    try:\n",
        "      sleep(1)\n",
        "      print(\"gauri\")\n",
        "    except Exception as e:\n",
        "      print(e)\n",
        "\n",
        "if __name__ == \"__main__\":\n",
        "  th1=Thread(target=show)\n",
        "  th1.start()"
      ]
    },
    {
      "cell_type": "code",
      "execution_count": null,
      "metadata": {
        "id": "3rMnoZOZeiU-"
      },
      "outputs": [],
      "source": [
        "\n",
        "import threading\n",
        "import time\n",
        "def say_Hi():\n",
        "  for i in range(3):\n",
        "    time.sleep(1)\n",
        "    print(\"hy\")\n",
        "\n",
        "def say_Apoyo():\n",
        "  for i in range(3):\n",
        "    time.sleep(2)\n",
        "    print(\"Apoyo\")\n",
        "\n",
        "\n",
        "t1 = threading.Thread(target=say_Hi)\n",
        "t2 = threading.Thread(target=say_Apoyo)\n",
        "t1.start()\n",
        "t2.start()\n",
        "\n"
      ]
    },
    {
      "cell_type": "code",
      "execution_count": null,
      "metadata": {
        "colab": {
          "base_uri": "https://localhost:8080/",
          "height": 517
        },
        "id": "YhIoRXD2e_Fy",
        "outputId": "75c942b1-fe73-49a2-da85-79065dece560"
      },
      "outputs": [
        {
          "name": "stdout",
          "output_type": "stream",
          "text": [
            "gauri\n",
            "gauri\n",
            "gauri\n",
            "gauri\n",
            "gauri\n",
            "gauri\n",
            "gauri\n",
            "gauri\n",
            "gauri\n",
            "gauri\n",
            "gauri\n",
            "gauri\n",
            "gauri\n",
            "gauri\n",
            "gauri\n"
          ]
        },
        {
          "ename": "NameError",
          "evalue": "ignored",
          "output_type": "error",
          "traceback": [
            "\u001b[0;31m---------------------------------------------------------------------------\u001b[0m",
            "\u001b[0;31mNameError\u001b[0m                                 Traceback (most recent call last)",
            "\u001b[0;32m<ipython-input-42-72e1a2a60ac5>\u001b[0m in \u001b[0;36m<cell line: 12>\u001b[0;34m()\u001b[0m\n\u001b[1;32m     14\u001b[0m   \u001b[0mt\u001b[0m\u001b[0;34m.\u001b[0m\u001b[0mstart\u001b[0m\u001b[0;34m(\u001b[0m\u001b[0;34m)\u001b[0m\u001b[0;34m\u001b[0m\u001b[0;34m\u001b[0m\u001b[0m\n\u001b[1;32m     15\u001b[0m   \u001b[0mt\u001b[0m\u001b[0;34m.\u001b[0m\u001b[0mjoin\u001b[0m\u001b[0;34m(\u001b[0m\u001b[0;34m)\u001b[0m\u001b[0;34m\u001b[0m\u001b[0;34m\u001b[0m\u001b[0m\n\u001b[0;32m---> 16\u001b[0;31m   \u001b[0mt2\u001b[0m\u001b[0;34m=\u001b[0m\u001b[0mThread\u001b[0m\u001b[0;34m(\u001b[0m\u001b[0mtarget\u001b[0m\u001b[0;34m=\u001b[0m\u001b[0mshow1\u001b[0m\u001b[0;34m)\u001b[0m\u001b[0;34m\u001b[0m\u001b[0;34m\u001b[0m\u001b[0m\n\u001b[0m\u001b[1;32m     17\u001b[0m   \u001b[0mt2\u001b[0m\u001b[0;34m.\u001b[0m\u001b[0mstart\u001b[0m\u001b[0;34m(\u001b[0m\u001b[0;34m)\u001b[0m\u001b[0;34m\u001b[0m\u001b[0;34m\u001b[0m\u001b[0m\n\u001b[1;32m     18\u001b[0m \u001b[0;34m\u001b[0m\u001b[0m\n",
            "\u001b[0;31mNameError\u001b[0m: name 'show1' is not defined"
          ]
        }
      ],
      "source": [
        "from threading import Thread\n",
        "\n",
        "class Myclass(Thread):\n",
        "  def show1(self):\n",
        "    for i in range(0,20):\n",
        "      print(i)\n",
        "\n",
        "  def show2(self):\n",
        "    for j in range(0,10):\n",
        "      print(i)\n",
        "\n",
        "if __name__ == \"__main__\" :\n",
        "  t=Thread(target = show)\n",
        "  t.start()\n",
        "  t.join()\n",
        "  t2=Thread(target=show1)\n",
        "  t2.start()\n",
        "\n"
      ]
    },
    {
      "cell_type": "code",
      "execution_count": null,
      "metadata": {
        "colab": {
          "base_uri": "https://localhost:8080/"
        },
        "id": "R8diaWjZhzzI",
        "outputId": "c81cda32-f2c2-4c6d-8f85-bcd79693e87c"
      },
      "outputs": [
        {
          "name": "stdout",
          "output_type": "stream",
          "text": [
            "Value by Thread 1: 1\n",
            "Value by Thread 2: 2\n",
            "Value by Thread 3: 3\n",
            "\n",
            "Value by Thread 3: 3\n",
            "Value by Thread 1: 1\n",
            "Value by Thread 2: 2\n"
          ]
        }
      ],
      "source": [
        "\n",
        "import time\n",
        "import threading\n",
        "\n",
        "def thread_1(i):\n",
        "    time.sleep(2)\n",
        "    print('Value by Thread 1:', i)\n",
        "\n",
        "def thread_2(i):\n",
        "    time.sleep(5)\n",
        "    print('Value by Thread 2:', i)\n",
        "\n",
        "def thread_3(i):\n",
        "    print('Value by Thread 3:', i)\n",
        "\n",
        "\n",
        "# Creating three sample threads\n",
        "thread1 = threading.Thread(target=thread_1, args=(1,))\n",
        "thread2 = threading.Thread(target=thread_2, args=(2,))\n",
        "thread3 = threading.Thread(target=thread_3, args=(3,))\n",
        "\n",
        "# Running three thread object\n",
        "thread1.start()\n",
        "thread1.join()\n",
        "thread2.start()\n",
        "thread2.join()\n",
        "thread3.start()\n",
        "thread3.join()\n",
        "\n",
        "print()\n",
        "# Creating another 3 threads\n",
        "thread4 = threading.Thread(target=thread_1, args=(1,))\n",
        "thread5 = threading.Thread(target=thread_2, args=(2,))\n",
        "thread6 = threading.Thread(target=thread_3, args=(3,))\n",
        "\n",
        "thread4.start()\n",
        "thread5.start()\n",
        "thread6.start()\n",
        "thread4.join()\n",
        "thread5.join()\n",
        "thread6.join()"
      ]
    },
    {
      "cell_type": "code",
      "execution_count": null,
      "metadata": {
        "colab": {
          "background_save": true,
          "base_uri": "https://localhost:8080/",
          "height": 244
        },
        "id": "HJzq5r_HiWgx",
        "outputId": "c5618581-a945-4bfd-8685-eba9057d11a0"
      },
      "outputs": [
        {
          "ename": "NameError",
          "evalue": "ignored",
          "output_type": "error",
          "traceback": [
            "\u001b[0;31m---------------------------------------------------------------------------\u001b[0m",
            "\u001b[0;31mNameError\u001b[0m                                 Traceback (most recent call last)",
            "\u001b[0;32m<ipython-input-2-f2b7e477c5e7>\u001b[0m in \u001b[0;36m<cell line: 33>\u001b[0;34m()\u001b[0m\n\u001b[1;32m     33\u001b[0m \u001b[0;32mif\u001b[0m \u001b[0m__name__\u001b[0m \u001b[0;34m==\u001b[0m \u001b[0;34m\"__main__\"\u001b[0m\u001b[0;34m:\u001b[0m\u001b[0;34m\u001b[0m\u001b[0;34m\u001b[0m\u001b[0m\n\u001b[1;32m     34\u001b[0m   \u001b[0mtv\u001b[0m \u001b[0;34m=\u001b[0m\u001b[0mTV\u001b[0m\u001b[0;34m(\u001b[0m\u001b[0;34m)\u001b[0m\u001b[0;34m\u001b[0m\u001b[0;34m\u001b[0m\u001b[0m\n\u001b[0;32m---> 35\u001b[0;31m   \u001b[0ml1\u001b[0m\u001b[0;34m=\u001b[0m\u001b[0mLock\u001b[0m\u001b[0;34m(\u001b[0m\u001b[0;34m)\u001b[0m\u001b[0;34m\u001b[0m\u001b[0;34m\u001b[0m\u001b[0m\n\u001b[0m\u001b[1;32m     36\u001b[0m   \u001b[0mp1\u001b[0m\u001b[0;34m=\u001b[0m\u001b[0mPerson1\u001b[0m\u001b[0;34m(\u001b[0m\u001b[0mtv\u001b[0m \u001b[0;34m,\u001b[0m \u001b[0;34m\"gauri\"\u001b[0m\u001b[0;34m,\u001b[0m\u001b[0ml1\u001b[0m\u001b[0;34m)\u001b[0m\u001b[0;34m\u001b[0m\u001b[0;34m\u001b[0m\u001b[0m\n\u001b[1;32m     37\u001b[0m   \u001b[0mp2\u001b[0m\u001b[0;34m=\u001b[0m\u001b[0mPerson2\u001b[0m\u001b[0;34m(\u001b[0m\u001b[0mtv\u001b[0m \u001b[0;34m,\u001b[0m \u001b[0;34m\"gaurik\"\u001b[0m\u001b[0;34m,\u001b[0m\u001b[0ml1\u001b[0m\u001b[0;34m)\u001b[0m\u001b[0;34m\u001b[0m\u001b[0;34m\u001b[0m\u001b[0m\n",
            "\u001b[0;31mNameError\u001b[0m: name 'Lock' is not defined"
          ]
        }
      ],
      "source": [
        "class TV:\n",
        "  def Sony(self , name , l1):\n",
        "    print(\"first \",name)\n",
        "    l1.acquire()\n",
        "    for count in range(1,100):\n",
        "      print(name)\n",
        "      l1.release()\n",
        "      print(\"out first0\" , name)\n",
        "\n",
        "\n",
        "class Person1:\n",
        "  def __init__(self, tv,name,l1):\n",
        "    super().__init__()\n",
        "    self.tv=tv\n",
        "    self.name=name\n",
        "    self.l1=l1\n",
        "\n",
        "  def run(self):\n",
        "    self.tv.sony(self.name , self.l1)\n",
        "\n",
        "\n",
        "class Person2:\n",
        "  def __init__(self,tv,name,l1):\n",
        "     super().__init__()\n",
        "     self.tv=tv\n",
        "     self.name=name\n",
        "     self.l1=l1\n",
        "\n",
        "  def run(self):\n",
        "    self.tv.sony(self.name ,self.l1)\n",
        "\n",
        "\n",
        "if __name__ == \"__main__\":\n",
        "  tv =TV()\n",
        "  l1=Lock()\n",
        "  p1=Person1(tv , \"gauri\",l1)\n",
        "  p2=Person2(tv , \"gaurik\",l1)\n",
        "  p1.start()\n",
        "  p2.start()\n"
      ]
    },
    {
      "cell_type": "markdown",
      "metadata": {
        "id": "-WL8ZjEx0xlg"
      },
      "source": [
        "**16 JUNE 2023**"
      ]
    },
    {
      "cell_type": "code",
      "execution_count": null,
      "metadata": {
        "id": "WAw_SQIT3OGU"
      },
      "outputs": [],
      "source": [
        "#unit testing\n",
        "\n",
        "assert sum([2,3,5]) == 10 , \"should be `10\""
      ]
    },
    {
      "cell_type": "code",
      "execution_count": null,
      "metadata": {
        "colab": {
          "base_uri": "https://localhost:8080/"
        },
        "id": "dzTpKju-5B-h",
        "outputId": "8360a387-2311-4f2a-d7cc-d89919c53e99"
      },
      "outputs": [
        {
          "name": "stdout",
          "output_type": "stream",
          "text": [
            "everything\n"
          ]
        }
      ],
      "source": [
        "def test_sum():\n",
        "  assert sum([2,3,5]) == 10 , \"it should be 10\"\n",
        "\n",
        "if __name__ == \"__main__\":\n",
        "  test_sum()\n",
        "  print(\"everything\")"
      ]
    },
    {
      "cell_type": "code",
      "execution_count": null,
      "metadata": {
        "colab": {
          "base_uri": "https://localhost:8080/",
          "height": 353
        },
        "id": "AmUFLp4d5Tet",
        "outputId": "19175ab7-a95d-43c8-9ebd-e50a82c8fd03"
      },
      "outputs": [
        {
          "ename": "AssertionError",
          "evalue": "ignored",
          "output_type": "error",
          "traceback": [
            "\u001b[0;31m---------------------------------------------------------------------------\u001b[0m",
            "\u001b[0;31mAssertionError\u001b[0m                            Traceback (most recent call last)",
            "\u001b[0;32m<ipython-input-4-0640d605a4ff>\u001b[0m in \u001b[0;36m<cell line: 4>\u001b[0;34m()\u001b[0m\n\u001b[1;32m      3\u001b[0m \u001b[0;34m\u001b[0m\u001b[0m\n\u001b[1;32m      4\u001b[0m \u001b[0;32mif\u001b[0m \u001b[0m__name__\u001b[0m \u001b[0;34m==\u001b[0m \u001b[0;34m\"__main__\"\u001b[0m\u001b[0;34m:\u001b[0m\u001b[0;34m\u001b[0m\u001b[0;34m\u001b[0m\u001b[0m\n\u001b[0;32m----> 5\u001b[0;31m   \u001b[0mtest_sum\u001b[0m\u001b[0;34m(\u001b[0m\u001b[0;34m)\u001b[0m\u001b[0;34m\u001b[0m\u001b[0;34m\u001b[0m\u001b[0m\n\u001b[0m\u001b[1;32m      6\u001b[0m   \u001b[0mprint\u001b[0m\u001b[0;34m(\u001b[0m\u001b[0;34m\"everything\"\u001b[0m\u001b[0;34m)\u001b[0m\u001b[0;34m\u001b[0m\u001b[0;34m\u001b[0m\u001b[0m\n",
            "\u001b[0;32m<ipython-input-4-0640d605a4ff>\u001b[0m in \u001b[0;36mtest_sum\u001b[0;34m()\u001b[0m\n\u001b[1;32m      1\u001b[0m \u001b[0;32mdef\u001b[0m \u001b[0mtest_sum\u001b[0m\u001b[0;34m(\u001b[0m\u001b[0;34m)\u001b[0m\u001b[0;34m:\u001b[0m\u001b[0;34m\u001b[0m\u001b[0;34m\u001b[0m\u001b[0m\n\u001b[0;32m----> 2\u001b[0;31m   \u001b[0;32massert\u001b[0m \u001b[0msum\u001b[0m\u001b[0;34m(\u001b[0m\u001b[0;34m[\u001b[0m\u001b[0;36m2\u001b[0m\u001b[0;34m,\u001b[0m\u001b[0;36m3\u001b[0m\u001b[0;34m,\u001b[0m\u001b[0;36m5\u001b[0m\u001b[0;34m]\u001b[0m\u001b[0;34m)\u001b[0m \u001b[0;34m==\u001b[0m \u001b[0;36m19\u001b[0m\u001b[0;34m,\u001b[0m \u001b[0;34m\"it should be 10\"\u001b[0m\u001b[0;34m\u001b[0m\u001b[0;34m\u001b[0m\u001b[0m\n\u001b[0m\u001b[1;32m      3\u001b[0m \u001b[0;34m\u001b[0m\u001b[0m\n\u001b[1;32m      4\u001b[0m \u001b[0;32mif\u001b[0m \u001b[0m__name__\u001b[0m \u001b[0;34m==\u001b[0m \u001b[0;34m\"__main__\"\u001b[0m\u001b[0;34m:\u001b[0m\u001b[0;34m\u001b[0m\u001b[0;34m\u001b[0m\u001b[0m\n\u001b[1;32m      5\u001b[0m   \u001b[0mtest_sum\u001b[0m\u001b[0;34m(\u001b[0m\u001b[0;34m)\u001b[0m\u001b[0;34m\u001b[0m\u001b[0;34m\u001b[0m\u001b[0m\n",
            "\u001b[0;31mAssertionError\u001b[0m: it should be 10"
          ]
        }
      ],
      "source": [
        "def test_sum():\n",
        "  assert sum([2,3,5]) == 19, \"it should be 10\"\n",
        "\n",
        "if __name__ == \"__main__\":\n",
        "  test_sum()\n",
        "  print(\"everything\")"
      ]
    },
    {
      "cell_type": "code",
      "execution_count": null,
      "metadata": {
        "colab": {
          "base_uri": "https://localhost:8080/"
        },
        "id": "hIQWCV5D5Znz",
        "outputId": "450b453b-f3c8-4bed-ffae-d7d7987a0e54"
      },
      "outputs": [
        {
          "name": "stdout",
          "output_type": "stream",
          "text": [
            "correct\n"
          ]
        }
      ],
      "source": [
        "def test_sum():\n",
        "  assert sum([2,3,5]) == 10 , \"it is 10\"\n",
        "\n",
        "def test_sub():\n",
        "  assert min([4,2])==2,\"it should be 2\"\n",
        "\n",
        "if __name__ == \"__main__\":\n",
        "  test_sum()\n",
        "  test_sub()\n",
        "  print(\"correct\")\n"
      ]
    },
    {
      "cell_type": "code",
      "execution_count": null,
      "metadata": {
        "colab": {
          "base_uri": "https://localhost:8080/",
          "height": 335
        },
        "id": "cPH64hhO6dQ7",
        "outputId": "7dc64645-4e60-471d-9768-004242befc9f"
      },
      "outputs": [
        {
          "name": "stderr",
          "output_type": "stream",
          "text": [
            "E\n",
            "======================================================================\n",
            "ERROR: /root/ (unittest.loader._FailedTest)\n",
            "----------------------------------------------------------------------\n",
            "AttributeError: module '__main__' has no attribute '/root/'\n",
            "\n",
            "----------------------------------------------------------------------\n",
            "Ran 1 test in 0.002s\n",
            "\n",
            "FAILED (errors=1)\n"
          ]
        },
        {
          "ename": "SystemExit",
          "evalue": "ignored",
          "output_type": "error",
          "traceback": [
            "An exception has occurred, use %tb to see the full traceback.\n",
            "\u001b[0;31mSystemExit\u001b[0m\u001b[0;31m:\u001b[0m True\n"
          ]
        },
        {
          "name": "stderr",
          "output_type": "stream",
          "text": [
            "/usr/local/lib/python3.10/dist-packages/IPython/core/interactiveshell.py:3561: UserWarning: To exit: use 'exit', 'quit', or Ctrl-D.\n",
            "  warn(\"To exit: use 'exit', 'quit', or Ctrl-D.\", stacklevel=1)\n"
          ]
        }
      ],
      "source": [
        "import unittest\n",
        "class TestingSum(unittest.TestCase):\n",
        "\n",
        "  def test_sum(self):\n",
        "    self.assertEqual(sum([2,3,5]) , 10 , \"it shoyld be 10\")\n",
        "\n",
        "  def test_min(self):\n",
        "    self.assertEqual(min([2,3]) ,2,\"it should be 2\")\n",
        "\n",
        "if __name__ == \"__main__\":\n",
        "  unittest.main()"
      ]
    },
    {
      "cell_type": "code",
      "execution_count": null,
      "metadata": {
        "colab": {
          "base_uri": "https://localhost:8080/",
          "height": 335
        },
        "id": "asQuDJkD7cWR",
        "outputId": "5f9d53d5-1dcc-417b-aba3-12555c5afcb7"
      },
      "outputs": [
        {
          "name": "stderr",
          "output_type": "stream",
          "text": [
            "E\n",
            "======================================================================\n",
            "ERROR: /root/ (unittest.loader._FailedTest)\n",
            "----------------------------------------------------------------------\n",
            "AttributeError: module '__main__' has no attribute '/root/'\n",
            "\n",
            "----------------------------------------------------------------------\n",
            "Ran 1 test in 0.004s\n",
            "\n",
            "FAILED (errors=1)\n"
          ]
        },
        {
          "ename": "SystemExit",
          "evalue": "ignored",
          "output_type": "error",
          "traceback": [
            "An exception has occurred, use %tb to see the full traceback.\n",
            "\u001b[0;31mSystemExit\u001b[0m\u001b[0;31m:\u001b[0m True\n"
          ]
        },
        {
          "name": "stderr",
          "output_type": "stream",
          "text": [
            "/usr/local/lib/python3.10/dist-packages/IPython/core/interactiveshell.py:3561: UserWarning: To exit: use 'exit', 'quit', or Ctrl-D.\n",
            "  warn(\"To exit: use 'exit', 'quit', or Ctrl-D.\", stacklevel=1)\n"
          ]
        }
      ],
      "source": [
        "import unittest\n",
        "class TestingSum(unittest.TestCase):\n",
        "\n",
        "    def test_sum(self):\n",
        "        self.assertEqual(sum([2, 3, 5]), 10, \"It should be 10\")\n",
        "    def test_sum_tuple(self):\n",
        "        self.assertEqual(sum((1, 3, 5)), 10, \"It should be 10\")\n",
        "\n",
        "if __name__ == '__main__':\n",
        "    unittest.main()"
      ]
    },
    {
      "cell_type": "code",
      "source": [
        "pip install numpy"
      ],
      "metadata": {
        "colab": {
          "base_uri": "https://localhost:8080/"
        },
        "id": "4z7BDk6ef_Ee",
        "outputId": "5eaba6a2-1f0a-4888-b046-e7db33bc77d6"
      },
      "execution_count": null,
      "outputs": [
        {
          "output_type": "stream",
          "name": "stdout",
          "text": [
            "Looking in indexes: https://pypi.org/simple, https://us-python.pkg.dev/colab-wheels/public/simple/\n",
            "Requirement already satisfied: numpy in /usr/local/lib/python3.10/dist-packages (1.22.4)\n"
          ]
        }
      ]
    },
    {
      "cell_type": "markdown",
      "metadata": {
        "id": "ndXFBKTSCW1U"
      },
      "source": [
        "**17 june 2023**"
      ]
    },
    {
      "cell_type": "code",
      "source": [
        "import numpy as np\n",
        "\n",
        "list1 = [1,2,3,4]\n",
        "ar1 = np.array(list1)\n",
        "print(type(ar1))\n",
        "print(ar1)"
      ],
      "metadata": {
        "colab": {
          "base_uri": "https://localhost:8080/"
        },
        "id": "nSMvS39Qf_0l",
        "outputId": "a97ba321-fbe0-4436-ee06-34d70508348e"
      },
      "execution_count": null,
      "outputs": [
        {
          "output_type": "stream",
          "name": "stdout",
          "text": [
            "<class 'numpy.ndarray'>\n",
            "[1 2 3 4]\n"
          ]
        }
      ]
    },
    {
      "cell_type": "code",
      "source": [
        "import numpy as np  #should have same length\n",
        "\n",
        "list1 = [1,2,3,4]\n",
        "ar1 = np.array(list1)\n",
        "print(type(ar1))\n",
        "print(ar1)\n",
        "list2=[1,2,3,4]\n",
        "ar2=np.array(list2)\n",
        "print(ar1 + ar2)\n"
      ],
      "metadata": {
        "colab": {
          "base_uri": "https://localhost:8080/"
        },
        "id": "PZ72mY4NghMD",
        "outputId": "b42eb1af-1025-4ff5-a6c5-eb8c85cbe882"
      },
      "execution_count": null,
      "outputs": [
        {
          "output_type": "stream",
          "name": "stdout",
          "text": [
            "<class 'numpy.ndarray'>\n",
            "[1 2 3 4]\n",
            "[2 4 6 8]\n"
          ]
        }
      ]
    },
    {
      "cell_type": "code",
      "source": [
        "list3=[1,2,3]\n",
        "list4=[5,6,7]\n",
        "\n",
        "ar3 =  np.array([list3,list4])\n",
        "print(ar3)\n",
        "print(ar3[1][0])"
      ],
      "metadata": {
        "colab": {
          "base_uri": "https://localhost:8080/"
        },
        "id": "_aCVCq5fhaFF",
        "outputId": "a275cbe9-92d8-4b05-f3a8-c9253844007b"
      },
      "execution_count": null,
      "outputs": [
        {
          "output_type": "stream",
          "name": "stdout",
          "text": [
            "[[1 2 3]\n",
            " [5 6 7]]\n",
            "5\n"
          ]
        }
      ]
    },
    {
      "cell_type": "code",
      "source": [
        "arZeros = np.zeros(3,dtype=int)  #by default  float\n",
        "print(arZeros)"
      ],
      "metadata": {
        "colab": {
          "base_uri": "https://localhost:8080/"
        },
        "id": "GDmSceZ2jrc0",
        "outputId": "c59b0af6-331d-44cc-c723-5a2d0034e1db"
      },
      "execution_count": null,
      "outputs": [
        {
          "output_type": "stream",
          "name": "stdout",
          "text": [
            "[0 0 0]\n"
          ]
        }
      ]
    },
    {
      "cell_type": "code",
      "source": [
        "arOnes = np.ones(5)  #by default  float\n",
        "print(arOnes)"
      ],
      "metadata": {
        "colab": {
          "base_uri": "https://localhost:8080/"
        },
        "id": "tXQebcC3kUdS",
        "outputId": "5c0e045d-e82e-4892-e261-c84f3851d751"
      },
      "execution_count": null,
      "outputs": [
        {
          "output_type": "stream",
          "name": "stdout",
          "text": [
            "[1. 1. 1. 1. 1.]\n"
          ]
        }
      ]
    },
    {
      "cell_type": "code",
      "source": [
        "arOnes = np.ones(5 , dtype=int)  #by default  float\n",
        "print(arOnes)"
      ],
      "metadata": {
        "colab": {
          "base_uri": "https://localhost:8080/"
        },
        "id": "n4wyIDEelCzO",
        "outputId": "6713dd51-7a42-4956-88bc-890fde486a81"
      },
      "execution_count": null,
      "outputs": [
        {
          "output_type": "stream",
          "name": "stdout",
          "text": [
            "[1 1 1 1 1]\n"
          ]
        }
      ]
    },
    {
      "cell_type": "code",
      "source": [
        "arEmpty = np.empty(3)\n",
        "print(arEmpty)"
      ],
      "metadata": {
        "colab": {
          "base_uri": "https://localhost:8080/"
        },
        "id": "yAb1uiZRlHZC",
        "outputId": "4a482ada-e2e9-43e5-a75c-0024669a2151"
      },
      "execution_count": null,
      "outputs": [
        {
          "output_type": "stream",
          "name": "stdout",
          "text": [
            "[1. 1. 1.]\n"
          ]
        }
      ]
    },
    {
      "cell_type": "code",
      "source": [
        "arArange = np.arange(1,25)\n",
        "print(arArange)"
      ],
      "metadata": {
        "colab": {
          "base_uri": "https://localhost:8080/"
        },
        "id": "AklLcl78lxg4",
        "outputId": "ec26a9f3-110b-428a-c22d-53f558d3f8b8"
      },
      "execution_count": null,
      "outputs": [
        {
          "output_type": "stream",
          "name": "stdout",
          "text": [
            "[ 1  2  3  4  5  6  7  8  9 10 11 12 13 14 15 16 17 18 19 20 21 22 23 24]\n"
          ]
        }
      ]
    },
    {
      "cell_type": "code",
      "source": [
        "arReshaped = np.reshape(4,6)\n",
        "print(arReshaped)"
      ],
      "metadata": {
        "colab": {
          "base_uri": "https://localhost:8080/"
        },
        "id": "L8rh2RqVmqDF",
        "outputId": "7cebe554-2883-465e-8962-8794d370f23e"
      },
      "execution_count": null,
      "outputs": [
        {
          "output_type": "stream",
          "name": "stdout",
          "text": [
            "[[ 1  2  3  4  5  6]\n",
            " [ 7  8  9 10 11 12]\n",
            " [13 14 15 16 17 18]\n",
            " [19 20 21 22 23 24]]\n"
          ]
        }
      ]
    },
    {
      "cell_type": "code",
      "source": [
        "arArange = np.arange(1,11)\n",
        "print(arArange.max())\n",
        "print(arArange.min())\n",
        "print(arArange.sum())\n",
        "print(arArange.mean())"
      ],
      "metadata": {
        "id": "imj1wNfHnpmY"
      },
      "execution_count": null,
      "outputs": []
    },
    {
      "cell_type": "code",
      "source": [
        "aboutMyarray = np.arange(1,11).reshape(2,5)\n",
        "print(aboutMyarray.ndim)\n",
        "print(aboutMyarray.size)\n",
        "print(aboutMyarray.shape)"
      ],
      "metadata": {
        "id": "MFcOfZrTqfaS"
      },
      "execution_count": null,
      "outputs": []
    },
    {
      "cell_type": "code",
      "source": [
        "listId = [1,3,4]\n",
        "checkIdArray = np.array(listId)\n",
        "print(checkIdArray)\n",
        "print(id(checkIdArray))\n",
        "print(id(checkIdArray[0]))\n",
        "print(id(checkIdArray[1]))\n",
        "print(id(checkIdArray[2]))\n"
      ],
      "metadata": {
        "id": "BWbObqCvq-oC"
      },
      "execution_count": null,
      "outputs": []
    },
    {
      "cell_type": "code",
      "source": [
        "searchArray = np.arange(20,50)\n",
        "print(searchArray[0:5])\n",
        "print(searchArray[searchArray>30])\n",
        "print(searchArray >30)"
      ],
      "metadata": {
        "id": "CWe7l7OssIYn"
      },
      "execution_count": null,
      "outputs": []
    },
    {
      "cell_type": "code",
      "source": [
        "#pandas.......\n",
        "\n",
        "l1 = [1,2,3,4]\n",
        "s1 = pd.Series(l1)\n",
        "print(s1)"
      ],
      "metadata": {
        "id": "ifAjBhSXsq1N"
      },
      "execution_count": null,
      "outputs": []
    },
    {
      "cell_type": "code",
      "source": [
        "dict1 - {1:100 , 2:200 , 3:300}\n",
        "s2 = pd.Series(dict1)\n",
        "print(s2)\n"
      ],
      "metadata": {
        "id": "Ju1JtWMntHrw"
      },
      "execution_count": null,
      "outputs": []
    },
    {
      "cell_type": "code",
      "source": [
        "df1 = pd.Dataframe(l1)\n",
        "print(df1)"
      ],
      "metadata": {
        "id": "HKgaayM9tSFJ"
      },
      "execution_count": null,
      "outputs": []
    },
    {
      "cell_type": "code",
      "source": [
        "#multi objects as Series\n",
        "\n",
        "list1 = [1,2,3,4]\n",
        "list2 = [5,6,7,8]\n",
        "\n",
        "lisMul = [list1 , list2]\n",
        "\n",
        "\n",
        "sListMul = pd.Series(lisMul)\n",
        "print(sListMul)\n",
        "\n",
        "\n",
        "\n",
        "\n"
      ],
      "metadata": {
        "id": "9knkQMPFt8e9"
      },
      "execution_count": null,
      "outputs": []
    },
    {
      "cell_type": "code",
      "source": [
        "#loc\n",
        "#iloc\n",
        "\n",
        "list1 = [1,2,3,4]\n",
        "list2 = [5,6,7,8]\n",
        "\n",
        "find = [list1,list2]\n",
        "dffind = pd.DataFrame(find)\n",
        "print(dffind)"
      ],
      "metadata": {
        "id": "2LBSzeS7vABY"
      },
      "execution_count": null,
      "outputs": []
    },
    {
      "cell_type": "markdown",
      "source": [
        "**24 june 2023**"
      ],
      "metadata": {
        "id": "Dz8gFY9tvjZg"
      }
    },
    {
      "cell_type": "code",
      "source": [
        "#regular expressions\n",
        "\n",
        "import re\n",
        "x='how are you'\n",
        "xy=re.search(\"^The.*Spain$\",x)\n",
        "print(xy)"
      ],
      "metadata": {
        "colab": {
          "base_uri": "https://localhost:8080/"
        },
        "id": "Ai5oe8g8vmzu",
        "outputId": "35b96bfb-22e0-4de3-900f-a0ca8c2a6a7f"
      },
      "execution_count": null,
      "outputs": [
        {
          "output_type": "stream",
          "name": "stdout",
          "text": [
            "None\n"
          ]
        }
      ]
    },
    {
      "cell_type": "code",
      "source": [
        "txt=\"the rain in spain\"\n",
        "x=re.findall(\"ra\",txt)\n",
        "print(x)"
      ],
      "metadata": {
        "colab": {
          "base_uri": "https://localhost:8080/"
        },
        "id": "WzpniEJVwIgR",
        "outputId": "32adace9-b01a-4724-aa56-012ee590db5a"
      },
      "execution_count": null,
      "outputs": [
        {
          "output_type": "stream",
          "name": "stdout",
          "text": [
            "['ra']\n"
          ]
        }
      ]
    },
    {
      "cell_type": "code",
      "source": [
        "import re\n",
        "txt = \"java \\n python \\n java\"\n",
        "x=re.search(\".+\",txt)\n",
        "print(x)"
      ],
      "metadata": {
        "colab": {
          "base_uri": "https://localhost:8080/"
        },
        "id": "sgIBFhpCwUkV",
        "outputId": "c72b0508-59cd-426d-9da7-eb142ee11b99"
      },
      "execution_count": null,
      "outputs": [
        {
          "output_type": "stream",
          "name": "stdout",
          "text": [
            "<re.Match object; span=(0, 5), match='java '>\n"
          ]
        }
      ]
    },
    {
      "cell_type": "code",
      "source": [
        "import re\n",
        "txt = \"java \\n python \\n java\"\n",
        "x=re.split(\"\\s\",txt)\n",
        "print(x)"
      ],
      "metadata": {
        "colab": {
          "base_uri": "https://localhost:8080/"
        },
        "id": "Vfj4azJ5wxkC",
        "outputId": "16cae108-9530-4839-b1c3-b2deeec88bb3"
      },
      "execution_count": null,
      "outputs": [
        {
          "output_type": "stream",
          "name": "stdout",
          "text": [
            "['java', '', '', 'python', '', '', 'java']\n"
          ]
        }
      ]
    },
    {
      "cell_type": "code",
      "source": [
        "import re\n",
        "txt = \"java \\n python \\n java\"\n",
        "x=re.split(\"\\s\",txt,2)\n",
        "print(x)"
      ],
      "metadata": {
        "colab": {
          "base_uri": "https://localhost:8080/"
        },
        "id": "ofoNnm7fw4F0",
        "outputId": "74cfb37b-79d0-497f-a69d-b5acb956ae92"
      },
      "execution_count": null,
      "outputs": [
        {
          "output_type": "stream",
          "name": "stdout",
          "text": [
            "['java', '', ' python \\n java']\n"
          ]
        }
      ]
    },
    {
      "cell_type": "code",
      "source": [
        "import re\n",
        "txt = \"java python and advancce java\"\n",
        "x=re.sub(\"\\s\",\"9\",txt)\n",
        "print(x)"
      ],
      "metadata": {
        "colab": {
          "base_uri": "https://localhost:8080/"
        },
        "id": "p6ig4EHkxNc3",
        "outputId": "6496b443-1507-498e-e5f0-f671be257560"
      },
      "execution_count": null,
      "outputs": [
        {
          "output_type": "stream",
          "name": "stdout",
          "text": [
            "java9python9and9advancce9java\n"
          ]
        }
      ]
    },
    {
      "cell_type": "code",
      "source": [
        "import re\n",
        "txt = \"java \\n python \\n java\"\n",
        "x=re.sub(\"\\s\",\"gk\",txt,2)\n",
        "print(x)"
      ],
      "metadata": {
        "colab": {
          "base_uri": "https://localhost:8080/"
        },
        "id": "LMczBEIuxeNn",
        "outputId": "870349f8-4ac9-453d-ced7-0eb397d9f834"
      },
      "execution_count": null,
      "outputs": [
        {
          "output_type": "stream",
          "name": "stdout",
          "text": [
            "javagkgk python \n",
            " java\n"
          ]
        }
      ]
    },
    {
      "cell_type": "code",
      "source": [
        "import re\n",
        "\n",
        "txt=\"my nme is Gauri\"\n",
        "x=re.search(r\"\\bG\\w+\",txt)\n",
        "print(x.span())"
      ],
      "metadata": {
        "colab": {
          "base_uri": "https://localhost:8080/"
        },
        "id": "-IL5-pV2x5Fc",
        "outputId": "a026c690-c735-4e21-8cb9-e31ca5eb586f"
      },
      "execution_count": null,
      "outputs": [
        {
          "output_type": "stream",
          "name": "stdout",
          "text": [
            "(10, 15)\n"
          ]
        }
      ]
    },
    {
      "cell_type": "code",
      "source": [
        "import re\n",
        "txt=\"my name is Gk\"\n",
        "x=re.search(r\"\\bG\\w+\",txt)\n",
        "print(x.string)"
      ],
      "metadata": {
        "colab": {
          "base_uri": "https://localhost:8080/"
        },
        "id": "K0GVuo3Mykxv",
        "outputId": "d0eccdd4-6709-4954-8b0f-806dbe51a898"
      },
      "execution_count": null,
      "outputs": [
        {
          "output_type": "stream",
          "name": "stdout",
          "text": [
            "my name is Gk\n"
          ]
        }
      ]
    },
    {
      "cell_type": "code",
      "source": [
        "import re\n",
        "\n",
        "txt=\"my nme is Gauri\"\n",
        "x=re.search(r\"\\bG\\w+\",txt)\n",
        "print(x.group())"
      ],
      "metadata": {
        "id": "rGO_RgAIzAAG",
        "outputId": "77313251-7272-4a07-e4b4-0cc793562bb1",
        "colab": {
          "base_uri": "https://localhost:8080/"
        }
      },
      "execution_count": null,
      "outputs": [
        {
          "output_type": "stream",
          "name": "stdout",
          "text": [
            "Gauri\n"
          ]
        }
      ]
    }
  ],
  "metadata": {
    "colab": {
      "provenance": []
    },
    "kernelspec": {
      "display_name": "Python 3",
      "name": "python3"
    },
    "language_info": {
      "name": "python"
    }
  },
  "nbformat": 4,
  "nbformat_minor": 0
}